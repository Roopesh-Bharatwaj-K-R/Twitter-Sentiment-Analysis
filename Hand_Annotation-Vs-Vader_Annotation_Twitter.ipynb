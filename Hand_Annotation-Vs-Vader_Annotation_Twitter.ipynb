{
 "cells": [
  {
   "cell_type": "markdown",
   "metadata": {},
   "source": [
    "# Phase 1: Use tweepy to gain a critical mass of tweets regarding a chosen topic and annotate the sentiment of the tweets;\n",
    "#          positive, negative, neutral.\n",
    "\n",
    "#          Clean and organise the data, remove duplicates and use techniques from text classification exercise such as stopping \n",
    "#          and stemming to  prepare the dataset.\n",
    "\n"
   ]
  },
  {
   "cell_type": "markdown",
   "metadata": {},
   "source": [
    "# Phase 2: Create a model which can accurately assign a  polarity to a group of new tweets within the chosen topic. \n",
    "#          Test your model against a different domain eg politics model on sports or tech.\n",
    "\n"
   ]
  },
  {
   "cell_type": "code",
   "execution_count": 441,
   "metadata": {},
   "outputs": [],
   "source": [
    "# Chosen Topic for Twitter Data Streaming -> US Political Personalities (\"Hilary Clinton\", \"Trump\", \"Obama\", \"Bernie Snders\")\n",
    "# tweets fetched from -> March 2021 till April 2021.\n",
    "# Chosen Dataset for Training-> AmericaN Airlines.\n",
    "\n",
    "# https://github.com/Roopesh-Bharatwaj-K-R/Twitter-Sentiment-Analysis-Vader-NaiveBayes/blob/main/ROOPESH_twitter.ipynb"
   ]
  },
  {
   "cell_type": "code",
   "execution_count": 442,
   "metadata": {},
   "outputs": [],
   "source": [
    "# STEPS CARRIED OUT:\n",
    "\n",
    "# 1-> Feature Engineering for Fetched Data in Twitter\n",
    "# 2-> Removing Patterns from Tweet\n",
    "# 3-> Performing Vader for the tweets\n",
    "# 4-> NLP:  Stop words, Stemmer, Lemmatizes, TFIDF \n",
    "\n",
    "# 5-> Modelling Hand Annotated Tweets\n",
    "    # 5.1 -> Naive Bayes\n",
    "    # 5.2 -> SVM RBF Kernel\n",
    "    # 5.3 -> MLP Classifier\n",
    "    # 5.4 -> Perceptron \n",
    "    \n",
    "# 6-> Overall Accuraccy for the Hand Annotated Tweets\n",
    "\n",
    "# 7-> Comparing Vader with each Models for Accuracy\n",
    "    # 7.1 -> Overall Accuracy for Vader tweets with Model result\n",
    "    \n",
    "# 8-> Testing of Airlines Dataset\n",
    "    # 8.1-> Testing tweets with each Models( Naive Bayes/SVM/MLP/Perceptron)\n",
    "    # 8.2 -> using both given annotation in dataset and the vader annotation\n",
    "    # 8.3 -> Overall Tested Results.\n",
    "\n",
    "#9-> conclusion.\n",
    "    "
   ]
  },
  {
   "cell_type": "code",
   "execution_count": 443,
   "metadata": {},
   "outputs": [],
   "source": [
    "import pandas as pd\n",
    "import numpy as np\n",
    "import matplotlib.pyplot as plt\n",
    "import seaborn as sns\n",
    "from datetime import datetime\n",
    "import time\n",
    "import matplotlib.pyplot as plt"
   ]
  },
  {
   "cell_type": "code",
   "execution_count": 444,
   "metadata": {},
   "outputs": [],
   "source": [
    "# lOADING OF COMPLETE 750+ HAND ANNOTATED TWEETS."
   ]
  },
  {
   "cell_type": "code",
   "execution_count": 445,
   "metadata": {},
   "outputs": [],
   "source": [
    "csv= pd.read_csv(\"C:/Users/user/PycharmProjects/Twitter _tweets_fetching/tweets_csv/new_csv/combined_csv.csv\")"
   ]
  },
  {
   "cell_type": "markdown",
   "metadata": {},
   "source": [
    "# FEATURE ENGINEERING"
   ]
  },
  {
   "cell_type": "code",
   "execution_count": 446,
   "metadata": {},
   "outputs": [],
   "source": [
    "csv.dropna(inplace= True)"
   ]
  },
  {
   "cell_type": "code",
   "execution_count": 447,
   "metadata": {},
   "outputs": [],
   "source": [
    "csv.drop(csv.iloc[:, 0 :1], inplace = True, axis = 1)"
   ]
  },
  {
   "cell_type": "code",
   "execution_count": 448,
   "metadata": {},
   "outputs": [],
   "source": [
    "csv.drop(csv.columns[0], axis = 1, inplace = True)"
   ]
  },
  {
   "cell_type": "code",
   "execution_count": 449,
   "metadata": {},
   "outputs": [],
   "source": [
    "csv.drop(csv.columns[1], axis = 1, inplace = True)"
   ]
  },
  {
   "cell_type": "code",
   "execution_count": 450,
   "metadata": {},
   "outputs": [
    {
     "data": {
      "text/html": [
       "<div>\n",
       "<style scoped>\n",
       "    .dataframe tbody tr th:only-of-type {\n",
       "        vertical-align: middle;\n",
       "    }\n",
       "\n",
       "    .dataframe tbody tr th {\n",
       "        vertical-align: top;\n",
       "    }\n",
       "\n",
       "    .dataframe thead th {\n",
       "        text-align: right;\n",
       "    }\n",
       "</style>\n",
       "<table border=\"1\" class=\"dataframe\">\n",
       "  <thead>\n",
       "    <tr style=\"text-align: right;\">\n",
       "      <th></th>\n",
       "      <th>Tweet</th>\n",
       "      <th>Hand_Annotated_Sentiment</th>\n",
       "    </tr>\n",
       "  </thead>\n",
       "  <tbody>\n",
       "    <tr>\n",
       "      <th>0</th>\n",
       "      <td>text:\"ofc liberals are on the opposite side of...</td>\n",
       "      <td>Neutral</td>\n",
       "    </tr>\n",
       "    <tr>\n",
       "      <th>4</th>\n",
       "      <td>text:\"Bernie Sanders reveals that the family f...</td>\n",
       "      <td>Positive</td>\n",
       "    </tr>\n",
       "    <tr>\n",
       "      <th>8</th>\n",
       "      <td>text:\"TRUE TRUE TRUE\"</td>\n",
       "      <td>Neutral</td>\n",
       "    </tr>\n",
       "    <tr>\n",
       "      <th>14</th>\n",
       "      <td>text:\"The Neverending Grift\"</td>\n",
       "      <td>Negative</td>\n",
       "    </tr>\n",
       "    <tr>\n",
       "      <th>16</th>\n",
       "      <td>text:\"Bernie Sanders is including the $Positiv...</td>\n",
       "      <td>Positive</td>\n",
       "    </tr>\n",
       "    <tr>\n",
       "      <th>...</th>\n",
       "      <td>...</td>\n",
       "      <td>...</td>\n",
       "    </tr>\n",
       "    <tr>\n",
       "      <th>5608</th>\n",
       "      <td>text:\"presidency</td>\n",
       "      <td>Neutral</td>\n",
       "    </tr>\n",
       "    <tr>\n",
       "      <th>5618</th>\n",
       "      <td>text:\"@sharon4marie Reminds me of how this God...</td>\n",
       "      <td>Positive</td>\n",
       "    </tr>\n",
       "    <tr>\n",
       "      <th>5624</th>\n",
       "      <td>text:\"@DLoesch Kamala Harris\\nBarack Obama.\"</td>\n",
       "      <td>Neutral</td>\n",
       "    </tr>\n",
       "    <tr>\n",
       "      <th>5626</th>\n",
       "      <td>text:\"@schnaw_ @WarnerMedia @Twitter Twitter h...</td>\n",
       "      <td>Negative</td>\n",
       "    </tr>\n",
       "    <tr>\n",
       "      <th>5630</th>\n",
       "      <td>text:\"@WilliamJPositivek when hillary clinton ...</td>\n",
       "      <td>Negative</td>\n",
       "    </tr>\n",
       "  </tbody>\n",
       "</table>\n",
       "<p>777 rows × 2 columns</p>\n",
       "</div>"
      ],
      "text/plain": [
       "                                                  Tweet  \\\n",
       "0     text:\"ofc liberals are on the opposite side of...   \n",
       "4     text:\"Bernie Sanders reveals that the family f...   \n",
       "8                                 text:\"TRUE TRUE TRUE\"   \n",
       "14                         text:\"The Neverending Grift\"   \n",
       "16    text:\"Bernie Sanders is including the $Positiv...   \n",
       "...                                                 ...   \n",
       "5608                                   text:\"presidency   \n",
       "5618  text:\"@sharon4marie Reminds me of how this God...   \n",
       "5624       text:\"@DLoesch Kamala Harris\\nBarack Obama.\"   \n",
       "5626  text:\"@schnaw_ @WarnerMedia @Twitter Twitter h...   \n",
       "5630  text:\"@WilliamJPositivek when hillary clinton ...   \n",
       "\n",
       "     Hand_Annotated_Sentiment  \n",
       "0                     Neutral  \n",
       "4                    Positive  \n",
       "8                     Neutral  \n",
       "14                   Negative  \n",
       "16                   Positive  \n",
       "...                       ...  \n",
       "5608                  Neutral  \n",
       "5618                 Positive  \n",
       "5624                  Neutral  \n",
       "5626                 Negative  \n",
       "5630                 Negative  \n",
       "\n",
       "[777 rows x 2 columns]"
      ]
     },
     "execution_count": 450,
     "metadata": {},
     "output_type": "execute_result"
    }
   ],
   "source": [
    "csv"
   ]
  },
  {
   "cell_type": "markdown",
   "metadata": {},
   "source": [
    "# Removing Patterns from Tweet"
   ]
  },
  {
   "cell_type": "code",
   "execution_count": 451,
   "metadata": {},
   "outputs": [],
   "source": [
    "#cleaning the tweets\n",
    "import re\n",
    "def remove_pattern(input_txt, pattern):\n",
    "    r = re.findall(pattern, input_txt)\n",
    "    for i in r:\n",
    "        input_txt = re.sub(i, '', input_txt)        \n",
    "    return input_txt\n",
    "\n",
    "def cleaning_tweets(tweets):\n",
    "    # remove twitter Return handles (RT @xxx:)\n",
    "    tweets = np.vectorize(remove_pattern)(tweets, \"RT @[\\w]*:\") \n",
    "    tweets = np.vectorize(remove_pattern)(tweets, \"text:\") # removing text in the tweets\n",
    "    tweets = np.vectorize(remove_pattern)(tweets, \"ud83d\")  # removing most repeated Emoji\n",
    "    tweets = np.vectorize(remove_pattern)(tweets, \"ude2d\")   # removing most repeated Emoji\n",
    "    tweets = np.vectorize(remove_pattern)(tweets, \"u2026\")    # removing most repeated Emoji\n",
    "    tweets = np.vectorize(remove_pattern)(tweets, \"udce3\") \n",
    "    tweets = np.vectorize(remove_pattern)(tweets, \"ud83e\")\n",
    "    tweets = np.vectorize(remove_pattern)(tweets, \"udd2c\")    #\"ud83e\", \"udd2c\") # ud83e\\udd2c\\ud83e\\ u2019\n",
    "    tweets = np.vectorize(remove_pattern)(tweets, \"u2019\")\n",
    "    \n",
    "    # remove twitter handles (@xxx)\n",
    "    tweets = np.vectorize(remove_pattern)(tweets, \"@[\\w]*\")\n",
    "    \n",
    "    # remove URL links (httpxxx)\n",
    "    tweets = np.vectorize(remove_pattern)(tweets, \"https|http?://\\\\/\\\\/[A-Za-z0-9./]*\")\n",
    "    tweets = np.vectorize(remove_pattern)(tweets, \"#*\" ) # remove # tag\n",
    "    tweets = np.vectorize(remove_pattern)(tweets, \"\\n*\" )\n",
    "    \n",
    "    # remove special characters, numbers, punctuations (except for #)\n",
    "    tweets = np.core.defchararray.replace(tweets, \"[^a-zA-Z]\", \" \")\n",
    "    tweets = np.core.defchararray.replace(tweets, \"[\\/?!:.\"\"'']\", \" \")\n",
    "    \n",
    "    \n",
    "    \n",
    "    return tweets\n",
    "cleaning = lambda a: cleaning_tweets(a)"
   ]
  },
  {
   "cell_type": "code",
   "execution_count": 452,
   "metadata": {},
   "outputs": [],
   "source": [
    "\n",
    "csv.Tweet= pd.DataFrame(csv.Tweet.apply(cleaning))\n",
    "\n"
   ]
  },
  {
   "cell_type": "code",
   "execution_count": 453,
   "metadata": {},
   "outputs": [],
   "source": [
    "#csv.Tweet.head(60)"
   ]
  },
  {
   "cell_type": "code",
   "execution_count": 454,
   "metadata": {},
   "outputs": [],
   "source": [
    "csv.drop_duplicates(keep=False,inplace=True)"
   ]
  },
  {
   "cell_type": "code",
   "execution_count": 455,
   "metadata": {},
   "outputs": [
    {
     "data": {
      "text/html": [
       "<div>\n",
       "<style scoped>\n",
       "    .dataframe tbody tr th:only-of-type {\n",
       "        vertical-align: middle;\n",
       "    }\n",
       "\n",
       "    .dataframe tbody tr th {\n",
       "        vertical-align: top;\n",
       "    }\n",
       "\n",
       "    .dataframe thead th {\n",
       "        text-align: right;\n",
       "    }\n",
       "</style>\n",
       "<table border=\"1\" class=\"dataframe\">\n",
       "  <thead>\n",
       "    <tr style=\"text-align: right;\">\n",
       "      <th></th>\n",
       "      <th>Tweet</th>\n",
       "      <th>Hand_Annotated_Sentiment</th>\n",
       "    </tr>\n",
       "  </thead>\n",
       "  <tbody>\n",
       "    <tr>\n",
       "      <th>0</th>\n",
       "      <td>\"ofc liberals are on the opposite side of that...</td>\n",
       "      <td>Neutral</td>\n",
       "    </tr>\n",
       "    <tr>\n",
       "      <th>4</th>\n",
       "      <td>\"Bernie Sanders reveals that the family feel s...</td>\n",
       "      <td>Positive</td>\n",
       "    </tr>\n",
       "    <tr>\n",
       "      <th>8</th>\n",
       "      <td>\"TRUE TRUE TRUE\"</td>\n",
       "      <td>Neutral</td>\n",
       "    </tr>\n",
       "    <tr>\n",
       "      <th>14</th>\n",
       "      <td>\"The Neverending Grift\"</td>\n",
       "      <td>Negative</td>\n",
       "    </tr>\n",
       "    <tr>\n",
       "      <th>16</th>\n",
       "      <td>\"Bernie Sanders is including the $Positive5 mi...</td>\n",
       "      <td>Positive</td>\n",
       "    </tr>\n",
       "    <tr>\n",
       "      <th>...</th>\n",
       "      <td>...</td>\n",
       "      <td>...</td>\n",
       "    </tr>\n",
       "    <tr>\n",
       "      <th>5608</th>\n",
       "      <td>\"presidency</td>\n",
       "      <td>Neutral</td>\n",
       "    </tr>\n",
       "    <tr>\n",
       "      <th>5618</th>\n",
       "      <td>\" Reminds me of how this God-fearing country u...</td>\n",
       "      <td>Positive</td>\n",
       "    </tr>\n",
       "    <tr>\n",
       "      <th>5624</th>\n",
       "      <td>\" Kamala Harris\\nBarack Obama.\"</td>\n",
       "      <td>Neutral</td>\n",
       "    </tr>\n",
       "    <tr>\n",
       "      <th>5626</th>\n",
       "      <td>\"   Twitter has your image flagged as \\\"potent...</td>\n",
       "      <td>Negative</td>\n",
       "    </tr>\n",
       "    <tr>\n",
       "      <th>5630</th>\n",
       "      <td>\" when hillary clinton tried to get elected by...</td>\n",
       "      <td>Negative</td>\n",
       "    </tr>\n",
       "  </tbody>\n",
       "</table>\n",
       "<p>751 rows × 2 columns</p>\n",
       "</div>"
      ],
      "text/plain": [
       "                                                  Tweet  \\\n",
       "0     \"ofc liberals are on the opposite side of that...   \n",
       "4     \"Bernie Sanders reveals that the family feel s...   \n",
       "8                                      \"TRUE TRUE TRUE\"   \n",
       "14                              \"The Neverending Grift\"   \n",
       "16    \"Bernie Sanders is including the $Positive5 mi...   \n",
       "...                                                 ...   \n",
       "5608                                        \"presidency   \n",
       "5618  \" Reminds me of how this God-fearing country u...   \n",
       "5624                    \" Kamala Harris\\nBarack Obama.\"   \n",
       "5626  \"   Twitter has your image flagged as \\\"potent...   \n",
       "5630  \" when hillary clinton tried to get elected by...   \n",
       "\n",
       "     Hand_Annotated_Sentiment  \n",
       "0                     Neutral  \n",
       "4                    Positive  \n",
       "8                     Neutral  \n",
       "14                   Negative  \n",
       "16                   Positive  \n",
       "...                       ...  \n",
       "5608                  Neutral  \n",
       "5618                 Positive  \n",
       "5624                  Neutral  \n",
       "5626                 Negative  \n",
       "5630                 Negative  \n",
       "\n",
       "[751 rows x 2 columns]"
      ]
     },
     "execution_count": 455,
     "metadata": {},
     "output_type": "execute_result"
    }
   ],
   "source": [
    "csv"
   ]
  },
  {
   "cell_type": "code",
   "execution_count": 456,
   "metadata": {},
   "outputs": [],
   "source": [
    "# wordcloud in the tweets"
   ]
  },
  {
   "cell_type": "code",
   "execution_count": 457,
   "metadata": {},
   "outputs": [
    {
     "data": {
      "image/png": "[encoded data removed]",
      "text/plain": [
       "<Figure size 864x720 with 1 Axes>"
      ]
     },
     "metadata": {},
     "output_type": "display_data"
    }
   ],
   "source": [
    "from wordcloud import WordCloud, STOPWORDS, ImageColorGenerator\n",
    "def word_cloud(wd_list):\n",
    "    stopwords = set(STOPWORDS)\n",
    "    all_words = ' '.join([text for text in wd_list])\n",
    "    wordcloud = WordCloud(\n",
    "        background_color='black',\n",
    "        stopwords=stopwords,\n",
    "        width=1600,\n",
    "        height=800,\n",
    "        random_state=1,\n",
    "        colormap='jet',\n",
    "        max_words=80,\n",
    "        max_font_size=200).generate(all_words)\n",
    "    plt.figure(figsize=(12, 10))\n",
    "    plt.axis('off')\n",
    "    plt.imshow(wordcloud, interpolation=\"bilinear\");\n",
    "word_cloud(csv.Tweet)"
   ]
  },
  {
   "cell_type": "markdown",
   "metadata": {},
   "source": [
    "# VADER SENTIMENT ANALYSIS FOR  STREAMED TWEEST DATA"
   ]
  },
  {
   "cell_type": "code",
   "execution_count": 458,
   "metadata": {},
   "outputs": [],
   "source": [
    "# VADER ( Valence Aware Dictionary for Sentiment Reasoning) in the NLTK package and can be applied directly to unlabelled text \n",
    "# data.  A model used for text sentiment analysis that is sensitive to both polarity (positive/negative) and intensity (strength)\n",
    "# of emotion. It is available.\n",
    "\n",
    "# VADER sentimental analysis relies on a dictionary that maps lexical features to emotion intensities known as sentiment scores. \n",
    "# The sentiment score of a text can be obtained by summing up the intensity of each word in the text.\n",
    "# dictionary of scores in each of four categories as Negative, Neutral, Positive, and compound Normalized scores of\n",
    "# Positive, Negative, Neutral)"
   ]
  },
  {
   "cell_type": "code",
   "execution_count": 459,
   "metadata": {},
   "outputs": [
    {
     "name": "stderr",
     "output_type": "stream",
     "text": [
      "[nltk_data] Downloading package vader_lexicon to\n",
      "[nltk_data]     C:\\Users\\user\\AppData\\Roaming\\nltk_data...\n",
      "[nltk_data]   Package vader_lexicon is already up-to-date!\n"
     ]
    },
    {
     "data": {
      "text/plain": [
       "True"
      ]
     },
     "execution_count": 459,
     "metadata": {},
     "output_type": "execute_result"
    }
   ],
   "source": [
    "import nltk\n",
    "nltk.download('vader_lexicon')"
   ]
  },
  {
   "cell_type": "code",
   "execution_count": 460,
   "metadata": {},
   "outputs": [],
   "source": [
    "from vaderSentiment.vaderSentiment import SentimentIntensityAnalyzer\n",
    "vader = SentimentIntensityAnalyzer()"
   ]
  },
  {
   "cell_type": "code",
   "execution_count": 461,
   "metadata": {},
   "outputs": [
    {
     "data": {
      "text/plain": [
       "{'neg': 0.437, 'neu': 0.316, 'pos': 0.247, 'compound': -0.4215}"
      ]
     },
     "execution_count": 461,
     "metadata": {},
     "output_type": "execute_result"
    }
   ],
   "source": [
    "# sample check -1\n",
    "vader.polarity_scores(\"I happy but bit sad.\")"
   ]
  },
  {
   "cell_type": "code",
   "execution_count": 462,
   "metadata": {},
   "outputs": [
    {
     "data": {
      "text/plain": [
       "{'neg': 0.0, 'neu': 0.213, 'pos': 0.787, 'compound': 0.5719}"
      ]
     },
     "execution_count": 462,
     "metadata": {},
     "output_type": "execute_result"
    }
   ],
   "source": [
    "# sample check-2\n",
    "vader.polarity_scores(\"I happy.\")"
   ]
  },
  {
   "cell_type": "code",
   "execution_count": 463,
   "metadata": {},
   "outputs": [],
   "source": [
    "csv['Vader_scores'] = csv['Tweet'].apply(lambda Tweets: vader.polarity_scores(Tweets))"
   ]
  },
  {
   "cell_type": "code",
   "execution_count": 464,
   "metadata": {},
   "outputs": [],
   "source": [
    "csv['compound']  = csv['Vader_scores'].apply(lambda score_dict: score_dict['compound'])"
   ]
  },
  {
   "cell_type": "code",
   "execution_count": 465,
   "metadata": {},
   "outputs": [],
   "source": [
    "# Fitting the Polarity based on compound in vader \n",
    "csv['VaderSentiment']=''\n",
    "csv.loc[csv.compound>0,'VaderSentiment']='Positive'\n",
    "csv.loc[csv.compound ==0,'VaderSentiment']='Neutral'\n",
    "csv.loc[csv.compound<0,'VaderSentiment']='Negative'"
   ]
  },
  {
   "cell_type": "code",
   "execution_count": 466,
   "metadata": {},
   "outputs": [
    {
     "data": {
      "text/html": [
       "<div>\n",
       "<style scoped>\n",
       "    .dataframe tbody tr th:only-of-type {\n",
       "        vertical-align: middle;\n",
       "    }\n",
       "\n",
       "    .dataframe tbody tr th {\n",
       "        vertical-align: top;\n",
       "    }\n",
       "\n",
       "    .dataframe thead th {\n",
       "        text-align: right;\n",
       "    }\n",
       "</style>\n",
       "<table border=\"1\" class=\"dataframe\">\n",
       "  <thead>\n",
       "    <tr style=\"text-align: right;\">\n",
       "      <th></th>\n",
       "      <th>Tweet</th>\n",
       "      <th>Hand_Annotated_Sentiment</th>\n",
       "      <th>Vader_scores</th>\n",
       "      <th>compound</th>\n",
       "      <th>VaderSentiment</th>\n",
       "    </tr>\n",
       "  </thead>\n",
       "  <tbody>\n",
       "    <tr>\n",
       "      <th>0</th>\n",
       "      <td>\"ofc liberals are on the opposite side of that...</td>\n",
       "      <td>Neutral</td>\n",
       "      <td>{'neg': 0.0, 'neu': 1.0, 'pos': 0.0, 'compound...</td>\n",
       "      <td>0.0000</td>\n",
       "      <td>Neutral</td>\n",
       "    </tr>\n",
       "    <tr>\n",
       "      <th>4</th>\n",
       "      <td>\"Bernie Sanders reveals that the family feel s...</td>\n",
       "      <td>Positive</td>\n",
       "      <td>{'neg': 0.168, 'neu': 0.71, 'pos': 0.123, 'com...</td>\n",
       "      <td>-0.1779</td>\n",
       "      <td>Negative</td>\n",
       "    </tr>\n",
       "    <tr>\n",
       "      <th>8</th>\n",
       "      <td>\"TRUE TRUE TRUE\"</td>\n",
       "      <td>Neutral</td>\n",
       "      <td>{'neg': 0.0, 'neu': 0.0, 'pos': 1.0, 'compound...</td>\n",
       "      <td>0.8126</td>\n",
       "      <td>Positive</td>\n",
       "    </tr>\n",
       "    <tr>\n",
       "      <th>14</th>\n",
       "      <td>\"The Neverending Grift\"</td>\n",
       "      <td>Negative</td>\n",
       "      <td>{'neg': 0.0, 'neu': 1.0, 'pos': 0.0, 'compound...</td>\n",
       "      <td>0.0000</td>\n",
       "      <td>Neutral</td>\n",
       "    </tr>\n",
       "    <tr>\n",
       "      <th>16</th>\n",
       "      <td>\"Bernie Sanders is including the $Positive5 mi...</td>\n",
       "      <td>Positive</td>\n",
       "      <td>{'neg': 0.0, 'neu': 1.0, 'pos': 0.0, 'compound...</td>\n",
       "      <td>0.0000</td>\n",
       "      <td>Neutral</td>\n",
       "    </tr>\n",
       "    <tr>\n",
       "      <th>...</th>\n",
       "      <td>...</td>\n",
       "      <td>...</td>\n",
       "      <td>...</td>\n",
       "      <td>...</td>\n",
       "      <td>...</td>\n",
       "    </tr>\n",
       "    <tr>\n",
       "      <th>5608</th>\n",
       "      <td>\"presidency</td>\n",
       "      <td>Neutral</td>\n",
       "      <td>{'neg': 0.0, 'neu': 1.0, 'pos': 0.0, 'compound...</td>\n",
       "      <td>0.0000</td>\n",
       "      <td>Neutral</td>\n",
       "    </tr>\n",
       "    <tr>\n",
       "      <th>5618</th>\n",
       "      <td>\" Reminds me of how this God-fearing country u...</td>\n",
       "      <td>Positive</td>\n",
       "      <td>{'neg': 0.0, 'neu': 1.0, 'pos': 0.0, 'compound...</td>\n",
       "      <td>0.0000</td>\n",
       "      <td>Neutral</td>\n",
       "    </tr>\n",
       "    <tr>\n",
       "      <th>5624</th>\n",
       "      <td>\" Kamala Harris\\nBarack Obama.\"</td>\n",
       "      <td>Neutral</td>\n",
       "      <td>{'neg': 0.0, 'neu': 1.0, 'pos': 0.0, 'compound...</td>\n",
       "      <td>0.0000</td>\n",
       "      <td>Neutral</td>\n",
       "    </tr>\n",
       "    <tr>\n",
       "      <th>5626</th>\n",
       "      <td>\"   Twitter has your image flagged as \\\"potent...</td>\n",
       "      <td>Negative</td>\n",
       "      <td>{'neg': 0.0, 'neu': 1.0, 'pos': 0.0, 'compound...</td>\n",
       "      <td>0.0000</td>\n",
       "      <td>Neutral</td>\n",
       "    </tr>\n",
       "    <tr>\n",
       "      <th>5630</th>\n",
       "      <td>\" when hillary clinton tried to get elected by...</td>\n",
       "      <td>Negative</td>\n",
       "      <td>{'neg': 0.196, 'neu': 0.804, 'pos': 0.0, 'comp...</td>\n",
       "      <td>-0.5994</td>\n",
       "      <td>Negative</td>\n",
       "    </tr>\n",
       "  </tbody>\n",
       "</table>\n",
       "<p>751 rows × 5 columns</p>\n",
       "</div>"
      ],
      "text/plain": [
       "                                                  Tweet  \\\n",
       "0     \"ofc liberals are on the opposite side of that...   \n",
       "4     \"Bernie Sanders reveals that the family feel s...   \n",
       "8                                      \"TRUE TRUE TRUE\"   \n",
       "14                              \"The Neverending Grift\"   \n",
       "16    \"Bernie Sanders is including the $Positive5 mi...   \n",
       "...                                                 ...   \n",
       "5608                                        \"presidency   \n",
       "5618  \" Reminds me of how this God-fearing country u...   \n",
       "5624                    \" Kamala Harris\\nBarack Obama.\"   \n",
       "5626  \"   Twitter has your image flagged as \\\"potent...   \n",
       "5630  \" when hillary clinton tried to get elected by...   \n",
       "\n",
       "     Hand_Annotated_Sentiment  \\\n",
       "0                     Neutral   \n",
       "4                    Positive   \n",
       "8                     Neutral   \n",
       "14                   Negative   \n",
       "16                   Positive   \n",
       "...                       ...   \n",
       "5608                  Neutral   \n",
       "5618                 Positive   \n",
       "5624                  Neutral   \n",
       "5626                 Negative   \n",
       "5630                 Negative   \n",
       "\n",
       "                                           Vader_scores  compound  \\\n",
       "0     {'neg': 0.0, 'neu': 1.0, 'pos': 0.0, 'compound...    0.0000   \n",
       "4     {'neg': 0.168, 'neu': 0.71, 'pos': 0.123, 'com...   -0.1779   \n",
       "8     {'neg': 0.0, 'neu': 0.0, 'pos': 1.0, 'compound...    0.8126   \n",
       "14    {'neg': 0.0, 'neu': 1.0, 'pos': 0.0, 'compound...    0.0000   \n",
       "16    {'neg': 0.0, 'neu': 1.0, 'pos': 0.0, 'compound...    0.0000   \n",
       "...                                                 ...       ...   \n",
       "5608  {'neg': 0.0, 'neu': 1.0, 'pos': 0.0, 'compound...    0.0000   \n",
       "5618  {'neg': 0.0, 'neu': 1.0, 'pos': 0.0, 'compound...    0.0000   \n",
       "5624  {'neg': 0.0, 'neu': 1.0, 'pos': 0.0, 'compound...    0.0000   \n",
       "5626  {'neg': 0.0, 'neu': 1.0, 'pos': 0.0, 'compound...    0.0000   \n",
       "5630  {'neg': 0.196, 'neu': 0.804, 'pos': 0.0, 'comp...   -0.5994   \n",
       "\n",
       "     VaderSentiment  \n",
       "0           Neutral  \n",
       "4          Negative  \n",
       "8          Positive  \n",
       "14          Neutral  \n",
       "16          Neutral  \n",
       "...             ...  \n",
       "5608        Neutral  \n",
       "5618        Neutral  \n",
       "5624        Neutral  \n",
       "5626        Neutral  \n",
       "5630       Negative  \n",
       "\n",
       "[751 rows x 5 columns]"
      ]
     },
     "execution_count": 466,
     "metadata": {},
     "output_type": "execute_result"
    }
   ],
   "source": [
    "csv"
   ]
  },
  {
   "cell_type": "code",
   "execution_count": 467,
   "metadata": {},
   "outputs": [
    {
     "data": {
      "text/plain": [
       "0     Neutral\n",
       "4    Negative\n",
       "Name: VaderSentiment, dtype: object"
      ]
     },
     "execution_count": 467,
     "metadata": {},
     "output_type": "execute_result"
    }
   ],
   "source": [
    "csv.VaderSentiment[:2]"
   ]
  },
  {
   "cell_type": "code",
   "execution_count": 468,
   "metadata": {},
   "outputs": [
    {
     "data": {
      "text/plain": [
       "(751,)"
      ]
     },
     "execution_count": 468,
     "metadata": {},
     "output_type": "execute_result"
    }
   ],
   "source": [
    "csv['Tweet'].shape"
   ]
  },
  {
   "cell_type": "code",
   "execution_count": 469,
   "metadata": {},
   "outputs": [
    {
     "data": {
      "text/plain": [
       "Neutral     375\n",
       "Positive    223\n",
       "Negative    153\n",
       "Name: VaderSentiment, dtype: int64"
      ]
     },
     "execution_count": 469,
     "metadata": {},
     "output_type": "execute_result"
    }
   ],
   "source": [
    "csv['VaderSentiment'].value_counts() # Vader sentiments count"
   ]
  },
  {
   "cell_type": "code",
   "execution_count": 470,
   "metadata": {},
   "outputs": [
    {
     "data": {
      "text/plain": [
       "Neutral     289\n",
       "Negative    235\n",
       "Positive    227\n",
       "Name: Hand_Annotated_Sentiment, dtype: int64"
      ]
     },
     "execution_count": 470,
     "metadata": {},
     "output_type": "execute_result"
    }
   ],
   "source": [
    "csv['Hand_Annotated_Sentiment'].value_counts() # Hand Annotated Sentiment Count"
   ]
  },
  {
   "cell_type": "code",
   "execution_count": 471,
   "metadata": {},
   "outputs": [
    {
     "data": {
      "text/plain": [
       "<AxesSubplot:title={'center':'Hand_Annotated_Sentiment Analysis'}>"
      ]
     },
     "execution_count": 471,
     "metadata": {},
     "output_type": "execute_result"
    },
    {
     "data": {
      "image/png": "[encoded data removed]",
      "text/plain": [
       "<Figure size 432x288 with 1 Axes>"
      ]
     },
     "metadata": {},
     "output_type": "display_data"
    }
   ],
   "source": [
    "csv['Hand_Annotated_Sentiment'].value_counts().plot(kind='bar',title=\"Hand_Annotated_Sentiment Analysis\")"
   ]
  },
  {
   "cell_type": "code",
   "execution_count": 472,
   "metadata": {},
   "outputs": [
    {
     "data": {
      "text/plain": [
       "<AxesSubplot:title={'center':'VaderSentiment Analysis'}>"
      ]
     },
     "execution_count": 472,
     "metadata": {},
     "output_type": "execute_result"
    },
    {
     "data": {
      "image/png": "[encoded data removed]",
      "text/plain": [
       "<Figure size 432x288 with 1 Axes>"
      ]
     },
     "metadata": {},
     "output_type": "display_data"
    }
   ],
   "source": [
    "csv['VaderSentiment'].value_counts().plot(kind='bar',title=\"VaderSentiment Analysis\")"
   ]
  },
  {
   "cell_type": "code",
   "execution_count": 473,
   "metadata": {},
   "outputs": [],
   "source": [
    "csv.to_csv( \"_POLARITY.csv\", index=False, encoding='utf-8-sig') # New CSV with Polarity "
   ]
  },
  {
   "cell_type": "markdown",
   "metadata": {},
   "source": [
    "# NLP"
   ]
  },
  {
   "cell_type": "code",
   "execution_count": 474,
   "metadata": {},
   "outputs": [
    {
     "name": "stderr",
     "output_type": "stream",
     "text": [
      "[nltk_data] Downloading package punkt to\n",
      "[nltk_data]     C:\\Users\\user\\AppData\\Roaming\\nltk_data...\n",
      "[nltk_data]   Package punkt is already up-to-date!\n",
      "[nltk_data] Downloading package stopwords to\n",
      "[nltk_data]     C:\\Users\\user\\AppData\\Roaming\\nltk_data...\n",
      "[nltk_data]   Package stopwords is already up-to-date!\n",
      "[nltk_data] Downloading package wordnet to\n",
      "[nltk_data]     C:\\Users\\user\\AppData\\Roaming\\nltk_data...\n",
      "[nltk_data]   Package wordnet is already up-to-date!\n"
     ]
    }
   ],
   "source": [
    "# importing the NLP(Natural Language Processing) library\n",
    "#from textblob import TextBlob\n",
    "import nltk\n",
    "nltk.download('punkt')\n",
    "nltk.download('stopwords')\n",
    "nltk.download('wordnet')\n",
    "from nltk.corpus import stopwords\n",
    "from nltk.stem import WordNetLemmatizer, PorterStemmer\n",
    "from nltk.tokenize import word_tokenize"
   ]
  },
  {
   "cell_type": "code",
   "execution_count": 475,
   "metadata": {},
   "outputs": [],
   "source": [
    "def tokenize(text):\n",
    "    return word_tokenize(text)\n",
    "\n",
    "def remove_stop_words(text):\n",
    "    stop_words=stopwords.words('english')\n",
    "    return([token.lower() for token in text if token not in stop_words])\n",
    "\n",
    "def remove_punct(text):\n",
    "    puncts = \"~`!@#€$%^&*()_-+={[}]|\\/:;'<,>.?/\"\n",
    "    return ([char for char in text if char not in puncts])\n",
    "\n",
    "def stem_words(text):\n",
    "    stemmer = WordNetLemmatizer()\n",
    "    return ([stemmer.lemmatize(token) for token in text])\n",
    "\n",
    "def stem_words_more(text):\n",
    "    stemmer = PorterStemmer()\n",
    "    return ([stemmer.stem(token) for token in text])\n",
    "\n",
    "def cleaning_the_data(input):\n",
    "    return_list = []\n",
    "    for i in input:\n",
    "        return_list.append(stem_words_more(stem_words(remove_punct(remove_stop_words(tokenize(i))))))\n",
    "    return return_list\n",
    "\n",
    "def Mummy(doc):\n",
    "    return doc\n",
    "\n",
    "#cleaning_the_data =\"Hi how are you https://www.£4%^&*($djsdlkfui) thanking you and happyier\"\n",
    "#cleaning_the_data"
   ]
  },
  {
   "cell_type": "code",
   "execution_count": 476,
   "metadata": {},
   "outputs": [],
   "source": [
    "# z Is the vader for comparision. \n",
    "\n",
    "x,y= csv.Tweet, csv.Hand_Annotated_Sentiment\n",
    "Z= csv.VaderSentiment"
   ]
  },
  {
   "cell_type": "code",
   "execution_count": 477,
   "metadata": {},
   "outputs": [
    {
     "name": "stdout",
     "output_type": "stream",
     "text": [
      "X-Test Shape:  (151,) \n",
      "Y-Train Shape: (600,)\n",
      "X-Test Shape:  (151,) \n",
      "Y-Train Shape: (600,)\n",
      "Z-Test Shape:  (151,) \n",
      "Z-Train Shape: (600,)\n"
     ]
    }
   ],
   "source": [
    "# Splitting Dataset \n",
    "\n",
    "from sklearn.model_selection import train_test_split\n",
    "x_train, x_test, y_train, y_test, Z_train, Z_test = train_test_split(x,y,Z, test_size = 0.20, random_state = 2)\n",
    "print(\"X-Test Shape: \", x_test.shape,'\\n' \"Y-Train Shape:\", y_train.shape)\n",
    "print(\"X-Test Shape: \", x_test.shape,'\\n' \"Y-Train Shape:\", y_train.shape)\n",
    "print(\"Z-Test Shape: \", Z_test.shape,'\\n' \"Z-Train Shape:\", Z_train.shape)"
   ]
  },
  {
   "cell_type": "code",
   "execution_count": 478,
   "metadata": {},
   "outputs": [],
   "source": [
    "x_train = cleaning_the_data(x_train)\n",
    "x_test = cleaning_the_data(x_test)\n"
   ]
  },
  {
   "cell_type": "code",
   "execution_count": 479,
   "metadata": {},
   "outputs": [],
   "source": [
    "#x_train"
   ]
  },
  {
   "cell_type": "code",
   "execution_count": 480,
   "metadata": {},
   "outputs": [],
   "source": [
    "from sklearn.feature_extraction.text import TfidfVectorizer\n",
    "tfidf = TfidfVectorizer(analyzer='word', tokenizer=Mummy, preprocessor=Mummy, token_pattern=None)\n",
    "x_train = tfidf.fit_transform(x_train)\n",
    "x_test = tfidf.transform(x_test)\n",
    "#x_train[:2]"
   ]
  },
  {
   "cell_type": "markdown",
   "metadata": {},
   "source": [
    "# Modelling of Hand Annotated Tweets"
   ]
  },
  {
   "cell_type": "markdown",
   "metadata": {},
   "source": [
    "# Naive Bayes"
   ]
  },
  {
   "cell_type": "code",
   "execution_count": 481,
   "metadata": {},
   "outputs": [],
   "source": [
    "# It doesn't require as much training data. It handles both continuous and discrete data. \n",
    "# It is highly scalable with the number of predictors and data points. \n",
    "# It is fast and can be used to make real-time predictions"
   ]
  },
  {
   "cell_type": "code",
   "execution_count": 482,
   "metadata": {},
   "outputs": [],
   "source": [
    "# Naive Bayes\n",
    "from sklearn.naive_bayes import MultinomialNB\n",
    "from sklearn.metrics import accuracy_score, classification_report, precision_score, recall_score, confusion_matrix, roc_auc_score"
   ]
  },
  {
   "cell_type": "code",
   "execution_count": 483,
   "metadata": {},
   "outputs": [
    {
     "name": "stdout",
     "output_type": "stream",
     "text": [
      "----------------------------------------------------------------------\n",
      "\t\t MultinomialNB\n",
      "----------------------------------------------------------------------\n",
      "              precision    recall  f1-score   support\n",
      "\n",
      "    Negative       0.46      0.65      0.54        40\n",
      "     Neutral       0.71      0.68      0.69        65\n",
      "    Positive       0.52      0.37      0.43        46\n",
      "\n",
      "    accuracy                           0.58       151\n",
      "   macro avg       0.56      0.57      0.55       151\n",
      "weighted avg       0.59      0.58      0.57       151\n",
      "\n"
     ]
    }
   ],
   "source": [
    "print('-'*70)\n",
    "print('\\t\\t MultinomialNB')\n",
    "print('-'*70)\n",
    "\n",
    "model = MultinomialNB()\n",
    "\n",
    "model.fit (x_train, y_train)\n",
    "\n",
    "y_pred = model.predict(x_test)\n",
    "\n",
    "print(classification_report(y_test, y_pred))"
   ]
  },
  {
   "cell_type": "code",
   "execution_count": 484,
   "metadata": {},
   "outputs": [
    {
     "data": {
      "image/png": "[encoded data removed]",
      "text/plain": [
       "<Figure size 432x288 with 1 Axes>"
      ]
     },
     "metadata": {},
     "output_type": "display_data"
    }
   ],
   "source": [
    "cm = pd.DataFrame(confusion_matrix(y_test, y_pred))\n",
    "cm\n",
    "sns.heatmap(cm,cbar=False,annot=True,cmap='Blues',fmt=\"d\")\n",
    "plt.xlabel(\"y_pred\")\n",
    "plt.ylabel(\"y_test\")\n",
    "plt.title(\"Confusion Matrix: MultinomialNB \")\n",
    "plt.show()\n"
   ]
  },
  {
   "cell_type": "code",
   "execution_count": 485,
   "metadata": {},
   "outputs": [
    {
     "data": {
      "text/html": [
       "<div>\n",
       "<style scoped>\n",
       "    .dataframe tbody tr th:only-of-type {\n",
       "        vertical-align: middle;\n",
       "    }\n",
       "\n",
       "    .dataframe tbody tr th {\n",
       "        vertical-align: top;\n",
       "    }\n",
       "\n",
       "    .dataframe thead th {\n",
       "        text-align: right;\n",
       "    }\n",
       "</style>\n",
       "<table border=\"1\" class=\"dataframe\">\n",
       "  <thead>\n",
       "    <tr style=\"text-align: right;\">\n",
       "      <th></th>\n",
       "      <th>0</th>\n",
       "      <th>1</th>\n",
       "      <th>2</th>\n",
       "    </tr>\n",
       "  </thead>\n",
       "  <tbody>\n",
       "    <tr>\n",
       "      <th>0</th>\n",
       "      <td>26</td>\n",
       "      <td>5</td>\n",
       "      <td>9</td>\n",
       "    </tr>\n",
       "    <tr>\n",
       "      <th>1</th>\n",
       "      <td>14</td>\n",
       "      <td>44</td>\n",
       "      <td>7</td>\n",
       "    </tr>\n",
       "    <tr>\n",
       "      <th>2</th>\n",
       "      <td>16</td>\n",
       "      <td>13</td>\n",
       "      <td>17</td>\n",
       "    </tr>\n",
       "  </tbody>\n",
       "</table>\n",
       "</div>"
      ],
      "text/plain": [
       "    0   1   2\n",
       "0  26   5   9\n",
       "1  14  44   7\n",
       "2  16  13  17"
      ]
     },
     "execution_count": 485,
     "metadata": {},
     "output_type": "execute_result"
    }
   ],
   "source": [
    "cm"
   ]
  },
  {
   "cell_type": "code",
   "execution_count": 486,
   "metadata": {},
   "outputs": [
    {
     "name": "stdout",
     "output_type": "stream",
     "text": [
      "Accuracy Score 0.5761589403973509\n",
      "Model Score:  0.5761589403973509\n"
     ]
    }
   ],
   "source": [
    "print(\"Accuracy Score\", accuracy_score(y_test, y_pred))\n",
    "print(\"Model Score: \", model.score(x_test, y_test))"
   ]
  },
  {
   "cell_type": "markdown",
   "metadata": {},
   "source": [
    "# Naive Bayes Predicted Sentiment Vs Hand Annotated Sentiment Vs Vader Sentiment"
   ]
  },
  {
   "cell_type": "code",
   "execution_count": 487,
   "metadata": {},
   "outputs": [
    {
     "data": {
      "text/html": [
       "<div>\n",
       "<style scoped>\n",
       "    .dataframe tbody tr th:only-of-type {\n",
       "        vertical-align: middle;\n",
       "    }\n",
       "\n",
       "    .dataframe tbody tr th {\n",
       "        vertical-align: top;\n",
       "    }\n",
       "\n",
       "    .dataframe thead th {\n",
       "        text-align: right;\n",
       "    }\n",
       "</style>\n",
       "<table border=\"1\" class=\"dataframe\">\n",
       "  <thead>\n",
       "    <tr style=\"text-align: right;\">\n",
       "      <th></th>\n",
       "      <th>tweet</th>\n",
       "      <th>Naive_Bayes_Predicted_Sentiment</th>\n",
       "      <th>Hand_ANNOTATED_Sentiment</th>\n",
       "      <th>VADER_ANNOTATED_Sentiment</th>\n",
       "    </tr>\n",
       "  </thead>\n",
       "  <tbody>\n",
       "    <tr>\n",
       "      <th>2805</th>\n",
       "      <td>(0, 438)\\t0.19874936991663594\\n  (0, 20)\\t0....</td>\n",
       "      <td>Positive</td>\n",
       "      <td>Neutral</td>\n",
       "      <td>Neutral</td>\n",
       "    </tr>\n",
       "    <tr>\n",
       "      <th>5442</th>\n",
       "      <td>(0, 438)\\t0.19874936991663594\\n  (0, 20)\\t0....</td>\n",
       "      <td>Negative</td>\n",
       "      <td>Negative</td>\n",
       "      <td>Negative</td>\n",
       "    </tr>\n",
       "    <tr>\n",
       "      <th>5348</th>\n",
       "      <td>(0, 438)\\t0.19874936991663594\\n  (0, 20)\\t0....</td>\n",
       "      <td>Positive</td>\n",
       "      <td>Positive</td>\n",
       "      <td>Positive</td>\n",
       "    </tr>\n",
       "    <tr>\n",
       "      <th>3567</th>\n",
       "      <td>(0, 438)\\t0.19874936991663594\\n  (0, 20)\\t0....</td>\n",
       "      <td>Neutral</td>\n",
       "      <td>Neutral</td>\n",
       "      <td>Neutral</td>\n",
       "    </tr>\n",
       "    <tr>\n",
       "      <th>462</th>\n",
       "      <td>(0, 438)\\t0.19874936991663594\\n  (0, 20)\\t0....</td>\n",
       "      <td>Neutral</td>\n",
       "      <td>Neutral</td>\n",
       "      <td>Neutral</td>\n",
       "    </tr>\n",
       "    <tr>\n",
       "      <th>...</th>\n",
       "      <td>...</td>\n",
       "      <td>...</td>\n",
       "      <td>...</td>\n",
       "      <td>...</td>\n",
       "    </tr>\n",
       "    <tr>\n",
       "      <th>4669</th>\n",
       "      <td>(0, 438)\\t0.19874936991663594\\n  (0, 20)\\t0....</td>\n",
       "      <td>Positive</td>\n",
       "      <td>Positive</td>\n",
       "      <td>Positive</td>\n",
       "    </tr>\n",
       "    <tr>\n",
       "      <th>4555</th>\n",
       "      <td>(0, 438)\\t0.19874936991663594\\n  (0, 20)\\t0....</td>\n",
       "      <td>Neutral</td>\n",
       "      <td>Neutral</td>\n",
       "      <td>Neutral</td>\n",
       "    </tr>\n",
       "    <tr>\n",
       "      <th>4790</th>\n",
       "      <td>(0, 438)\\t0.19874936991663594\\n  (0, 20)\\t0....</td>\n",
       "      <td>Negative</td>\n",
       "      <td>Negative</td>\n",
       "      <td>Negative</td>\n",
       "    </tr>\n",
       "    <tr>\n",
       "      <th>1659</th>\n",
       "      <td>(0, 438)\\t0.19874936991663594\\n  (0, 20)\\t0....</td>\n",
       "      <td>Negative</td>\n",
       "      <td>Negative</td>\n",
       "      <td>Positive</td>\n",
       "    </tr>\n",
       "    <tr>\n",
       "      <th>3857</th>\n",
       "      <td>(0, 438)\\t0.19874936991663594\\n  (0, 20)\\t0....</td>\n",
       "      <td>Positive</td>\n",
       "      <td>Positive</td>\n",
       "      <td>Neutral</td>\n",
       "    </tr>\n",
       "  </tbody>\n",
       "</table>\n",
       "<p>151 rows × 4 columns</p>\n",
       "</div>"
      ],
      "text/plain": [
       "                                                  tweet  \\\n",
       "2805    (0, 438)\\t0.19874936991663594\\n  (0, 20)\\t0....   \n",
       "5442    (0, 438)\\t0.19874936991663594\\n  (0, 20)\\t0....   \n",
       "5348    (0, 438)\\t0.19874936991663594\\n  (0, 20)\\t0....   \n",
       "3567    (0, 438)\\t0.19874936991663594\\n  (0, 20)\\t0....   \n",
       "462     (0, 438)\\t0.19874936991663594\\n  (0, 20)\\t0....   \n",
       "...                                                 ...   \n",
       "4669    (0, 438)\\t0.19874936991663594\\n  (0, 20)\\t0....   \n",
       "4555    (0, 438)\\t0.19874936991663594\\n  (0, 20)\\t0....   \n",
       "4790    (0, 438)\\t0.19874936991663594\\n  (0, 20)\\t0....   \n",
       "1659    (0, 438)\\t0.19874936991663594\\n  (0, 20)\\t0....   \n",
       "3857    (0, 438)\\t0.19874936991663594\\n  (0, 20)\\t0....   \n",
       "\n",
       "     Naive_Bayes_Predicted_Sentiment Hand_ANNOTATED_Sentiment  \\\n",
       "2805                        Positive                  Neutral   \n",
       "5442                        Negative                 Negative   \n",
       "5348                        Positive                 Positive   \n",
       "3567                         Neutral                  Neutral   \n",
       "462                          Neutral                  Neutral   \n",
       "...                              ...                      ...   \n",
       "4669                        Positive                 Positive   \n",
       "4555                         Neutral                  Neutral   \n",
       "4790                        Negative                 Negative   \n",
       "1659                        Negative                 Negative   \n",
       "3857                        Positive                 Positive   \n",
       "\n",
       "     VADER_ANNOTATED_Sentiment  \n",
       "2805                   Neutral  \n",
       "5442                  Negative  \n",
       "5348                  Positive  \n",
       "3567                   Neutral  \n",
       "462                    Neutral  \n",
       "...                        ...  \n",
       "4669                  Positive  \n",
       "4555                   Neutral  \n",
       "4790                  Negative  \n",
       "1659                  Positive  \n",
       "3857                   Neutral  \n",
       "\n",
       "[151 rows x 4 columns]"
      ]
     },
     "execution_count": 487,
     "metadata": {},
     "output_type": "execute_result"
    }
   ],
   "source": [
    "submission_result = pd.DataFrame({'tweet': x_test, 'Naive_Bayes_Predicted_Sentiment':y_pred,'Hand_ANNOTATED_Sentiment': y_test,'VADER_ANNOTATED_Sentiment': Z_test })\n",
    "submission_result"
   ]
  },
  {
   "cell_type": "code",
   "execution_count": 488,
   "metadata": {},
   "outputs": [],
   "source": [
    "#y_pred.plot"
   ]
  },
  {
   "cell_type": "code",
   "execution_count": 489,
   "metadata": {},
   "outputs": [
    {
     "name": "stderr",
     "output_type": "stream",
     "text": [
      "C:\\Users\\user\\anaconda3\\envs\\MLEnv\\lib\\site-packages\\seaborn\\_decorators.py:43: FutureWarning: Pass the following variable as a keyword arg: x. From version 0.12, the only valid positional argument will be `data`, and passing other arguments without an explicit keyword will result in an error or misinterpretation.\n",
      "  FutureWarning\n"
     ]
    },
    {
     "data": {
      "text/plain": [
       "<AxesSubplot:ylabel='count'>"
      ]
     },
     "execution_count": 489,
     "metadata": {},
     "output_type": "execute_result"
    },
    {
     "data": {
      "image/png": "[encoded data removed]",
      "text/plain": [
       "<Figure size 432x288 with 1 Axes>"
      ]
     },
     "metadata": {},
     "output_type": "display_data"
    }
   ],
   "source": [
    "sns.countplot(y_pred)"
   ]
  },
  {
   "cell_type": "code",
   "execution_count": 490,
   "metadata": {},
   "outputs": [],
   "source": [
    "# from this we can tell that the Predicted Model of the naive bayes is 100% Matched with the Actual Sentiment as the Vader tool"
   ]
  },
  {
   "cell_type": "markdown",
   "metadata": {},
   "source": [
    "# SVM"
   ]
  },
  {
   "cell_type": "code",
   "execution_count": 491,
   "metadata": {},
   "outputs": [],
   "source": [
    "from sklearn.model_selection import train_test_split, cross_val_score\n",
    "from sklearn.preprocessing import MinMaxScaler\n",
    "from sklearn import svm\n",
    "from sklearn.svm import SVR,SVC\n",
    "from sklearn.metrics import confusion_matrix, accuracy_score, f1_score"
   ]
  },
  {
   "cell_type": "code",
   "execution_count": 492,
   "metadata": {},
   "outputs": [
    {
     "name": "stdout",
     "output_type": "stream",
     "text": [
      "Values [0.43333333 0.38333333 0.41666667 0.35       0.48333333 0.48333333\n",
      " 0.43333333 0.53333333 0.33333333 0.53333333]\n",
      "Avg  0.43833333333333335\n",
      "Std  0.06668749674580852\n",
      "Score 0.5165562913907285\n"
     ]
    },
    {
     "data": {
      "text/html": [
       "<div>\n",
       "<style scoped>\n",
       "    .dataframe tbody tr th:only-of-type {\n",
       "        vertical-align: middle;\n",
       "    }\n",
       "\n",
       "    .dataframe tbody tr th {\n",
       "        vertical-align: top;\n",
       "    }\n",
       "\n",
       "    .dataframe thead th {\n",
       "        text-align: right;\n",
       "    }\n",
       "</style>\n",
       "<table border=\"1\" class=\"dataframe\">\n",
       "  <thead>\n",
       "    <tr style=\"text-align: right;\">\n",
       "      <th></th>\n",
       "      <th>0</th>\n",
       "      <th>1</th>\n",
       "      <th>2</th>\n",
       "    </tr>\n",
       "  </thead>\n",
       "  <tbody>\n",
       "    <tr>\n",
       "      <th>0</th>\n",
       "      <td>6</td>\n",
       "      <td>7</td>\n",
       "      <td>27</td>\n",
       "    </tr>\n",
       "    <tr>\n",
       "      <th>1</th>\n",
       "      <td>2</td>\n",
       "      <td>38</td>\n",
       "      <td>25</td>\n",
       "    </tr>\n",
       "    <tr>\n",
       "      <th>2</th>\n",
       "      <td>0</td>\n",
       "      <td>12</td>\n",
       "      <td>34</td>\n",
       "    </tr>\n",
       "  </tbody>\n",
       "</table>\n",
       "</div>"
      ],
      "text/plain": [
       "   0   1   2\n",
       "0  6   7  27\n",
       "1  2  38  25\n",
       "2  0  12  34"
      ]
     },
     "execution_count": 492,
     "metadata": {},
     "output_type": "execute_result"
    }
   ],
   "source": [
    "svc = SVC(class_weight=\"balanced\", kernel='rbf', C=1, gamma=0.1)\n",
    "cv = cross_val_score(svc, x_train, y_train, cv=10)\n",
    "print('Values', cv)\n",
    "print('Avg ' , cv.mean())\n",
    "print('Std ' , cv.std())\n",
    "model = svc.fit(x_train, y_train)\n",
    "score = model.score(x_test, y_test)\n",
    "print('Score', score)\n",
    "rbf_y_pred = model.predict(x_test)\n",
    "cm = pd.DataFrame(confusion_matrix(y_test, rbf_y_pred))\n",
    "cm"
   ]
  },
  {
   "cell_type": "code",
   "execution_count": 493,
   "metadata": {},
   "outputs": [
    {
     "name": "stdout",
     "output_type": "stream",
     "text": [
      "              precision    recall  f1-score   support\n",
      "\n",
      "    Negative       0.75      0.15      0.25        40\n",
      "     Neutral       0.67      0.58      0.62        65\n",
      "    Positive       0.40      0.74      0.52        46\n",
      "\n",
      "    accuracy                           0.52       151\n",
      "   macro avg       0.60      0.49      0.46       151\n",
      "weighted avg       0.61      0.52      0.49       151\n",
      "\n"
     ]
    }
   ],
   "source": [
    "print(classification_report(y_test, rbf_y_pred))"
   ]
  },
  {
   "cell_type": "code",
   "execution_count": 494,
   "metadata": {},
   "outputs": [
    {
     "data": {
      "image/png": "[encoded data removed]",
      "text/plain": [
       "<Figure size 432x288 with 1 Axes>"
      ]
     },
     "metadata": {},
     "output_type": "display_data"
    }
   ],
   "source": [
    "cm = pd.DataFrame(confusion_matrix(y_test,rbf_y_pred))\n",
    "cm\n",
    "sns.heatmap(cm,cbar=False,annot=True,cmap='Blues',fmt=\"d\")\n",
    "plt.xlabel(\"rbf_y_pred\")\n",
    "plt.ylabel(\"y_test\")\n",
    "plt.title(\"Confusion Matrix: SVM \")\n",
    "plt.show()\n"
   ]
  },
  {
   "cell_type": "code",
   "execution_count": 495,
   "metadata": {},
   "outputs": [
    {
     "name": "stdout",
     "output_type": "stream",
     "text": [
      "Accuracy Score 0.5165562913907285\n"
     ]
    }
   ],
   "source": [
    "print(\"Accuracy Score\", accuracy_score(y_test,rbf_y_pred))"
   ]
  },
  {
   "cell_type": "markdown",
   "metadata": {},
   "source": [
    "# SVM Predicted Sentiment Vs Hand Annotated Sentiment Vs Vader Sentiment"
   ]
  },
  {
   "cell_type": "code",
   "execution_count": 496,
   "metadata": {},
   "outputs": [
    {
     "data": {
      "text/html": [
       "<div>\n",
       "<style scoped>\n",
       "    .dataframe tbody tr th:only-of-type {\n",
       "        vertical-align: middle;\n",
       "    }\n",
       "\n",
       "    .dataframe tbody tr th {\n",
       "        vertical-align: top;\n",
       "    }\n",
       "\n",
       "    .dataframe thead th {\n",
       "        text-align: right;\n",
       "    }\n",
       "</style>\n",
       "<table border=\"1\" class=\"dataframe\">\n",
       "  <thead>\n",
       "    <tr style=\"text-align: right;\">\n",
       "      <th></th>\n",
       "      <th>tweet</th>\n",
       "      <th>Predicted_Sentiment</th>\n",
       "      <th>Hand_ANNOTATED_Sentiment</th>\n",
       "      <th>VADER_ANNOTATED_Sentiment</th>\n",
       "    </tr>\n",
       "  </thead>\n",
       "  <tbody>\n",
       "    <tr>\n",
       "      <th>2805</th>\n",
       "      <td>(0, 0)\\t0.25625697376813805\\n  (0, 20)\\t0.94...</td>\n",
       "      <td>Positive</td>\n",
       "      <td>Neutral</td>\n",
       "      <td>Neutral</td>\n",
       "    </tr>\n",
       "    <tr>\n",
       "      <th>5442</th>\n",
       "      <td>(0, 0)\\t0.25625697376813805\\n  (0, 20)\\t0.94...</td>\n",
       "      <td>Negative</td>\n",
       "      <td>Negative</td>\n",
       "      <td>Negative</td>\n",
       "    </tr>\n",
       "    <tr>\n",
       "      <th>5348</th>\n",
       "      <td>(0, 0)\\t0.25625697376813805\\n  (0, 20)\\t0.94...</td>\n",
       "      <td>Positive</td>\n",
       "      <td>Positive</td>\n",
       "      <td>Positive</td>\n",
       "    </tr>\n",
       "    <tr>\n",
       "      <th>3567</th>\n",
       "      <td>(0, 0)\\t0.25625697376813805\\n  (0, 20)\\t0.94...</td>\n",
       "      <td>Positive</td>\n",
       "      <td>Neutral</td>\n",
       "      <td>Neutral</td>\n",
       "    </tr>\n",
       "    <tr>\n",
       "      <th>462</th>\n",
       "      <td>(0, 0)\\t0.25625697376813805\\n  (0, 20)\\t0.94...</td>\n",
       "      <td>Neutral</td>\n",
       "      <td>Neutral</td>\n",
       "      <td>Neutral</td>\n",
       "    </tr>\n",
       "    <tr>\n",
       "      <th>...</th>\n",
       "      <td>...</td>\n",
       "      <td>...</td>\n",
       "      <td>...</td>\n",
       "      <td>...</td>\n",
       "    </tr>\n",
       "    <tr>\n",
       "      <th>4669</th>\n",
       "      <td>(0, 0)\\t0.25625697376813805\\n  (0, 20)\\t0.94...</td>\n",
       "      <td>Positive</td>\n",
       "      <td>Positive</td>\n",
       "      <td>Positive</td>\n",
       "    </tr>\n",
       "    <tr>\n",
       "      <th>4555</th>\n",
       "      <td>(0, 0)\\t0.25625697376813805\\n  (0, 20)\\t0.94...</td>\n",
       "      <td>Neutral</td>\n",
       "      <td>Neutral</td>\n",
       "      <td>Neutral</td>\n",
       "    </tr>\n",
       "    <tr>\n",
       "      <th>4790</th>\n",
       "      <td>(0, 0)\\t0.25625697376813805\\n  (0, 20)\\t0.94...</td>\n",
       "      <td>Positive</td>\n",
       "      <td>Negative</td>\n",
       "      <td>Negative</td>\n",
       "    </tr>\n",
       "    <tr>\n",
       "      <th>1659</th>\n",
       "      <td>(0, 0)\\t0.25625697376813805\\n  (0, 20)\\t0.94...</td>\n",
       "      <td>Positive</td>\n",
       "      <td>Negative</td>\n",
       "      <td>Positive</td>\n",
       "    </tr>\n",
       "    <tr>\n",
       "      <th>3857</th>\n",
       "      <td>(0, 0)\\t0.25625697376813805\\n  (0, 20)\\t0.94...</td>\n",
       "      <td>Positive</td>\n",
       "      <td>Positive</td>\n",
       "      <td>Neutral</td>\n",
       "    </tr>\n",
       "  </tbody>\n",
       "</table>\n",
       "<p>151 rows × 4 columns</p>\n",
       "</div>"
      ],
      "text/plain": [
       "                                                  tweet Predicted_Sentiment  \\\n",
       "2805    (0, 0)\\t0.25625697376813805\\n  (0, 20)\\t0.94...            Positive   \n",
       "5442    (0, 0)\\t0.25625697376813805\\n  (0, 20)\\t0.94...            Negative   \n",
       "5348    (0, 0)\\t0.25625697376813805\\n  (0, 20)\\t0.94...            Positive   \n",
       "3567    (0, 0)\\t0.25625697376813805\\n  (0, 20)\\t0.94...            Positive   \n",
       "462     (0, 0)\\t0.25625697376813805\\n  (0, 20)\\t0.94...             Neutral   \n",
       "...                                                 ...                 ...   \n",
       "4669    (0, 0)\\t0.25625697376813805\\n  (0, 20)\\t0.94...            Positive   \n",
       "4555    (0, 0)\\t0.25625697376813805\\n  (0, 20)\\t0.94...             Neutral   \n",
       "4790    (0, 0)\\t0.25625697376813805\\n  (0, 20)\\t0.94...            Positive   \n",
       "1659    (0, 0)\\t0.25625697376813805\\n  (0, 20)\\t0.94...            Positive   \n",
       "3857    (0, 0)\\t0.25625697376813805\\n  (0, 20)\\t0.94...            Positive   \n",
       "\n",
       "     Hand_ANNOTATED_Sentiment VADER_ANNOTATED_Sentiment  \n",
       "2805                  Neutral                   Neutral  \n",
       "5442                 Negative                  Negative  \n",
       "5348                 Positive                  Positive  \n",
       "3567                  Neutral                   Neutral  \n",
       "462                   Neutral                   Neutral  \n",
       "...                       ...                       ...  \n",
       "4669                 Positive                  Positive  \n",
       "4555                  Neutral                   Neutral  \n",
       "4790                 Negative                  Negative  \n",
       "1659                 Negative                  Positive  \n",
       "3857                 Positive                   Neutral  \n",
       "\n",
       "[151 rows x 4 columns]"
      ]
     },
     "execution_count": 496,
     "metadata": {},
     "output_type": "execute_result"
    }
   ],
   "source": [
    "submission_result = pd.DataFrame({'tweet': x_test, 'Predicted_Sentiment': rbf_y_pred, 'Hand_ANNOTATED_Sentiment': y_test,'VADER_ANNOTATED_Sentiment': Z_test })\n",
    "submission_result"
   ]
  },
  {
   "cell_type": "code",
   "execution_count": 497,
   "metadata": {},
   "outputs": [
    {
     "name": "stderr",
     "output_type": "stream",
     "text": [
      "C:\\Users\\user\\anaconda3\\envs\\MLEnv\\lib\\site-packages\\seaborn\\_decorators.py:43: FutureWarning: Pass the following variable as a keyword arg: x. From version 0.12, the only valid positional argument will be `data`, and passing other arguments without an explicit keyword will result in an error or misinterpretation.\n",
      "  FutureWarning\n"
     ]
    },
    {
     "data": {
      "text/plain": [
       "<AxesSubplot:ylabel='count'>"
      ]
     },
     "execution_count": 497,
     "metadata": {},
     "output_type": "execute_result"
    },
    {
     "data": {
      "image/png": "[encoded data removed]",
      "text/plain": [
       "<Figure size 432x288 with 1 Axes>"
      ]
     },
     "metadata": {},
     "output_type": "display_data"
    }
   ],
   "source": [
    "sns.countplot(rbf_y_pred)"
   ]
  },
  {
   "cell_type": "code",
   "execution_count": 498,
   "metadata": {},
   "outputs": [],
   "source": [
    "# Comparision of the Predicted Sentiment Vs the hand Annotated Sentiment tell that the Accuracy is 50 % accurate. \n"
   ]
  },
  {
   "cell_type": "markdown",
   "metadata": {},
   "source": [
    "# Label Encoding For Neural Networks"
   ]
  },
  {
   "cell_type": "code",
   "execution_count": 499,
   "metadata": {},
   "outputs": [],
   "source": [
    "from sklearn import preprocessing\n",
    "from sklearn.preprocessing import LabelEncoder\n",
    "le = LabelEncoder()\n",
    "new_sentiment= le.fit_transform(csv['Hand_Annotated_Sentiment'])\n",
    "new_VaderSentiment = le.fit_transform(csv['VaderSentiment']) # FOR VADER\n",
    "#0-> Neutral\n",
    "#1-> Negative\n",
    "#2-> Positive"
   ]
  },
  {
   "cell_type": "code",
   "execution_count": 500,
   "metadata": {},
   "outputs": [],
   "source": [
    "# Setting of Label Encoded variable\n",
    "y1= new_sentiment\n",
    "y1_train, y1_test = train_test_split(y1,test_size=0.20, shuffle= True)"
   ]
  },
  {
   "cell_type": "code",
   "execution_count": 501,
   "metadata": {},
   "outputs": [],
   "source": [
    "# Setting of Label Encoded variable FOR VADER\n",
    "Z1= new_VaderSentiment\n",
    "Z1_train, Z1_test = train_test_split(Z1,test_size=0.20, shuffle= True)"
   ]
  },
  {
   "cell_type": "code",
   "execution_count": 502,
   "metadata": {},
   "outputs": [],
   "source": [
    "#new_sentiment.value_counts()"
   ]
  },
  {
   "cell_type": "markdown",
   "metadata": {},
   "source": [
    "# MLP Classifier"
   ]
  },
  {
   "cell_type": "code",
   "execution_count": 503,
   "metadata": {},
   "outputs": [],
   "source": [
    "#Importing MLPClassifier\n",
    "from sklearn.neural_network import MLPClassifier\n",
    "from sklearn.metrics import accuracy_score#,model_score\n",
    "from sklearn.metrics import mean_absolute_error,mean_squared_error ,r2_score"
   ]
  },
  {
   "cell_type": "code",
   "execution_count": 504,
   "metadata": {},
   "outputs": [],
   "source": [
    "#Initializing the MLPClassifier\n",
    "classifier = MLPClassifier(hidden_layer_sizes=(150,100,50), max_iter=300,activation = 'relu',solver='adam',random_state=1)\n",
    "classifier.fit(x_train, y1_train)\n",
    "MLP_y_pred = classifier.predict(x_test)"
   ]
  },
  {
   "cell_type": "code",
   "execution_count": 505,
   "metadata": {},
   "outputs": [
    {
     "name": "stdout",
     "output_type": "stream",
     "text": [
      "----------------------------------------------------------------------\n",
      "\t\t MLPClassifier\n",
      "----------------------------------------------------------------------\n",
      "Accuracy of MLPClassifier : 0.3708609271523179\n",
      "R-Square value  -1.0039032006245123\n",
      "Classification Report:                precision    recall  f1-score   support\n",
      "\n",
      "           0       0.29      0.31      0.30        45\n",
      "           1       0.47      0.45      0.46        66\n",
      "           2       0.32      0.30      0.31        40\n",
      "\n",
      "    accuracy                           0.37       151\n",
      "   macro avg       0.36      0.36      0.36       151\n",
      "weighted avg       0.37      0.37      0.37       151\n",
      "\n"
     ]
    }
   ],
   "source": [
    "print('-'*70)\n",
    "print('\\t\\t MLPClassifier')\n",
    "print('-'*70)\n",
    "\n",
    "#Comparing the predictions against the actual observations \n",
    "cm1 = confusion_matrix(y1_test, MLP_y_pred)\n",
    "cm1\n",
    "#Printing the accuracy\n",
    "print (\"Accuracy of MLPClassifier :\",accuracy_score(y1_test, MLP_y_pred))\n",
    "#print(\"Model Score: \", model_score(x_test, y_test))\n",
    "print(\"R-Square value \",r2_score(y1_test, MLP_y_pred))\n",
    "print(\"Classification Report: \", classification_report(y1_test, MLP_y_pred) )"
   ]
  },
  {
   "cell_type": "code",
   "execution_count": 506,
   "metadata": {},
   "outputs": [],
   "source": [
    "#0-> Neutral\n",
    "#1-> Negative\n",
    "#2-> Positive"
   ]
  },
  {
   "cell_type": "code",
   "execution_count": 507,
   "metadata": {},
   "outputs": [
    {
     "name": "stdout",
     "output_type": "stream",
     "text": [
      "Accuracy Score 0.3708609271523179\n"
     ]
    }
   ],
   "source": [
    "print(\"Accuracy Score\", accuracy_score(y1_test, MLP_y_pred))"
   ]
  },
  {
   "cell_type": "code",
   "execution_count": 508,
   "metadata": {},
   "outputs": [
    {
     "data": {
      "image/png": "[encoded data removed]",
      "text/plain": [
       "<Figure size 432x288 with 1 Axes>"
      ]
     },
     "metadata": {},
     "output_type": "display_data"
    }
   ],
   "source": [
    "sns.heatmap(cm1,cbar=False,annot=True,cmap='Blues',fmt=\"d\")\n",
    "plt.xlabel(\"MLP_y_pred\")\n",
    "plt.ylabel(\"y1_test\")\n",
    "plt.title(\"Confusion Matrix: MLP\")\n",
    "plt.show()"
   ]
  },
  {
   "cell_type": "markdown",
   "metadata": {},
   "source": [
    "# MLP Classifier Predicted Sentiment Vs Hand Annotated Sentiment Vs Vader Sentiment"
   ]
  },
  {
   "cell_type": "code",
   "execution_count": 509,
   "metadata": {},
   "outputs": [],
   "source": [
    "#0-> Neutral\n",
    "#1-> Negative\n",
    "#2-> Positive"
   ]
  },
  {
   "cell_type": "code",
   "execution_count": 510,
   "metadata": {},
   "outputs": [
    {
     "data": {
      "text/html": [
       "<div>\n",
       "<style scoped>\n",
       "    .dataframe tbody tr th:only-of-type {\n",
       "        vertical-align: middle;\n",
       "    }\n",
       "\n",
       "    .dataframe tbody tr th {\n",
       "        vertical-align: top;\n",
       "    }\n",
       "\n",
       "    .dataframe thead th {\n",
       "        text-align: right;\n",
       "    }\n",
       "</style>\n",
       "<table border=\"1\" class=\"dataframe\">\n",
       "  <thead>\n",
       "    <tr style=\"text-align: right;\">\n",
       "      <th></th>\n",
       "      <th>tweet</th>\n",
       "      <th>Predicted_Sentiment</th>\n",
       "      <th>Hand_annotated_Sentiment</th>\n",
       "      <th>VADER_ANNOTATED_Sentiment</th>\n",
       "    </tr>\n",
       "  </thead>\n",
       "  <tbody>\n",
       "    <tr>\n",
       "      <th>0</th>\n",
       "      <td>(0, 0)\\t0.25625697376813805\\n  (0, 20)\\t0.94...</td>\n",
       "      <td>0</td>\n",
       "      <td>2</td>\n",
       "      <td>1</td>\n",
       "    </tr>\n",
       "    <tr>\n",
       "      <th>1</th>\n",
       "      <td>(0, 0)\\t0.25625697376813805\\n  (0, 20)\\t0.94...</td>\n",
       "      <td>2</td>\n",
       "      <td>2</td>\n",
       "      <td>0</td>\n",
       "    </tr>\n",
       "    <tr>\n",
       "      <th>2</th>\n",
       "      <td>(0, 0)\\t0.25625697376813805\\n  (0, 20)\\t0.94...</td>\n",
       "      <td>0</td>\n",
       "      <td>1</td>\n",
       "      <td>0</td>\n",
       "    </tr>\n",
       "    <tr>\n",
       "      <th>3</th>\n",
       "      <td>(0, 0)\\t0.25625697376813805\\n  (0, 20)\\t0.94...</td>\n",
       "      <td>0</td>\n",
       "      <td>0</td>\n",
       "      <td>2</td>\n",
       "    </tr>\n",
       "    <tr>\n",
       "      <th>4</th>\n",
       "      <td>(0, 0)\\t0.25625697376813805\\n  (0, 20)\\t0.94...</td>\n",
       "      <td>0</td>\n",
       "      <td>2</td>\n",
       "      <td>2</td>\n",
       "    </tr>\n",
       "    <tr>\n",
       "      <th>...</th>\n",
       "      <td>...</td>\n",
       "      <td>...</td>\n",
       "      <td>...</td>\n",
       "      <td>...</td>\n",
       "    </tr>\n",
       "    <tr>\n",
       "      <th>146</th>\n",
       "      <td>(0, 0)\\t0.25625697376813805\\n  (0, 20)\\t0.94...</td>\n",
       "      <td>0</td>\n",
       "      <td>2</td>\n",
       "      <td>1</td>\n",
       "    </tr>\n",
       "    <tr>\n",
       "      <th>147</th>\n",
       "      <td>(0, 0)\\t0.25625697376813805\\n  (0, 20)\\t0.94...</td>\n",
       "      <td>0</td>\n",
       "      <td>2</td>\n",
       "      <td>0</td>\n",
       "    </tr>\n",
       "    <tr>\n",
       "      <th>148</th>\n",
       "      <td>(0, 0)\\t0.25625697376813805\\n  (0, 20)\\t0.94...</td>\n",
       "      <td>2</td>\n",
       "      <td>0</td>\n",
       "      <td>0</td>\n",
       "    </tr>\n",
       "    <tr>\n",
       "      <th>149</th>\n",
       "      <td>(0, 0)\\t0.25625697376813805\\n  (0, 20)\\t0.94...</td>\n",
       "      <td>2</td>\n",
       "      <td>0</td>\n",
       "      <td>1</td>\n",
       "    </tr>\n",
       "    <tr>\n",
       "      <th>150</th>\n",
       "      <td>(0, 0)\\t0.25625697376813805\\n  (0, 20)\\t0.94...</td>\n",
       "      <td>2</td>\n",
       "      <td>0</td>\n",
       "      <td>1</td>\n",
       "    </tr>\n",
       "  </tbody>\n",
       "</table>\n",
       "<p>151 rows × 4 columns</p>\n",
       "</div>"
      ],
      "text/plain": [
       "                                                 tweet  Predicted_Sentiment  \\\n",
       "0      (0, 0)\\t0.25625697376813805\\n  (0, 20)\\t0.94...                    0   \n",
       "1      (0, 0)\\t0.25625697376813805\\n  (0, 20)\\t0.94...                    2   \n",
       "2      (0, 0)\\t0.25625697376813805\\n  (0, 20)\\t0.94...                    0   \n",
       "3      (0, 0)\\t0.25625697376813805\\n  (0, 20)\\t0.94...                    0   \n",
       "4      (0, 0)\\t0.25625697376813805\\n  (0, 20)\\t0.94...                    0   \n",
       "..                                                 ...                  ...   \n",
       "146    (0, 0)\\t0.25625697376813805\\n  (0, 20)\\t0.94...                    0   \n",
       "147    (0, 0)\\t0.25625697376813805\\n  (0, 20)\\t0.94...                    0   \n",
       "148    (0, 0)\\t0.25625697376813805\\n  (0, 20)\\t0.94...                    2   \n",
       "149    (0, 0)\\t0.25625697376813805\\n  (0, 20)\\t0.94...                    2   \n",
       "150    (0, 0)\\t0.25625697376813805\\n  (0, 20)\\t0.94...                    2   \n",
       "\n",
       "     Hand_annotated_Sentiment  VADER_ANNOTATED_Sentiment  \n",
       "0                           2                          1  \n",
       "1                           2                          0  \n",
       "2                           1                          0  \n",
       "3                           0                          2  \n",
       "4                           2                          2  \n",
       "..                        ...                        ...  \n",
       "146                         2                          1  \n",
       "147                         2                          0  \n",
       "148                         0                          0  \n",
       "149                         0                          1  \n",
       "150                         0                          1  \n",
       "\n",
       "[151 rows x 4 columns]"
      ]
     },
     "execution_count": 510,
     "metadata": {},
     "output_type": "execute_result"
    }
   ],
   "source": [
    "submission_result1 = pd.DataFrame({'tweet': x_test, 'Predicted_Sentiment':MLP_y_pred,'Hand_annotated_Sentiment': y1_test,'VADER_ANNOTATED_Sentiment': Z1_test})\n",
    "submission_result1"
   ]
  },
  {
   "cell_type": "code",
   "execution_count": 511,
   "metadata": {},
   "outputs": [
    {
     "name": "stderr",
     "output_type": "stream",
     "text": [
      "C:\\Users\\user\\anaconda3\\envs\\MLEnv\\lib\\site-packages\\seaborn\\_decorators.py:43: FutureWarning: Pass the following variable as a keyword arg: x. From version 0.12, the only valid positional argument will be `data`, and passing other arguments without an explicit keyword will result in an error or misinterpretation.\n",
      "  FutureWarning\n"
     ]
    },
    {
     "data": {
      "text/plain": [
       "<AxesSubplot:ylabel='count'>"
      ]
     },
     "execution_count": 511,
     "metadata": {},
     "output_type": "execute_result"
    },
    {
     "data": {
      "image/png": "[encoded data removed]",
      "text/plain": [
       "<Figure size 432x288 with 1 Axes>"
      ]
     },
     "metadata": {},
     "output_type": "display_data"
    }
   ],
   "source": [
    "sns.countplot(MLP_y_pred)"
   ]
  },
  {
   "cell_type": "code",
   "execution_count": 512,
   "metadata": {},
   "outputs": [],
   "source": [
    "# Comparision of the Predicted Sentiment Vs the hand Annotated Sentiment tell that the Accuracy is very less \n",
    "# when compared with vader which is complete difference"
   ]
  },
  {
   "cell_type": "markdown",
   "metadata": {},
   "source": [
    "# Perceptron"
   ]
  },
  {
   "cell_type": "code",
   "execution_count": 513,
   "metadata": {},
   "outputs": [],
   "source": [
    "from sklearn.linear_model import Perceptron"
   ]
  },
  {
   "cell_type": "code",
   "execution_count": 514,
   "metadata": {},
   "outputs": [
    {
     "name": "stdout",
     "output_type": "stream",
     "text": [
      "----------------------------------------------------------------------\n",
      "\t\t Perceptron\n",
      "----------------------------------------------------------------------\n",
      "              precision    recall  f1-score   support\n",
      "\n",
      "           0       0.33      0.31      0.32        45\n",
      "           1       0.51      0.58      0.54        66\n",
      "           2       0.35      0.30      0.32        40\n",
      "\n",
      "    accuracy                           0.42       151\n",
      "   macro avg       0.40      0.40      0.40       151\n",
      "weighted avg       0.41      0.42      0.42       151\n",
      "\n"
     ]
    }
   ],
   "source": [
    "print('-'*70)\n",
    "print('\\t\\t Perceptron')\n",
    "print('-'*70)\n",
    "nn = Perceptron()\n",
    "nn.fit(x_train, y1_train)\n",
    "nn_y_pred = nn.predict(x_test)\n",
    "print(classification_report(y1_test, nn_y_pred))"
   ]
  },
  {
   "cell_type": "code",
   "execution_count": 515,
   "metadata": {},
   "outputs": [
    {
     "data": {
      "image/png": "[encoded data removed]",
      "text/plain": [
       "<Figure size 432x288 with 1 Axes>"
      ]
     },
     "metadata": {},
     "output_type": "display_data"
    }
   ],
   "source": [
    "cm2 = confusion_matrix(y1_test, nn_y_pred)\n",
    "sns.heatmap(cm2,cbar=False,annot=True,cmap='Blues',fmt=\"d\")\n",
    "plt.xlabel(\"nn_y_pred\")\n",
    "plt.ylabel(\"y1_test\")\n",
    "plt.title(\"Confusion Matrix: Perceptron\")\n",
    "plt.show()"
   ]
  },
  {
   "cell_type": "code",
   "execution_count": 516,
   "metadata": {},
   "outputs": [
    {
     "name": "stdout",
     "output_type": "stream",
     "text": [
      "Accuracy Score 0.423841059602649\n"
     ]
    }
   ],
   "source": [
    "print(\"Accuracy Score\", accuracy_score(y1_test, nn_y_pred))"
   ]
  },
  {
   "cell_type": "markdown",
   "metadata": {},
   "source": [
    "# Perceptron Predicted Sentiment Vs Hand Annotated Sentiment Vs Vader Sentiment"
   ]
  },
  {
   "cell_type": "code",
   "execution_count": 517,
   "metadata": {},
   "outputs": [],
   "source": [
    "#0-> Neutral\n",
    "#1-> Negative\n",
    "#2-> Positive"
   ]
  },
  {
   "cell_type": "code",
   "execution_count": 518,
   "metadata": {},
   "outputs": [
    {
     "data": {
      "text/html": [
       "<div>\n",
       "<style scoped>\n",
       "    .dataframe tbody tr th:only-of-type {\n",
       "        vertical-align: middle;\n",
       "    }\n",
       "\n",
       "    .dataframe tbody tr th {\n",
       "        vertical-align: top;\n",
       "    }\n",
       "\n",
       "    .dataframe thead th {\n",
       "        text-align: right;\n",
       "    }\n",
       "</style>\n",
       "<table border=\"1\" class=\"dataframe\">\n",
       "  <thead>\n",
       "    <tr style=\"text-align: right;\">\n",
       "      <th></th>\n",
       "      <th>tweet</th>\n",
       "      <th>Predicted_Sentiment</th>\n",
       "      <th>Actual_Sentiment</th>\n",
       "      <th>VADER_ANNOTATED_Sentiment</th>\n",
       "    </tr>\n",
       "  </thead>\n",
       "  <tbody>\n",
       "    <tr>\n",
       "      <th>0</th>\n",
       "      <td>(0, 0)\\t0.25625697376813805\\n  (0, 20)\\t0.94...</td>\n",
       "      <td>0</td>\n",
       "      <td>2</td>\n",
       "      <td>1</td>\n",
       "    </tr>\n",
       "    <tr>\n",
       "      <th>1</th>\n",
       "      <td>(0, 0)\\t0.25625697376813805\\n  (0, 20)\\t0.94...</td>\n",
       "      <td>2</td>\n",
       "      <td>2</td>\n",
       "      <td>0</td>\n",
       "    </tr>\n",
       "    <tr>\n",
       "      <th>2</th>\n",
       "      <td>(0, 0)\\t0.25625697376813805\\n  (0, 20)\\t0.94...</td>\n",
       "      <td>0</td>\n",
       "      <td>1</td>\n",
       "      <td>0</td>\n",
       "    </tr>\n",
       "    <tr>\n",
       "      <th>3</th>\n",
       "      <td>(0, 0)\\t0.25625697376813805\\n  (0, 20)\\t0.94...</td>\n",
       "      <td>1</td>\n",
       "      <td>0</td>\n",
       "      <td>2</td>\n",
       "    </tr>\n",
       "    <tr>\n",
       "      <th>4</th>\n",
       "      <td>(0, 0)\\t0.25625697376813805\\n  (0, 20)\\t0.94...</td>\n",
       "      <td>0</td>\n",
       "      <td>2</td>\n",
       "      <td>2</td>\n",
       "    </tr>\n",
       "    <tr>\n",
       "      <th>...</th>\n",
       "      <td>...</td>\n",
       "      <td>...</td>\n",
       "      <td>...</td>\n",
       "      <td>...</td>\n",
       "    </tr>\n",
       "    <tr>\n",
       "      <th>146</th>\n",
       "      <td>(0, 0)\\t0.25625697376813805\\n  (0, 20)\\t0.94...</td>\n",
       "      <td>0</td>\n",
       "      <td>2</td>\n",
       "      <td>1</td>\n",
       "    </tr>\n",
       "    <tr>\n",
       "      <th>147</th>\n",
       "      <td>(0, 0)\\t0.25625697376813805\\n  (0, 20)\\t0.94...</td>\n",
       "      <td>1</td>\n",
       "      <td>2</td>\n",
       "      <td>0</td>\n",
       "    </tr>\n",
       "    <tr>\n",
       "      <th>148</th>\n",
       "      <td>(0, 0)\\t0.25625697376813805\\n  (0, 20)\\t0.94...</td>\n",
       "      <td>0</td>\n",
       "      <td>0</td>\n",
       "      <td>0</td>\n",
       "    </tr>\n",
       "    <tr>\n",
       "      <th>149</th>\n",
       "      <td>(0, 0)\\t0.25625697376813805\\n  (0, 20)\\t0.94...</td>\n",
       "      <td>2</td>\n",
       "      <td>0</td>\n",
       "      <td>1</td>\n",
       "    </tr>\n",
       "    <tr>\n",
       "      <th>150</th>\n",
       "      <td>(0, 0)\\t0.25625697376813805\\n  (0, 20)\\t0.94...</td>\n",
       "      <td>2</td>\n",
       "      <td>0</td>\n",
       "      <td>1</td>\n",
       "    </tr>\n",
       "  </tbody>\n",
       "</table>\n",
       "<p>151 rows × 4 columns</p>\n",
       "</div>"
      ],
      "text/plain": [
       "                                                 tweet  Predicted_Sentiment  \\\n",
       "0      (0, 0)\\t0.25625697376813805\\n  (0, 20)\\t0.94...                    0   \n",
       "1      (0, 0)\\t0.25625697376813805\\n  (0, 20)\\t0.94...                    2   \n",
       "2      (0, 0)\\t0.25625697376813805\\n  (0, 20)\\t0.94...                    0   \n",
       "3      (0, 0)\\t0.25625697376813805\\n  (0, 20)\\t0.94...                    1   \n",
       "4      (0, 0)\\t0.25625697376813805\\n  (0, 20)\\t0.94...                    0   \n",
       "..                                                 ...                  ...   \n",
       "146    (0, 0)\\t0.25625697376813805\\n  (0, 20)\\t0.94...                    0   \n",
       "147    (0, 0)\\t0.25625697376813805\\n  (0, 20)\\t0.94...                    1   \n",
       "148    (0, 0)\\t0.25625697376813805\\n  (0, 20)\\t0.94...                    0   \n",
       "149    (0, 0)\\t0.25625697376813805\\n  (0, 20)\\t0.94...                    2   \n",
       "150    (0, 0)\\t0.25625697376813805\\n  (0, 20)\\t0.94...                    2   \n",
       "\n",
       "     Actual_Sentiment  VADER_ANNOTATED_Sentiment  \n",
       "0                   2                          1  \n",
       "1                   2                          0  \n",
       "2                   1                          0  \n",
       "3                   0                          2  \n",
       "4                   2                          2  \n",
       "..                ...                        ...  \n",
       "146                 2                          1  \n",
       "147                 2                          0  \n",
       "148                 0                          0  \n",
       "149                 0                          1  \n",
       "150                 0                          1  \n",
       "\n",
       "[151 rows x 4 columns]"
      ]
     },
     "execution_count": 518,
     "metadata": {},
     "output_type": "execute_result"
    }
   ],
   "source": [
    "submission_result2 = pd.DataFrame({'tweet': x_test, 'Predicted_Sentiment':nn_y_pred,'Actual_Sentiment': y1_test,'VADER_ANNOTATED_Sentiment': Z1_test})\n",
    "submission_result2"
   ]
  },
  {
   "cell_type": "code",
   "execution_count": 519,
   "metadata": {},
   "outputs": [
    {
     "name": "stderr",
     "output_type": "stream",
     "text": [
      "C:\\Users\\user\\anaconda3\\envs\\MLEnv\\lib\\site-packages\\seaborn\\_decorators.py:43: FutureWarning: Pass the following variable as a keyword arg: x. From version 0.12, the only valid positional argument will be `data`, and passing other arguments without an explicit keyword will result in an error or misinterpretation.\n",
      "  FutureWarning\n"
     ]
    },
    {
     "data": {
      "text/plain": [
       "<AxesSubplot:ylabel='count'>"
      ]
     },
     "execution_count": 519,
     "metadata": {},
     "output_type": "execute_result"
    },
    {
     "data": {
      "image/png": "[encoded data removed]",
      "text/plain": [
       "<Figure size 432x288 with 1 Axes>"
      ]
     },
     "metadata": {},
     "output_type": "display_data"
    }
   ],
   "source": [
    "sns.countplot(nn_y_pred)"
   ]
  },
  {
   "cell_type": "code",
   "execution_count": 520,
   "metadata": {},
   "outputs": [],
   "source": [
    "# Comparision of the Predicted Sentiment Vs the hand Annotated Sentiment tell that the Accuracy is very less \n",
    "# when compared with vader which is complete difference"
   ]
  },
  {
   "cell_type": "markdown",
   "metadata": {},
   "source": [
    "# Overall Hand Annotated Model Accuracy"
   ]
  },
  {
   "cell_type": "code",
   "execution_count": 521,
   "metadata": {},
   "outputs": [],
   "source": [
    "# From this we can tell that the Accuracy is only 39% and we can look at  the actual vs the Predicted sentiment"
   ]
  },
  {
   "cell_type": "code",
   "execution_count": 522,
   "metadata": {},
   "outputs": [],
   "source": [
    "final = pd.DataFrame({'MODELS': [\"Naive Bayes\",\"MLP-Classifier\",\"Perceptron\",\"SVM-rbf-Kernel\"],\n",
    "'ACCURACY': [accuracy_score(y_test, y_pred),accuracy_score(y1_test, MLP_y_pred),accuracy_score(y1_test, nn_y_pred), accuracy_score(y_test, rbf_y_pred)] })"
   ]
  },
  {
   "cell_type": "code",
   "execution_count": 523,
   "metadata": {},
   "outputs": [
    {
     "data": {
      "text/html": [
       "<div>\n",
       "<style scoped>\n",
       "    .dataframe tbody tr th:only-of-type {\n",
       "        vertical-align: middle;\n",
       "    }\n",
       "\n",
       "    .dataframe tbody tr th {\n",
       "        vertical-align: top;\n",
       "    }\n",
       "\n",
       "    .dataframe thead th {\n",
       "        text-align: right;\n",
       "    }\n",
       "</style>\n",
       "<table border=\"1\" class=\"dataframe\">\n",
       "  <thead>\n",
       "    <tr style=\"text-align: right;\">\n",
       "      <th></th>\n",
       "      <th>MODELS</th>\n",
       "    </tr>\n",
       "    <tr>\n",
       "      <th>ACCURACY</th>\n",
       "      <th></th>\n",
       "    </tr>\n",
       "  </thead>\n",
       "  <tbody>\n",
       "    <tr>\n",
       "      <th>0.576159</th>\n",
       "      <td>Naive Bayes</td>\n",
       "    </tr>\n",
       "    <tr>\n",
       "      <th>0.516556</th>\n",
       "      <td>SVM-rbf-Kernel</td>\n",
       "    </tr>\n",
       "    <tr>\n",
       "      <th>0.423841</th>\n",
       "      <td>Perceptron</td>\n",
       "    </tr>\n",
       "    <tr>\n",
       "      <th>0.370861</th>\n",
       "      <td>MLP-Classifier</td>\n",
       "    </tr>\n",
       "  </tbody>\n",
       "</table>\n",
       "</div>"
      ],
      "text/plain": [
       "                  MODELS\n",
       "ACCURACY                \n",
       "0.576159     Naive Bayes\n",
       "0.516556  SVM-rbf-Kernel\n",
       "0.423841      Perceptron\n",
       "0.370861  MLP-Classifier"
      ]
     },
     "execution_count": 523,
     "metadata": {},
     "output_type": "execute_result"
    }
   ],
   "source": [
    "# Each Model Strength and Weakness \n",
    "\n",
    "end= final.sort_values(by='ACCURACY', ascending=False)\n",
    "end_all = end.set_index('ACCURACY')\n",
    "end_all"
   ]
  },
  {
   "cell_type": "code",
   "execution_count": 524,
   "metadata": {},
   "outputs": [
    {
     "data": {
      "image/png": "[encoded data removed]",
      "text/plain": [
       "<Figure size 432x288 with 1 Axes>"
      ]
     },
     "metadata": {},
     "output_type": "display_data"
    }
   ],
   "source": [
    "sns.set_theme(style=\"whitegrid\")\n",
    "ax = sns.barplot(data = final, x=\"MODELS\", y=\"ACCURACY\")"
   ]
  },
  {
   "cell_type": "code",
   "execution_count": 525,
   "metadata": {},
   "outputs": [],
   "source": [
    "# Best Model with the exact prediction on compared with the Vader is Naive Bayes  \n",
    "# other Models produce very Less Accuraccy"
   ]
  },
  {
   "cell_type": "markdown",
   "metadata": {},
   "source": [
    "# Comparing the Vader Annotated Sentiment  Accuracy with the Models"
   ]
  },
  {
   "cell_type": "code",
   "execution_count": 526,
   "metadata": {},
   "outputs": [
    {
     "name": "stdout",
     "output_type": "stream",
     "text": [
      "Accuracy Score 0.5629139072847682\n"
     ]
    }
   ],
   "source": [
    "model = MultinomialNB() # Naive Bayes\n",
    "model.fit (x_train, Z_train)\n",
    "y_pred1 = model.predict(x_test)\n",
    "print(\"Accuracy Score\", accuracy_score(Z_test, y_pred1))"
   ]
  },
  {
   "cell_type": "code",
   "execution_count": 527,
   "metadata": {},
   "outputs": [
    {
     "name": "stdout",
     "output_type": "stream",
     "text": [
      "Accuracy Score 0.5496688741721855\n"
     ]
    }
   ],
   "source": [
    "model = svc.fit(x_train, Z_train) # SVM rbf Kernel\n",
    "rbf_y_pred1 = model.predict(x_test)\n",
    "print(\"Accuracy Score\", accuracy_score(Z_test, rbf_y_pred1))"
   ]
  },
  {
   "cell_type": "code",
   "execution_count": 528,
   "metadata": {},
   "outputs": [
    {
     "name": "stdout",
     "output_type": "stream",
     "text": [
      "Accuracy Score 0.2913907284768212\n"
     ]
    }
   ],
   "source": [
    "classifier.fit(x_train, Z1_train) # MLP classifier\n",
    "MLP_y_pred1 = classifier.predict(x_test)\n",
    "print(\"Accuracy Score\", accuracy_score(Z1_test, MLP_y_pred1))"
   ]
  },
  {
   "cell_type": "code",
   "execution_count": 529,
   "metadata": {},
   "outputs": [
    {
     "name": "stdout",
     "output_type": "stream",
     "text": [
      "Accuracy Score 0.271523178807947\n"
     ]
    }
   ],
   "source": [
    "nn.fit(x_train, Z1_train)  # Perceptron\n",
    "nn_y_pred1 = nn.predict(x_test)\n",
    "print(\"Accuracy Score\", accuracy_score(Z1_test, nn_y_pred1))"
   ]
  },
  {
   "cell_type": "markdown",
   "metadata": {},
   "source": [
    "# Overall Accuracy for the Vader Sentiment with the Models "
   ]
  },
  {
   "cell_type": "code",
   "execution_count": 530,
   "metadata": {},
   "outputs": [],
   "source": [
    "final2 = pd.DataFrame({'MODELS': [\"Naive Bayes\",\"MLP-Classifier\",\"Perceptron\",\"SVM-rbf-Kernel\"],\n",
    "'ACCURACY': [accuracy_score(Z_test, y_pred1),accuracy_score(Z1_test, MLP_y_pred1),accuracy_score(Z1_test, nn_y_pred1), accuracy_score(Z_test, rbf_y_pred1)] })"
   ]
  },
  {
   "cell_type": "code",
   "execution_count": 531,
   "metadata": {},
   "outputs": [
    {
     "data": {
      "text/html": [
       "<div>\n",
       "<style scoped>\n",
       "    .dataframe tbody tr th:only-of-type {\n",
       "        vertical-align: middle;\n",
       "    }\n",
       "\n",
       "    .dataframe tbody tr th {\n",
       "        vertical-align: top;\n",
       "    }\n",
       "\n",
       "    .dataframe thead th {\n",
       "        text-align: right;\n",
       "    }\n",
       "</style>\n",
       "<table border=\"1\" class=\"dataframe\">\n",
       "  <thead>\n",
       "    <tr style=\"text-align: right;\">\n",
       "      <th></th>\n",
       "      <th>MODELS</th>\n",
       "    </tr>\n",
       "    <tr>\n",
       "      <th>ACCURACY</th>\n",
       "      <th></th>\n",
       "    </tr>\n",
       "  </thead>\n",
       "  <tbody>\n",
       "    <tr>\n",
       "      <th>0.562914</th>\n",
       "      <td>Naive Bayes</td>\n",
       "    </tr>\n",
       "    <tr>\n",
       "      <th>0.549669</th>\n",
       "      <td>SVM-rbf-Kernel</td>\n",
       "    </tr>\n",
       "    <tr>\n",
       "      <th>0.291391</th>\n",
       "      <td>MLP-Classifier</td>\n",
       "    </tr>\n",
       "    <tr>\n",
       "      <th>0.271523</th>\n",
       "      <td>Perceptron</td>\n",
       "    </tr>\n",
       "  </tbody>\n",
       "</table>\n",
       "</div>"
      ],
      "text/plain": [
       "                  MODELS\n",
       "ACCURACY                \n",
       "0.562914     Naive Bayes\n",
       "0.549669  SVM-rbf-Kernel\n",
       "0.291391  MLP-Classifier\n",
       "0.271523      Perceptron"
      ]
     },
     "execution_count": 531,
     "metadata": {},
     "output_type": "execute_result"
    }
   ],
   "source": [
    "# Each Model Strength and Weakness \n",
    "\n",
    "end3= final2.sort_values(by='ACCURACY', ascending=False)\n",
    "end_all3 = end3.set_index('ACCURACY')\n",
    "end_all3"
   ]
  },
  {
   "cell_type": "code",
   "execution_count": 532,
   "metadata": {},
   "outputs": [
    {
     "data": {
      "image/png": "[encoded data removed]",
      "text/plain": [
       "<Figure size 432x288 with 1 Axes>"
      ]
     },
     "metadata": {},
     "output_type": "display_data"
    }
   ],
   "source": [
    "sns.set_theme(style=\"whitegrid\")\n",
    "ax = sns.barplot(data = final2, x=\"MODELS\", y=\"ACCURACY\")"
   ]
  },
  {
   "cell_type": "code",
   "execution_count": 533,
   "metadata": {},
   "outputs": [],
   "source": [
    "# From this Study we can understand abou the Vader Sentiment Tool and its Comparision with THE DESIGNED model"
   ]
  },
  {
   "cell_type": "code",
   "execution_count": 534,
   "metadata": {},
   "outputs": [],
   "source": [
    "# From this anlayis we can tell that Vader Accuracy % is very slightly less with the actual model \n",
    "# with the hand annotated tweets model"
   ]
  },
  {
   "cell_type": "markdown",
   "metadata": {},
   "source": [
    "# TESTING MODEL WITH AIRLINE DATASET"
   ]
  },
  {
   "cell_type": "code",
   "execution_count": 535,
   "metadata": {},
   "outputs": [],
   "source": [
    "# Testing of the model with the american with american airlines industry flights like (virgin, atlantic,united, jetblue)"
   ]
  },
  {
   "cell_type": "code",
   "execution_count": 536,
   "metadata": {},
   "outputs": [],
   "source": [
    "virgin = pd.read_csv(\"C:/Users/user/PycharmProjects/Twitter _tweets_fetching/tweets_csv/new_csv/Airline.csv\")"
   ]
  },
  {
   "cell_type": "code",
   "execution_count": 537,
   "metadata": {},
   "outputs": [],
   "source": [
    "virgin.text= pd.DataFrame(virgin.text.apply(cleaning)) # Cleaning of dataset"
   ]
  },
  {
   "cell_type": "code",
   "execution_count": 538,
   "metadata": {},
   "outputs": [
    {
     "data": {
      "text/html": [
       "<div>\n",
       "<style scoped>\n",
       "    .dataframe tbody tr th:only-of-type {\n",
       "        vertical-align: middle;\n",
       "    }\n",
       "\n",
       "    .dataframe tbody tr th {\n",
       "        vertical-align: top;\n",
       "    }\n",
       "\n",
       "    .dataframe thead th {\n",
       "        text-align: right;\n",
       "    }\n",
       "</style>\n",
       "<table border=\"1\" class=\"dataframe\">\n",
       "  <thead>\n",
       "    <tr style=\"text-align: right;\">\n",
       "      <th></th>\n",
       "      <th>airline_sentiment</th>\n",
       "      <th>text</th>\n",
       "    </tr>\n",
       "  </thead>\n",
       "  <tbody>\n",
       "    <tr>\n",
       "      <th>0</th>\n",
       "      <td>neutral</td>\n",
       "      <td>What  said.</td>\n",
       "    </tr>\n",
       "    <tr>\n",
       "      <th>1</th>\n",
       "      <td>positive</td>\n",
       "      <td>plus you've added commercials to the experien...</td>\n",
       "    </tr>\n",
       "  </tbody>\n",
       "</table>\n",
       "</div>"
      ],
      "text/plain": [
       "  airline_sentiment                                               text\n",
       "0           neutral                                        What  said.\n",
       "1          positive   plus you've added commercials to the experien..."
      ]
     },
     "execution_count": 538,
     "metadata": {},
     "output_type": "execute_result"
    }
   ],
   "source": [
    "virgin[:2]"
   ]
  },
  {
   "cell_type": "code",
   "execution_count": 539,
   "metadata": {},
   "outputs": [
    {
     "data": {
      "text/plain": [
       "negative    2307\n",
       "neutral      717\n",
       "positive     540\n",
       "Name: airline_sentiment, dtype: int64"
      ]
     },
     "execution_count": 539,
     "metadata": {},
     "output_type": "execute_result"
    }
   ],
   "source": [
    "virgin['airline_sentiment'].value_counts()"
   ]
  },
  {
   "cell_type": "markdown",
   "metadata": {},
   "source": [
    "# Comparing with Vader for the Testing Airline Dataset."
   ]
  },
  {
   "cell_type": "code",
   "execution_count": 540,
   "metadata": {},
   "outputs": [],
   "source": [
    "# performing vader for the testing dataset."
   ]
  },
  {
   "cell_type": "code",
   "execution_count": 541,
   "metadata": {},
   "outputs": [],
   "source": [
    "virgin['Vader_scores'] = virgin['text'].apply(lambda text: vader.polarity_scores(text))"
   ]
  },
  {
   "cell_type": "code",
   "execution_count": 542,
   "metadata": {},
   "outputs": [],
   "source": [
    "virgin['compound']  = virgin['Vader_scores'].apply(lambda score_dict: score_dict['compound'])"
   ]
  },
  {
   "cell_type": "code",
   "execution_count": 543,
   "metadata": {},
   "outputs": [],
   "source": [
    "# Fitting the Polarity based on compound in vader \n",
    "virgin['VaderSentiment']=''\n",
    "virgin.loc[virgin.compound>0,'VaderSentiment']='Positive'\n",
    "virgin.loc[virgin.compound ==0,'VaderSentiment']='Neutral'\n",
    "virgin.loc[virgin.compound<0,'VaderSentiment']='Negative'"
   ]
  },
  {
   "cell_type": "code",
   "execution_count": 544,
   "metadata": {},
   "outputs": [
    {
     "data": {
      "text/html": [
       "<div>\n",
       "<style scoped>\n",
       "    .dataframe tbody tr th:only-of-type {\n",
       "        vertical-align: middle;\n",
       "    }\n",
       "\n",
       "    .dataframe tbody tr th {\n",
       "        vertical-align: top;\n",
       "    }\n",
       "\n",
       "    .dataframe thead th {\n",
       "        text-align: right;\n",
       "    }\n",
       "</style>\n",
       "<table border=\"1\" class=\"dataframe\">\n",
       "  <thead>\n",
       "    <tr style=\"text-align: right;\">\n",
       "      <th></th>\n",
       "      <th>airline_sentiment</th>\n",
       "      <th>text</th>\n",
       "      <th>Vader_scores</th>\n",
       "      <th>compound</th>\n",
       "      <th>VaderSentiment</th>\n",
       "    </tr>\n",
       "  </thead>\n",
       "  <tbody>\n",
       "    <tr>\n",
       "      <th>0</th>\n",
       "      <td>neutral</td>\n",
       "      <td>What  said.</td>\n",
       "      <td>{'neg': 0.0, 'neu': 1.0, 'pos': 0.0, 'compound...</td>\n",
       "      <td>0.0000</td>\n",
       "      <td>Neutral</td>\n",
       "    </tr>\n",
       "    <tr>\n",
       "      <th>1</th>\n",
       "      <td>positive</td>\n",
       "      <td>plus you've added commercials to the experien...</td>\n",
       "      <td>{'neg': 0.0, 'neu': 1.0, 'pos': 0.0, 'compound...</td>\n",
       "      <td>0.0000</td>\n",
       "      <td>Neutral</td>\n",
       "    </tr>\n",
       "    <tr>\n",
       "      <th>2</th>\n",
       "      <td>neutral</td>\n",
       "      <td>I didn't today... Must mean I need to take an...</td>\n",
       "      <td>{'neg': 0.0, 'neu': 1.0, 'pos': 0.0, 'compound...</td>\n",
       "      <td>0.0000</td>\n",
       "      <td>Neutral</td>\n",
       "    </tr>\n",
       "    <tr>\n",
       "      <th>3</th>\n",
       "      <td>negative</td>\n",
       "      <td>it's really aggressive to blast obnoxious \"en...</td>\n",
       "      <td>{'neg': 0.236, 'neu': 0.628, 'pos': 0.135, 'co...</td>\n",
       "      <td>-0.2716</td>\n",
       "      <td>Negative</td>\n",
       "    </tr>\n",
       "    <tr>\n",
       "      <th>4</th>\n",
       "      <td>negative</td>\n",
       "      <td>and it's a really big bad thing about it</td>\n",
       "      <td>{'neg': 0.321, 'neu': 0.679, 'pos': 0.0, 'comp...</td>\n",
       "      <td>-0.5829</td>\n",
       "      <td>Negative</td>\n",
       "    </tr>\n",
       "    <tr>\n",
       "      <th>...</th>\n",
       "      <td>...</td>\n",
       "      <td>...</td>\n",
       "      <td>...</td>\n",
       "      <td>...</td>\n",
       "      <td>...</td>\n",
       "    </tr>\n",
       "    <tr>\n",
       "      <th>3559</th>\n",
       "      <td>negative</td>\n",
       "      <td>Trying to change a flight booked just 6 hours...</td>\n",
       "      <td>{'neg': 0.0, 'neu': 0.772, 'pos': 0.228, 'comp...</td>\n",
       "      <td>0.7579</td>\n",
       "      <td>Positive</td>\n",
       "    </tr>\n",
       "    <tr>\n",
       "      <th>3560</th>\n",
       "      <td>negative</td>\n",
       "      <td>I have submitted my complaint. I need to be c...</td>\n",
       "      <td>{'neg': 0.136, 'neu': 0.864, 'pos': 0.0, 'comp...</td>\n",
       "      <td>-0.2960</td>\n",
       "      <td>Negative</td>\n",
       "    </tr>\n",
       "    <tr>\n",
       "      <th>3561</th>\n",
       "      <td>neutral</td>\n",
       "      <td>any info on delays at SFO tomorrow due to low...</td>\n",
       "      <td>{'neg': 0.174, 'neu': 0.826, 'pos': 0.0, 'comp...</td>\n",
       "      <td>-0.2732</td>\n",
       "      <td>Negative</td>\n",
       "    </tr>\n",
       "    <tr>\n",
       "      <th>3562</th>\n",
       "      <td>negative</td>\n",
       "      <td>because of the horrific flight experience, yo...</td>\n",
       "      <td>{'neg': 0.274, 'neu': 0.726, 'pos': 0.0, 'comp...</td>\n",
       "      <td>-0.7776</td>\n",
       "      <td>Negative</td>\n",
       "    </tr>\n",
       "    <tr>\n",
       "      <th>3563</th>\n",
       "      <td>positive</td>\n",
       "      <td>flight to RSW tonight -me &amp;amp;  twin 3 year ...</td>\n",
       "      <td>{'neg': 0.0, 'neu': 0.792, 'pos': 0.208, 'comp...</td>\n",
       "      <td>0.7955</td>\n",
       "      <td>Positive</td>\n",
       "    </tr>\n",
       "  </tbody>\n",
       "</table>\n",
       "<p>3564 rows × 5 columns</p>\n",
       "</div>"
      ],
      "text/plain": [
       "     airline_sentiment                                               text  \\\n",
       "0              neutral                                        What  said.   \n",
       "1             positive   plus you've added commercials to the experien...   \n",
       "2              neutral   I didn't today... Must mean I need to take an...   \n",
       "3             negative   it's really aggressive to blast obnoxious \"en...   \n",
       "4             negative           and it's a really big bad thing about it   \n",
       "...                ...                                                ...   \n",
       "3559          negative   Trying to change a flight booked just 6 hours...   \n",
       "3560          negative   I have submitted my complaint. I need to be c...   \n",
       "3561           neutral   any info on delays at SFO tomorrow due to low...   \n",
       "3562          negative   because of the horrific flight experience, yo...   \n",
       "3563          positive   flight to RSW tonight -me &amp;  twin 3 year ...   \n",
       "\n",
       "                                           Vader_scores  compound  \\\n",
       "0     {'neg': 0.0, 'neu': 1.0, 'pos': 0.0, 'compound...    0.0000   \n",
       "1     {'neg': 0.0, 'neu': 1.0, 'pos': 0.0, 'compound...    0.0000   \n",
       "2     {'neg': 0.0, 'neu': 1.0, 'pos': 0.0, 'compound...    0.0000   \n",
       "3     {'neg': 0.236, 'neu': 0.628, 'pos': 0.135, 'co...   -0.2716   \n",
       "4     {'neg': 0.321, 'neu': 0.679, 'pos': 0.0, 'comp...   -0.5829   \n",
       "...                                                 ...       ...   \n",
       "3559  {'neg': 0.0, 'neu': 0.772, 'pos': 0.228, 'comp...    0.7579   \n",
       "3560  {'neg': 0.136, 'neu': 0.864, 'pos': 0.0, 'comp...   -0.2960   \n",
       "3561  {'neg': 0.174, 'neu': 0.826, 'pos': 0.0, 'comp...   -0.2732   \n",
       "3562  {'neg': 0.274, 'neu': 0.726, 'pos': 0.0, 'comp...   -0.7776   \n",
       "3563  {'neg': 0.0, 'neu': 0.792, 'pos': 0.208, 'comp...    0.7955   \n",
       "\n",
       "     VaderSentiment  \n",
       "0           Neutral  \n",
       "1           Neutral  \n",
       "2           Neutral  \n",
       "3          Negative  \n",
       "4          Negative  \n",
       "...             ...  \n",
       "3559       Positive  \n",
       "3560       Negative  \n",
       "3561       Negative  \n",
       "3562       Negative  \n",
       "3563       Positive  \n",
       "\n",
       "[3564 rows x 5 columns]"
      ]
     },
     "execution_count": 544,
     "metadata": {},
     "output_type": "execute_result"
    }
   ],
   "source": [
    "virgin"
   ]
  },
  {
   "cell_type": "code",
   "execution_count": 545,
   "metadata": {},
   "outputs": [
    {
     "data": {
      "text/plain": [
       "Positive    1511\n",
       "Negative    1339\n",
       "Neutral      714\n",
       "Name: VaderSentiment, dtype: int64"
      ]
     },
     "execution_count": 545,
     "metadata": {},
     "output_type": "execute_result"
    }
   ],
   "source": [
    "virgin['VaderSentiment'].value_counts()"
   ]
  },
  {
   "cell_type": "code",
   "execution_count": 546,
   "metadata": {},
   "outputs": [],
   "source": [
    "x2,y2,z2= virgin.text,virgin.airline_sentiment,virgin.VaderSentiment"
   ]
  },
  {
   "cell_type": "code",
   "execution_count": 547,
   "metadata": {},
   "outputs": [
    {
     "name": "stdout",
     "output_type": "stream",
     "text": [
      "X2-Train Shape:  (2851,) \n",
      "x2-Test Shape: (713,)\n",
      "X2-Train Shape:  (2851,) \n",
      "Y2-Test Shape: (713,)\n",
      "Z2-Train Shape:  (2851,) \n",
      "z2-Test Shape: (713,)\n"
     ]
    }
   ],
   "source": [
    "x2_train, x2_test, y2_train, y2_test, z2_train,z2_test = train_test_split(x2,y2,z2, test_size = 0.20, random_state = 2)\n",
    "print(\"X2-Train Shape: \", x2_train.shape,'\\n' \"x2-Test Shape:\", x2_test.shape)\n",
    "print(\"X2-Train Shape: \", x2_train.shape,'\\n' \"Y2-Test Shape:\", y2_test.shape)\n",
    "print(\"Z2-Train Shape: \", z2_train.shape,'\\n' \"z2-Test Shape:\", z2_test.shape)"
   ]
  },
  {
   "cell_type": "code",
   "execution_count": 548,
   "metadata": {},
   "outputs": [],
   "source": [
    "x2_train = cleaning_the_data(x2_train) # Calling NLP function\n",
    "x2_test = cleaning_the_data(x2_test) # Calling NLP function"
   ]
  },
  {
   "cell_type": "code",
   "execution_count": 549,
   "metadata": {},
   "outputs": [],
   "source": [
    "#tfidf = TfidfVectorizer(analyzer='word', tokenizer=Mummy, preprocessor=Mummy, token_pattern=None)\n",
    "x2_train = tfidf.fit_transform(x2_train) # Tfidf \n",
    "x2_test = tfidf.transform(x2_test)      # Tfidf"
   ]
  },
  {
   "cell_type": "markdown",
   "metadata": {},
   "source": [
    "# Testing with the Given Annonated Sentimet using Naive Bayes, SVM of the Airleline Dataset."
   ]
  },
  {
   "cell_type": "code",
   "execution_count": 550,
   "metadata": {},
   "outputs": [
    {
     "name": "stdout",
     "output_type": "stream",
     "text": [
      "Accuracy Score 0.6549789621318373\n"
     ]
    }
   ],
   "source": [
    "model = MultinomialNB() # Naive Bayes\n",
    "model.fit (x2_train, y2_train)\n",
    "cy_pred = model.predict(x2_test)\n",
    "print(\"Accuracy Score\", accuracy_score(y2_test, cy_pred))"
   ]
  },
  {
   "cell_type": "code",
   "execution_count": 551,
   "metadata": {},
   "outputs": [
    {
     "name": "stdout",
     "output_type": "stream",
     "text": [
      "Accuracy Score 0.6914446002805049\n"
     ]
    }
   ],
   "source": [
    "model = svc.fit(x2_train, y2_train)  # SVM rbf Kerenel\n",
    "rbf1_y_pred = model.predict(x2_test)\n",
    "print(\"Accuracy Score\", accuracy_score(y2_test, rbf1_y_pred))"
   ]
  },
  {
   "cell_type": "markdown",
   "metadata": {},
   "source": [
    "# Testing with the Vader Annonated Sentimet using Naive Bayes, SVM of the Airleline Dataset."
   ]
  },
  {
   "cell_type": "code",
   "execution_count": 552,
   "metadata": {},
   "outputs": [
    {
     "name": "stdout",
     "output_type": "stream",
     "text": [
      "Accuracy Score 0.6451612903225806\n"
     ]
    }
   ],
   "source": [
    "model = MultinomialNB() # Naive Bayes\n",
    "model.fit (x2_train, z2_train)\n",
    "my1_pred = model.predict(x2_test)\n",
    "print(\"Accuracy Score\", accuracy_score(z2_test, my1_pred))"
   ]
  },
  {
   "cell_type": "code",
   "execution_count": 553,
   "metadata": {},
   "outputs": [
    {
     "name": "stdout",
     "output_type": "stream",
     "text": [
      "Accuracy Score 0.5680224403927069\n"
     ]
    }
   ],
   "source": [
    "model = svc.fit(x2_train, z2_train)  # SVM rbf Kerenel\n",
    "vrbf_y_pred = model.predict(x2_test)\n",
    "print(\"Accuracy Score\", accuracy_score(z2_test, vrbf_y_pred))"
   ]
  },
  {
   "cell_type": "markdown",
   "metadata": {},
   "source": [
    "# Testing with the Given Annonated Sentimet using MLP Classifier and percepton of the Airleline Dataset."
   ]
  },
  {
   "cell_type": "code",
   "execution_count": 554,
   "metadata": {},
   "outputs": [],
   "source": [
    "virgin['airline_sentiment']= le.fit_transform(virgin['airline_sentiment']) #Label Encoding for testing tweets\n",
    "#0-> Neutral\n",
    "#1-> Negative\n",
    "#2-> Positive"
   ]
  },
  {
   "cell_type": "code",
   "execution_count": 555,
   "metadata": {},
   "outputs": [
    {
     "name": "stdout",
     "output_type": "stream",
     "text": [
      "Accuracy Score 0.7237026647966339\n"
     ]
    }
   ],
   "source": [
    "classifier.fit(x2_train, y2_train) # MLP Classifier\n",
    "MLP1_y_pred = classifier.predict(x2_test)\n",
    "print(\"Accuracy Score\", accuracy_score(y2_test, MLP1_y_pred))"
   ]
  },
  {
   "cell_type": "code",
   "execution_count": 556,
   "metadata": {},
   "outputs": [
    {
     "name": "stdout",
     "output_type": "stream",
     "text": [
      "Accuracy Score 0.7307152875175316\n"
     ]
    }
   ],
   "source": [
    "nn.fit(x2_train, y2_train)   # Perceptron\n",
    "nn1_y_pred = nn.predict(x2_test)\n",
    "print(\"Accuracy Score\", accuracy_score(y2_test, nn1_y_pred))"
   ]
  },
  {
   "cell_type": "markdown",
   "metadata": {},
   "source": [
    "# Testing with the Vader Annonated Sentimet using MLP classifier and Perceptron of the Airleline Dataset."
   ]
  },
  {
   "cell_type": "code",
   "execution_count": 557,
   "metadata": {},
   "outputs": [
    {
     "name": "stdout",
     "output_type": "stream",
     "text": [
      "Accuracy Score 0.6521739130434783\n"
     ]
    }
   ],
   "source": [
    "classifier.fit(x2_train, z2_train) # MLP Classifier\n",
    "aMLP_y_pred = classifier.predict(x2_test)\n",
    "print(\"Accuracy Score\", accuracy_score(z2_test, aMLP_y_pred))"
   ]
  },
  {
   "cell_type": "code",
   "execution_count": 558,
   "metadata": {},
   "outputs": [
    {
     "name": "stdout",
     "output_type": "stream",
     "text": [
      "Accuracy Score 0.6605890603085554\n"
     ]
    }
   ],
   "source": [
    "nn.fit(x2_train, z2_train)   # Perceptron\n",
    "ann_y_pred = nn.predict(x2_test)\n",
    "print(\"Accuracy Score\", accuracy_score(z2_test, ann_y_pred))"
   ]
  },
  {
   "cell_type": "markdown",
   "metadata": {},
   "source": [
    "# Overall Accuracy for the Testing Models (Given Annotated sentiment in Dataset)"
   ]
  },
  {
   "cell_type": "code",
   "execution_count": 559,
   "metadata": {},
   "outputs": [],
   "source": [
    "# Testing Accuracy of the Given Annotated sentiment(Dataset) using the Models which we built "
   ]
  },
  {
   "cell_type": "code",
   "execution_count": 560,
   "metadata": {},
   "outputs": [],
   "source": [
    "final = pd.DataFrame({'TESTING Models on given Annotation': [\"Naive Bayes\",\"MLP-Classifier\",\"Perceptron\",\"SVM-rbf-Kernel\"],\n",
    "'ACCURACY': [accuracy_score(y2_test, cy_pred),accuracy_score(y2_test, MLP1_y_pred),accuracy_score(y2_test, nn1_y_pred), accuracy_score(y2_test, rbf1_y_pred)] })"
   ]
  },
  {
   "cell_type": "code",
   "execution_count": 561,
   "metadata": {},
   "outputs": [
    {
     "data": {
      "text/html": [
       "<div>\n",
       "<style scoped>\n",
       "    .dataframe tbody tr th:only-of-type {\n",
       "        vertical-align: middle;\n",
       "    }\n",
       "\n",
       "    .dataframe tbody tr th {\n",
       "        vertical-align: top;\n",
       "    }\n",
       "\n",
       "    .dataframe thead th {\n",
       "        text-align: right;\n",
       "    }\n",
       "</style>\n",
       "<table border=\"1\" class=\"dataframe\">\n",
       "  <thead>\n",
       "    <tr style=\"text-align: right;\">\n",
       "      <th></th>\n",
       "      <th>TESTING Models on given Annotation</th>\n",
       "    </tr>\n",
       "    <tr>\n",
       "      <th>ACCURACY</th>\n",
       "      <th></th>\n",
       "    </tr>\n",
       "  </thead>\n",
       "  <tbody>\n",
       "    <tr>\n",
       "      <th>0.730715</th>\n",
       "      <td>Perceptron</td>\n",
       "    </tr>\n",
       "    <tr>\n",
       "      <th>0.723703</th>\n",
       "      <td>MLP-Classifier</td>\n",
       "    </tr>\n",
       "    <tr>\n",
       "      <th>0.691445</th>\n",
       "      <td>SVM-rbf-Kernel</td>\n",
       "    </tr>\n",
       "    <tr>\n",
       "      <th>0.654979</th>\n",
       "      <td>Naive Bayes</td>\n",
       "    </tr>\n",
       "  </tbody>\n",
       "</table>\n",
       "</div>"
      ],
      "text/plain": [
       "         TESTING Models on given Annotation\n",
       "ACCURACY                                   \n",
       "0.730715                         Perceptron\n",
       "0.723703                     MLP-Classifier\n",
       "0.691445                     SVM-rbf-Kernel\n",
       "0.654979                        Naive Bayes"
      ]
     },
     "execution_count": 561,
     "metadata": {},
     "output_type": "execute_result"
    }
   ],
   "source": [
    "# Each Model Strength and Weakness \n",
    "end= final.sort_values(by='ACCURACY', ascending=False)\n",
    "end_all1 = end.set_index('ACCURACY')\n",
    "end_all1"
   ]
  },
  {
   "cell_type": "code",
   "execution_count": 562,
   "metadata": {},
   "outputs": [
    {
     "data": {
      "image/png": "[encoded data removed]",
      "text/plain": [
       "<Figure size 432x288 with 1 Axes>"
      ]
     },
     "metadata": {},
     "output_type": "display_data"
    }
   ],
   "source": [
    "sns.set_theme(style=\"whitegrid\")\n",
    "ax = sns.barplot(data = final, x=\"TESTING Models on given Annotation\", y=\"ACCURACY\")"
   ]
  },
  {
   "cell_type": "code",
   "execution_count": 563,
   "metadata": {},
   "outputs": [],
   "source": [
    "# On comparing with the testing models vs the Actual Models we can tell that the testing models are in \n",
    "# good performance as it has the actual sentiment rather than hand annotated."
   ]
  },
  {
   "cell_type": "markdown",
   "metadata": {},
   "source": [
    "# Overall Accuracy for the Testing Models (Vader Annotated sentiment, which we did.)"
   ]
  },
  {
   "cell_type": "code",
   "execution_count": 564,
   "metadata": {},
   "outputs": [],
   "source": [
    "overall = pd.DataFrame({'TESTING Modles On Vader': [\"Naive Bayes\",\"MLP-Classifier\",\"Perceptron\",\"SVM-rbf-Kernel\"],\n",
    "'ACCURACY': [accuracy_score(z2_test, my1_pred),accuracy_score(z2_test, aMLP_y_pred),accuracy_score(z2_test, ann_y_pred), accuracy_score(z2_test, vrbf_y_pred)] })"
   ]
  },
  {
   "cell_type": "code",
   "execution_count": 565,
   "metadata": {},
   "outputs": [
    {
     "data": {
      "text/html": [
       "<div>\n",
       "<style scoped>\n",
       "    .dataframe tbody tr th:only-of-type {\n",
       "        vertical-align: middle;\n",
       "    }\n",
       "\n",
       "    .dataframe tbody tr th {\n",
       "        vertical-align: top;\n",
       "    }\n",
       "\n",
       "    .dataframe thead th {\n",
       "        text-align: right;\n",
       "    }\n",
       "</style>\n",
       "<table border=\"1\" class=\"dataframe\">\n",
       "  <thead>\n",
       "    <tr style=\"text-align: right;\">\n",
       "      <th></th>\n",
       "      <th>TESTING Modles On Vader</th>\n",
       "    </tr>\n",
       "    <tr>\n",
       "      <th>ACCURACY</th>\n",
       "      <th></th>\n",
       "    </tr>\n",
       "  </thead>\n",
       "  <tbody>\n",
       "    <tr>\n",
       "      <th>0.660589</th>\n",
       "      <td>Perceptron</td>\n",
       "    </tr>\n",
       "    <tr>\n",
       "      <th>0.652174</th>\n",
       "      <td>MLP-Classifier</td>\n",
       "    </tr>\n",
       "    <tr>\n",
       "      <th>0.645161</th>\n",
       "      <td>Naive Bayes</td>\n",
       "    </tr>\n",
       "    <tr>\n",
       "      <th>0.568022</th>\n",
       "      <td>SVM-rbf-Kernel</td>\n",
       "    </tr>\n",
       "  </tbody>\n",
       "</table>\n",
       "</div>"
      ],
      "text/plain": [
       "         TESTING Modles On Vader\n",
       "ACCURACY                        \n",
       "0.660589              Perceptron\n",
       "0.652174          MLP-Classifier\n",
       "0.645161             Naive Bayes\n",
       "0.568022          SVM-rbf-Kernel"
      ]
     },
     "execution_count": 565,
     "metadata": {},
     "output_type": "execute_result"
    }
   ],
   "source": [
    "# Each Model Strength and Weakness \n",
    "end= overall.sort_values(by='ACCURACY', ascending=False)\n",
    "end_all1 = end.set_index('ACCURACY')\n",
    "end_all1"
   ]
  },
  {
   "cell_type": "code",
   "execution_count": 566,
   "metadata": {},
   "outputs": [
    {
     "data": {
      "image/png": "[encoded data removed]",
      "text/plain": [
       "<Figure size 432x288 with 1 Axes>"
      ]
     },
     "metadata": {},
     "output_type": "display_data"
    }
   ],
   "source": [
    "sns.set_theme(style=\"whitegrid\")\n",
    "ax = sns.barplot(data = overall, x=\"TESTING Modles On Vader\", y=\"ACCURACY\")"
   ]
  },
  {
   "cell_type": "markdown",
   "metadata": {},
   "source": [
    "# Conclusion"
   ]
  },
  {
   "cell_type": "code",
   "execution_count": 567,
   "metadata": {},
   "outputs": [],
   "source": [
    "# from this detailed analysis of our US Political Persons\n",
    "   #-> we can tell that our hand annotated sentiment were very Effective, \n",
    "   #-> Vader Annotated sentiment were not that much logical and Less Effective,\n",
    "   #-> Result of hand annotated vs Vader tells that Hand Annotated is good rather than Vader Accuracy.\n",
    "\n",
    "# Testing of the US Airline dataset to validate our claim towards the US Political Persons data is Proved.\n",
    "  #-> The Given Annotated sentiment of the US Airline is effective \n",
    "  #-> Vader Annotated sentiment which we crated is less effective and No logical understanding of meaning it considered.\n",
    "  #-> Result of the Given Annotated Sentiment is Very good and rather than Vader Accuracy\n",
    "\n",
    "#-> Therefore testing is hence proved and our Hand Annotated for the US Political persons are Correct on comparing with \n",
    "    # Tested Dataset of US Airlines."
   ]
  }
 ],
 "metadata": {
  "kernelspec": {
   "display_name": "Python 3",
   "language": "python",
   "name": "python3"
  },
  "language_info": {
   "codemirror_mode": {
    "name": "ipython",
    "version": 3
   },
   "file_extension": ".py",
   "mimetype": "text/x-python",
   "name": "python",
   "nbconvert_exporter": "python",
   "pygments_lexer": "ipython3",
   "version": "3.7.9"
  }
 },
 "nbformat": 4,
 "nbformat_minor": 4
}
