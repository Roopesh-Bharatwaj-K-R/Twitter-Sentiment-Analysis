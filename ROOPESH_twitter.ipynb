{
 "cells": [
  {
   "cell_type": "markdown",
   "metadata": {},
   "source": [
    "# SENTIMENT ANALYSIS ON UNITED STATES POLITICS ( From March 2021 till April 2021)"
   ]
  },
  {
   "cell_type": "code",
   "execution_count": 2,
   "metadata": {},
   "outputs": [],
   "source": [
    "#•\tFetched Data using Tweepy on Multiple days from March till April 2021. On Us Political persons (\"OBAMA\", \"trump\", \"Bernie sanders\", \"Hilary Clinton\")\n",
    "#•\tCombined Multiple CSV into single CSV using Coding\n",
    "#•\tRemoval of Un wanted Columns and The Re-Tweets in Tweets\n",
    "#•\tRemoval of Patterns in the tweet\n",
    "#•\tUsing VADER to find the polarity of the Tweets \n",
    "#•\tVirtualization of the Tweets using the Vader\n",
    "#---Final Dataset for training with polarity \n",
    "#•\tNLP -Stop words, Stemmer, Lemmatizes, TFIDF #\n",
    "#•\tPreparing the Model (Naïve Bayes, Multilayer Perceptron, Perceptron)\n",
    "#•\tPredicting Results of the Tweets\n",
    "#•\tComparing each Model with the Vader\n",
    "#•\tVirtualization of the Predicted tweets.\n",
    "\n"
   ]
  },
  {
   "cell_type": "code",
   "execution_count": 3,
   "metadata": {},
   "outputs": [],
   "source": [
    "import pandas as pd\n",
    "import numpy as np\n",
    "import matplotlib.pyplot as plt\n",
    "import seaborn as sns\n",
    "from datetime import datetime\n",
    "import time"
   ]
  },
  {
   "cell_type": "code",
   "execution_count": 4,
   "metadata": {},
   "outputs": [],
   "source": [
    "#Path for Dataset\n",
    "import os\n",
    "import glob # Make a folder and place all the csv file and take Folder path.\n",
    "os.chdir(\"C:/Users/user/PycharmProjects/Twitter _tweets_fetching/tweets_csv\") # Folder Path"
   ]
  },
  {
   "cell_type": "code",
   "execution_count": 5,
   "metadata": {},
   "outputs": [],
   "source": [
    "# Searching for the CSV extension in the particular directory \n",
    "extension = 'csv'\n",
    "all_filenames = [i for i in glob.glob('*.{}'.format(extension))]"
   ]
  },
  {
   "cell_type": "code",
   "execution_count": 6,
   "metadata": {},
   "outputs": [
    {
     "name": "stderr",
     "output_type": "stream",
     "text": [
      "C:\\Users\\user\\anaconda3\\envs\\MLEnv\\lib\\site-packages\\IPython\\core\\interactiveshell.py:3338: DtypeWarning: Columns (0,1,2,3,4,7,8,9,10,11,12,13,14,15,16,17,18,19,23,24,25,26,27,28,35,36,37,39,40,41,43,44,45,46,51,57,58,60,70,71,81,82,83,84,85,86,87,88,89,90,91,92,93,94,95,96,97,98,99,100,101,102,103,104,105,106,107,108,109,110,111,112,113,114,115,116,117,118,119,120,121,122,123,124,125,126,127,128,129,130,131,132,133,134,135,136,137,138,139,140,141,142,143,144,145,146,147,148,149,150,151,152,153,154,155,156,157,158,159,160,161,162,163,164,165,166,167,168,300,301,302,303,304,305,306,307,308,309,310,311,312,313,314,315,316,317,318,319,320,321,322,323,324,325,326,327,328,329,330,331,332,333,334,335,336,337,338,339,340,341,342,343,344,345,346,347,348,349,350,351,352,353,354,355,356,357,358,359,360,361,362,363,364,365,366,367,368,369,370,371,372,373,374,375,376,377,378,379,380,381,382,383,384,385,386,387,388,389,390,391,392,393,394,395,396,397,398,399,400,401,402,403,404,405,406,407,408,409,410,411,412,413,414,415,416,417,418,419,420,421,422,423,424,425,426,427,428,429,430,431,432,433,434,435,436,437,438,439,440,441,442,443,444,445,446,447,448,449,450,451,452,453,454,455,456,457,458,459,460,461,462,463,464,465,466,467,468,469,470,471,472,473,474,475,476,477,478,479,480,481,482,483,484,485,486,487,488,489,490,491,492,493,494,495,496,497,498,499,500,501,502,503,504,505,506,507,508,509,510,511,512,513,514,515,516,517,518,519,520,521,522,523,524,525,526,527,528,529,530,531,532,533,534,535,536,537,538,539,540,541,542,543,544,545,546,547,548,549,550,551,552,553,554,555,556,557,558,559,560,561,562,563,564,565,566,567,568,569,570,571,572,573,574,575,576,577,578,579,580,581,582,583,584,585,586,587,588,589,590,591,592,593,594,595,596,597,598,599,600,601,602,603,604,605,606,607,608,609,610,611,612,613,614,615,616,617,618,619,620,621,622,623,624,625,626,627,628,629,630,631,632,633,634,635,636,637,638,639,640,641,642,643,644,645,646,647,648,649,650,651,652,653,654,655,656,657,658,659,660,661,662,663,664,665,666,667,668,669,670,671,672,673,674,675,676,677,678,679,680,681,682,683,684,685,686,687,688,689,690,691,692,693,694,695,696,697,698,699,700,701,702,703,704,705,706,707,708,709,710,711,712,713,714,715,716,717,718,719,720,721,722,723,724,725,726,727,728,729,730,731,732,733,734,735,736,737,738,739,740,741,742,743,744,745,746,747,748,749,750,751,752,753,754,755,756,757,758,759,760,761,762,763,764,765,766,767,768,769,770,771,772,773,774,775,776,777,778,779,780,781,782,783,784,785,786,787,788,789,790,791,792,793,794,795,796,797,798,799,800,801,802,803,804,805,806,807,808,809,810,811,812,813,814,815,816,817,818,819,820,821,822,823,824,825,826,827,828,829,830,831,832,833,834,835,836,837,838,839,840,841,842,843,844,845,846,847,848,849,850,851,852,853,854,855,856,857,858,859,860,861,862,863,864,865,866,867,868,869,870,871,872,873,874,875,876,877,878,879,880,881,882,883,884,885,886,887,888,889,890,891,892,893,894,895,896,897,898,899,900,901,902,903,904,905,906,907,908,909,910) have mixed types.Specify dtype option on import or set low_memory=False.\n",
      "  if (await self.run_code(code, result,  async_=asy)):\n",
      "C:\\Users\\user\\anaconda3\\envs\\MLEnv\\lib\\site-packages\\IPython\\core\\interactiveshell.py:3338: DtypeWarning: Columns (300,301,302,303,304,305,306,307,308,309,310,311,312,313,314,315,316,317,318,319,320,321,322,323,324,325,326,327,328,329,330,331,332,333,334,335,336,337,338,339,340,341,342,343,344,345,346,347,348,349,350,351,352,353,354,355,356,357,358,359,360,361,362,363,364,365,366,367,368,369,370,371,372,373,374,375) have mixed types.Specify dtype option on import or set low_memory=False.\n",
      "  if (await self.run_code(code, result,  async_=asy)):\n"
     ]
    }
   ],
   "source": [
    "#combine all CSV files in the list # Since dataset is very large and Raw, refining has not done and will be done in code.\n",
    "combined_csv = pd.concat([pd.read_csv(f) for f in all_filenames ])\n",
    "# export to single csv \n",
    "# Named combined_csv.csv. \n",
    "combined_csv.to_csv( \"combined_csv.csv\", index=False, encoding='utf-8-sig')"
   ]
  },
  {
   "cell_type": "markdown",
   "metadata": {},
   "source": [
    "# FEATURE ENGINEERING"
   ]
  },
  {
   "cell_type": "code",
   "execution_count": 7,
   "metadata": {},
   "outputs": [
    {
     "data": {
      "text/html": [
       "<div>\n",
       "<style scoped>\n",
       "    .dataframe tbody tr th:only-of-type {\n",
       "        vertical-align: middle;\n",
       "    }\n",
       "\n",
       "    .dataframe tbody tr th {\n",
       "        vertical-align: top;\n",
       "    }\n",
       "\n",
       "    .dataframe thead th {\n",
       "        text-align: right;\n",
       "    }\n",
       "</style>\n",
       "<table border=\"1\" class=\"dataframe\">\n",
       "  <thead>\n",
       "    <tr style=\"text-align: right;\">\n",
       "      <th></th>\n",
       "      <th>{\"created_at\":\"Wed Mar 03 15:37:42 +0000 2021\"</th>\n",
       "      <th>id:1367137111569272838</th>\n",
       "      <th>id_str:\"1367137111569272838\"</th>\n",
       "      <th>text:\"ofc liberals are on the opposite side of that same coin</th>\n",
       "      <th>generating similar thoughts with the opposite assumptions;\\u2026 https:\\/\\/t.co\\/BgChjo35ps\"</th>\n",
       "      <th>source:\"\\u003ca href=\\\"http:\\/\\/twitter.com\\/download\\/iphone\\\" rel=\\\"nofollow\\\"\\u003eTwitter for iPhone\\u003c\\/a\\u003e\"</th>\n",
       "      <th>truncated:true</th>\n",
       "      <th>in_reply_to_status_id:1367137110436831235</th>\n",
       "      <th>in_reply_to_status_id_str:\"1367137110436831235\"</th>\n",
       "      <th>in_reply_to_user_id:187562097</th>\n",
       "      <th>...</th>\n",
       "      <th>entities:{\"hashtags\":[].3</th>\n",
       "      <th>urls:[{\"url\":\"https:\\/\\/t.co\\/HRHvpA32yv\"</th>\n",
       "      <th>expanded_url:\"https:\\/\\/twitter.com\\/i\\/web\\/status\\/1385633025933807616\"</th>\n",
       "      <th>display_url:\"twitter.com\\/i\\/web\\/status\\/1\\u2026\".1</th>\n",
       "      <th>user_mentions:[].3</th>\n",
       "      <th>symbols:[]}.1</th>\n",
       "      <th>favorited:false.1</th>\n",
       "      <th>retweeted:false.1</th>\n",
       "      <th>filter_level:\"low\".1</th>\n",
       "      <th>timestamp_ms:\"1619195631856\"}</th>\n",
       "    </tr>\n",
       "  </thead>\n",
       "  <tbody>\n",
       "    <tr>\n",
       "      <th>0</th>\n",
       "      <td>NaN</td>\n",
       "      <td>NaN</td>\n",
       "      <td>NaN</td>\n",
       "      <td>NaN</td>\n",
       "      <td>NaN</td>\n",
       "      <td>NaN</td>\n",
       "      <td>NaN</td>\n",
       "      <td>NaN</td>\n",
       "      <td>NaN</td>\n",
       "      <td>NaN</td>\n",
       "      <td>...</td>\n",
       "      <td>NaN</td>\n",
       "      <td>NaN</td>\n",
       "      <td>NaN</td>\n",
       "      <td>NaN</td>\n",
       "      <td>NaN</td>\n",
       "      <td>NaN</td>\n",
       "      <td>NaN</td>\n",
       "      <td>NaN</td>\n",
       "      <td>NaN</td>\n",
       "      <td>NaN</td>\n",
       "    </tr>\n",
       "    <tr>\n",
       "      <th>1</th>\n",
       "      <td>{\"created_at\":\"Wed Mar 03 15:37:43 +0000 2021\"</td>\n",
       "      <td>id:1367137117072224259</td>\n",
       "      <td>id_str:\"1367137117072224259\"</td>\n",
       "      <td>text:\"RT @BillKristol: From 9\\/11 truthers to ...</td>\n",
       "      <td>source:\"\\u003ca href=\\\"https:\\/\\/mobile.twitte...</td>\n",
       "      <td>truncated:false</td>\n",
       "      <td>in_reply_to_status_id:null</td>\n",
       "      <td>in_reply_to_status_id_str:null</td>\n",
       "      <td>in_reply_to_user_id:null</td>\n",
       "      <td>in_reply_to_user_id_str:null</td>\n",
       "      <td>...</td>\n",
       "      <td>NaN</td>\n",
       "      <td>NaN</td>\n",
       "      <td>NaN</td>\n",
       "      <td>NaN</td>\n",
       "      <td>NaN</td>\n",
       "      <td>NaN</td>\n",
       "      <td>NaN</td>\n",
       "      <td>NaN</td>\n",
       "      <td>NaN</td>\n",
       "      <td>NaN</td>\n",
       "    </tr>\n",
       "    <tr>\n",
       "      <th>2</th>\n",
       "      <td>NaN</td>\n",
       "      <td>NaN</td>\n",
       "      <td>NaN</td>\n",
       "      <td>NaN</td>\n",
       "      <td>NaN</td>\n",
       "      <td>NaN</td>\n",
       "      <td>NaN</td>\n",
       "      <td>NaN</td>\n",
       "      <td>NaN</td>\n",
       "      <td>NaN</td>\n",
       "      <td>...</td>\n",
       "      <td>NaN</td>\n",
       "      <td>NaN</td>\n",
       "      <td>NaN</td>\n",
       "      <td>NaN</td>\n",
       "      <td>NaN</td>\n",
       "      <td>NaN</td>\n",
       "      <td>NaN</td>\n",
       "      <td>NaN</td>\n",
       "      <td>NaN</td>\n",
       "      <td>NaN</td>\n",
       "    </tr>\n",
       "    <tr>\n",
       "      <th>3</th>\n",
       "      <td>{\"created_at\":\"Wed Mar 03 15:37:49 +0000 2021\"</td>\n",
       "      <td>id:1367137141713739784</td>\n",
       "      <td>id_str:\"1367137141713739784\"</td>\n",
       "      <td>text:\"Bernie Sanders reveals that the family f...</td>\n",
       "      <td>source:\"\\u003ca href=\\\"https:\\/\\/cheapbotsdone...</td>\n",
       "      <td>Done Quick!\\u003c\\/a\\u003e\"</td>\n",
       "      <td>truncated:false</td>\n",
       "      <td>in_reply_to_status_id:null</td>\n",
       "      <td>in_reply_to_status_id_str:null</td>\n",
       "      <td>in_reply_to_user_id:null</td>\n",
       "      <td>...</td>\n",
       "      <td>NaN</td>\n",
       "      <td>NaN</td>\n",
       "      <td>NaN</td>\n",
       "      <td>NaN</td>\n",
       "      <td>NaN</td>\n",
       "      <td>NaN</td>\n",
       "      <td>NaN</td>\n",
       "      <td>NaN</td>\n",
       "      <td>NaN</td>\n",
       "      <td>NaN</td>\n",
       "    </tr>\n",
       "    <tr>\n",
       "      <th>4</th>\n",
       "      <td>NaN</td>\n",
       "      <td>NaN</td>\n",
       "      <td>NaN</td>\n",
       "      <td>NaN</td>\n",
       "      <td>NaN</td>\n",
       "      <td>NaN</td>\n",
       "      <td>NaN</td>\n",
       "      <td>NaN</td>\n",
       "      <td>NaN</td>\n",
       "      <td>NaN</td>\n",
       "      <td>...</td>\n",
       "      <td>NaN</td>\n",
       "      <td>NaN</td>\n",
       "      <td>NaN</td>\n",
       "      <td>NaN</td>\n",
       "      <td>NaN</td>\n",
       "      <td>NaN</td>\n",
       "      <td>NaN</td>\n",
       "      <td>NaN</td>\n",
       "      <td>NaN</td>\n",
       "      <td>NaN</td>\n",
       "    </tr>\n",
       "    <tr>\n",
       "      <th>...</th>\n",
       "      <td>...</td>\n",
       "      <td>...</td>\n",
       "      <td>...</td>\n",
       "      <td>...</td>\n",
       "      <td>...</td>\n",
       "      <td>...</td>\n",
       "      <td>...</td>\n",
       "      <td>...</td>\n",
       "      <td>...</td>\n",
       "      <td>...</td>\n",
       "      <td>...</td>\n",
       "      <td>...</td>\n",
       "      <td>...</td>\n",
       "      <td>...</td>\n",
       "      <td>...</td>\n",
       "      <td>...</td>\n",
       "      <td>...</td>\n",
       "      <td>...</td>\n",
       "      <td>...</td>\n",
       "      <td>...</td>\n",
       "      <td>...</td>\n",
       "    </tr>\n",
       "    <tr>\n",
       "      <th>4199</th>\n",
       "      <td>NaN</td>\n",
       "      <td>NaN</td>\n",
       "      <td>NaN</td>\n",
       "      <td>NaN</td>\n",
       "      <td>NaN</td>\n",
       "      <td>000 drones in his 8-year presidency. Backed co...</td>\n",
       "      <td>Paraguay</td>\n",
       "      <td>NaN</td>\n",
       "      <td>NaN</td>\n",
       "      <td>NaN</td>\n",
       "      <td>...</td>\n",
       "      <td>statuses_count:868879</td>\n",
       "      <td>created_at:\"Thu Mar 22 18:15:18 +0000 2007\"</td>\n",
       "      <td>utc_offset:null</td>\n",
       "      <td>time_zone:null</td>\n",
       "      <td>contributors_enabled:false</td>\n",
       "      <td>is_translator:false</td>\n",
       "      <td>profile_background_color:\"9AE4E8\"</td>\n",
       "      <td>profile_background_image_url:\"http:\\/\\/abs.twi...</td>\n",
       "      <td>profile_background_image_url_https:\"https:\\/\\/...</td>\n",
       "      <td>profile_link_color:\"FF0021\"</td>\n",
       "    </tr>\n",
       "    <tr>\n",
       "      <th>4200</th>\n",
       "      <td>NaN</td>\n",
       "      <td>NaN</td>\n",
       "      <td>NaN</td>\n",
       "      <td>NaN</td>\n",
       "      <td>NaN</td>\n",
       "      <td>NaN</td>\n",
       "      <td>NaN</td>\n",
       "      <td>NaN</td>\n",
       "      <td>NaN</td>\n",
       "      <td>NaN</td>\n",
       "      <td>...</td>\n",
       "      <td>NaN</td>\n",
       "      <td>NaN</td>\n",
       "      <td>NaN</td>\n",
       "      <td>NaN</td>\n",
       "      <td>NaN</td>\n",
       "      <td>NaN</td>\n",
       "      <td>NaN</td>\n",
       "      <td>NaN</td>\n",
       "      <td>NaN</td>\n",
       "      <td>NaN</td>\n",
       "    </tr>\n",
       "    <tr>\n",
       "      <th>4201</th>\n",
       "      <td>NaN</td>\n",
       "      <td>NaN</td>\n",
       "      <td>NaN</td>\n",
       "      <td>NaN</td>\n",
       "      <td>NaN</td>\n",
       "      <td>display_text_range:[12</td>\n",
       "      <td>101]</td>\n",
       "      <td>NaN</td>\n",
       "      <td>NaN</td>\n",
       "      <td>NaN</td>\n",
       "      <td>...</td>\n",
       "      <td>NaN</td>\n",
       "      <td>NaN</td>\n",
       "      <td>NaN</td>\n",
       "      <td>NaN</td>\n",
       "      <td>NaN</td>\n",
       "      <td>NaN</td>\n",
       "      <td>NaN</td>\n",
       "      <td>NaN</td>\n",
       "      <td>NaN</td>\n",
       "      <td>NaN</td>\n",
       "    </tr>\n",
       "    <tr>\n",
       "      <th>4202</th>\n",
       "      <td>NaN</td>\n",
       "      <td>NaN</td>\n",
       "      <td>NaN</td>\n",
       "      <td>NaN</td>\n",
       "      <td>NaN</td>\n",
       "      <td>NaN</td>\n",
       "      <td>NaN</td>\n",
       "      <td>NaN</td>\n",
       "      <td>NaN</td>\n",
       "      <td>NaN</td>\n",
       "      <td>...</td>\n",
       "      <td>NaN</td>\n",
       "      <td>NaN</td>\n",
       "      <td>NaN</td>\n",
       "      <td>NaN</td>\n",
       "      <td>NaN</td>\n",
       "      <td>NaN</td>\n",
       "      <td>NaN</td>\n",
       "      <td>NaN</td>\n",
       "      <td>NaN</td>\n",
       "      <td>NaN</td>\n",
       "    </tr>\n",
       "    <tr>\n",
       "      <th>4203</th>\n",
       "      <td>NaN</td>\n",
       "      <td>NaN</td>\n",
       "      <td>NaN</td>\n",
       "      <td>NaN</td>\n",
       "      <td>NaN</td>\n",
       "      <td>almost solely because it has b\\u2026\"</td>\n",
       "      <td>source:\"\\u003ca href=\\\"https:\\/\\/mobile.twitte...</td>\n",
       "      <td>NaN</td>\n",
       "      <td>NaN</td>\n",
       "      <td>NaN</td>\n",
       "      <td>...</td>\n",
       "      <td>contributors_enabled:false</td>\n",
       "      <td>is_translator:false</td>\n",
       "      <td>profile_background_color:\"131516\"</td>\n",
       "      <td>profile_background_image_url:\"http:\\/\\/abs.twi...</td>\n",
       "      <td>profile_link_color:\"F50814\"</td>\n",
       "      <td>profile_sidebar_border_color:\"FFFFFF\"</td>\n",
       "      <td>profile_sidebar_fill_color:\"DDEEF6\"</td>\n",
       "      <td>profile_text_color:\"333333\"</td>\n",
       "      <td>profile_use_background_image:true</td>\n",
       "      <td>profile_image_url_https:\"https:\\/\\/pbs.twimg.c...</td>\n",
       "    </tr>\n",
       "  </tbody>\n",
       "</table>\n",
       "<p>56760 rows × 911 columns</p>\n",
       "</div>"
      ],
      "text/plain": [
       "      {\"created_at\":\"Wed Mar 03 15:37:42 +0000 2021\"  id:1367137111569272838  \\\n",
       "0                                                NaN                     NaN   \n",
       "1     {\"created_at\":\"Wed Mar 03 15:37:43 +0000 2021\"  id:1367137117072224259   \n",
       "2                                                NaN                     NaN   \n",
       "3     {\"created_at\":\"Wed Mar 03 15:37:49 +0000 2021\"  id:1367137141713739784   \n",
       "4                                                NaN                     NaN   \n",
       "...                                              ...                     ...   \n",
       "4199                                             NaN                     NaN   \n",
       "4200                                             NaN                     NaN   \n",
       "4201                                             NaN                     NaN   \n",
       "4202                                             NaN                     NaN   \n",
       "4203                                             NaN                     NaN   \n",
       "\n",
       "      id_str:\"1367137111569272838\"  \\\n",
       "0                              NaN   \n",
       "1     id_str:\"1367137117072224259\"   \n",
       "2                              NaN   \n",
       "3     id_str:\"1367137141713739784\"   \n",
       "4                              NaN   \n",
       "...                            ...   \n",
       "4199                           NaN   \n",
       "4200                           NaN   \n",
       "4201                           NaN   \n",
       "4202                           NaN   \n",
       "4203                           NaN   \n",
       "\n",
       "     text:\"ofc liberals are on the opposite side of that same coin  \\\n",
       "0                                                   NaN              \n",
       "1     text:\"RT @BillKristol: From 9\\/11 truthers to ...              \n",
       "2                                                   NaN              \n",
       "3     text:\"Bernie Sanders reveals that the family f...              \n",
       "4                                                   NaN              \n",
       "...                                                 ...              \n",
       "4199                                                NaN              \n",
       "4200                                                NaN              \n",
       "4201                                                NaN              \n",
       "4202                                                NaN              \n",
       "4203                                                NaN              \n",
       "\n",
       "      generating similar thoughts with the opposite assumptions;\\u2026 https:\\/\\/t.co\\/BgChjo35ps\"  \\\n",
       "0                                                   NaN                                              \n",
       "1     source:\"\\u003ca href=\\\"https:\\/\\/mobile.twitte...                                              \n",
       "2                                                   NaN                                              \n",
       "3     source:\"\\u003ca href=\\\"https:\\/\\/cheapbotsdone...                                              \n",
       "4                                                   NaN                                              \n",
       "...                                                 ...                                              \n",
       "4199                                                NaN                                              \n",
       "4200                                                NaN                                              \n",
       "4201                                                NaN                                              \n",
       "4202                                                NaN                                              \n",
       "4203                                                NaN                                              \n",
       "\n",
       "     source:\"\\u003ca href=\\\"http:\\/\\/twitter.com\\/download\\/iphone\\\" rel=\\\"nofollow\\\"\\u003eTwitter for iPhone\\u003c\\/a\\u003e\"  \\\n",
       "0                                                   NaN                                                                         \n",
       "1                                       truncated:false                                                                         \n",
       "2                                                   NaN                                                                         \n",
       "3                           Done Quick!\\u003c\\/a\\u003e\"                                                                         \n",
       "4                                                   NaN                                                                         \n",
       "...                                                 ...                                                                         \n",
       "4199  000 drones in his 8-year presidency. Backed co...                                                                         \n",
       "4200                                                NaN                                                                         \n",
       "4201                             display_text_range:[12                                                                         \n",
       "4202                                                NaN                                                                         \n",
       "4203              almost solely because it has b\\u2026\"                                                                         \n",
       "\n",
       "                                         truncated:true  \\\n",
       "0                                                   NaN   \n",
       "1                            in_reply_to_status_id:null   \n",
       "2                                                   NaN   \n",
       "3                                       truncated:false   \n",
       "4                                                   NaN   \n",
       "...                                                 ...   \n",
       "4199                                           Paraguay   \n",
       "4200                                                NaN   \n",
       "4201                                               101]   \n",
       "4202                                                NaN   \n",
       "4203  source:\"\\u003ca href=\\\"https:\\/\\/mobile.twitte...   \n",
       "\n",
       "     in_reply_to_status_id:1367137110436831235  \\\n",
       "0                                          NaN   \n",
       "1               in_reply_to_status_id_str:null   \n",
       "2                                          NaN   \n",
       "3                   in_reply_to_status_id:null   \n",
       "4                                          NaN   \n",
       "...                                        ...   \n",
       "4199                                       NaN   \n",
       "4200                                       NaN   \n",
       "4201                                       NaN   \n",
       "4202                                       NaN   \n",
       "4203                                       NaN   \n",
       "\n",
       "     in_reply_to_status_id_str:\"1367137110436831235\"  \\\n",
       "0                                                NaN   \n",
       "1                           in_reply_to_user_id:null   \n",
       "2                                                NaN   \n",
       "3                     in_reply_to_status_id_str:null   \n",
       "4                                                NaN   \n",
       "...                                              ...   \n",
       "4199                                             NaN   \n",
       "4200                                             NaN   \n",
       "4201                                             NaN   \n",
       "4202                                             NaN   \n",
       "4203                                             NaN   \n",
       "\n",
       "     in_reply_to_user_id:187562097  ...   entities:{\"hashtags\":[].3  \\\n",
       "0                              NaN  ...                         NaN   \n",
       "1     in_reply_to_user_id_str:null  ...                         NaN   \n",
       "2                              NaN  ...                         NaN   \n",
       "3         in_reply_to_user_id:null  ...                         NaN   \n",
       "4                              NaN  ...                         NaN   \n",
       "...                            ...  ...                         ...   \n",
       "4199                           NaN  ...       statuses_count:868879   \n",
       "4200                           NaN  ...                         NaN   \n",
       "4201                           NaN  ...                         NaN   \n",
       "4202                           NaN  ...                         NaN   \n",
       "4203                           NaN  ...  contributors_enabled:false   \n",
       "\n",
       "        urls:[{\"url\":\"https:\\/\\/t.co\\/HRHvpA32yv\"  \\\n",
       "0                                             NaN   \n",
       "1                                             NaN   \n",
       "2                                             NaN   \n",
       "3                                             NaN   \n",
       "4                                             NaN   \n",
       "...                                           ...   \n",
       "4199  created_at:\"Thu Mar 22 18:15:18 +0000 2007\"   \n",
       "4200                                          NaN   \n",
       "4201                                          NaN   \n",
       "4202                                          NaN   \n",
       "4203                          is_translator:false   \n",
       "\n",
       "     expanded_url:\"https:\\/\\/twitter.com\\/i\\/web\\/status\\/1385633025933807616\"  \\\n",
       "0                                                   NaN                          \n",
       "1                                                   NaN                          \n",
       "2                                                   NaN                          \n",
       "3                                                   NaN                          \n",
       "4                                                   NaN                          \n",
       "...                                                 ...                          \n",
       "4199                                    utc_offset:null                          \n",
       "4200                                                NaN                          \n",
       "4201                                                NaN                          \n",
       "4202                                                NaN                          \n",
       "4203                  profile_background_color:\"131516\"                          \n",
       "\n",
       "     display_url:\"twitter.com\\/i\\/web\\/status\\/1\\u2026\".1  \\\n",
       "0                                                   NaN     \n",
       "1                                                   NaN     \n",
       "2                                                   NaN     \n",
       "3                                                   NaN     \n",
       "4                                                   NaN     \n",
       "...                                                 ...     \n",
       "4199                                     time_zone:null     \n",
       "4200                                                NaN     \n",
       "4201                                                NaN     \n",
       "4202                                                NaN     \n",
       "4203  profile_background_image_url:\"http:\\/\\/abs.twi...     \n",
       "\n",
       "               user_mentions:[].3                          symbols:[]}.1  \\\n",
       "0                             NaN                                    NaN   \n",
       "1                             NaN                                    NaN   \n",
       "2                             NaN                                    NaN   \n",
       "3                             NaN                                    NaN   \n",
       "4                             NaN                                    NaN   \n",
       "...                           ...                                    ...   \n",
       "4199   contributors_enabled:false                    is_translator:false   \n",
       "4200                          NaN                                    NaN   \n",
       "4201                          NaN                                    NaN   \n",
       "4202                          NaN                                    NaN   \n",
       "4203  profile_link_color:\"F50814\"  profile_sidebar_border_color:\"FFFFFF\"   \n",
       "\n",
       "                        favorited:false.1  \\\n",
       "0                                     NaN   \n",
       "1                                     NaN   \n",
       "2                                     NaN   \n",
       "3                                     NaN   \n",
       "4                                     NaN   \n",
       "...                                   ...   \n",
       "4199    profile_background_color:\"9AE4E8\"   \n",
       "4200                                  NaN   \n",
       "4201                                  NaN   \n",
       "4202                                  NaN   \n",
       "4203  profile_sidebar_fill_color:\"DDEEF6\"   \n",
       "\n",
       "                                      retweeted:false.1  \\\n",
       "0                                                   NaN   \n",
       "1                                                   NaN   \n",
       "2                                                   NaN   \n",
       "3                                                   NaN   \n",
       "4                                                   NaN   \n",
       "...                                                 ...   \n",
       "4199  profile_background_image_url:\"http:\\/\\/abs.twi...   \n",
       "4200                                                NaN   \n",
       "4201                                                NaN   \n",
       "4202                                                NaN   \n",
       "4203                        profile_text_color:\"333333\"   \n",
       "\n",
       "                                   filter_level:\"low\".1  \\\n",
       "0                                                   NaN   \n",
       "1                                                   NaN   \n",
       "2                                                   NaN   \n",
       "3                                                   NaN   \n",
       "4                                                   NaN   \n",
       "...                                                 ...   \n",
       "4199  profile_background_image_url_https:\"https:\\/\\/...   \n",
       "4200                                                NaN   \n",
       "4201                                                NaN   \n",
       "4202                                                NaN   \n",
       "4203                  profile_use_background_image:true   \n",
       "\n",
       "                          timestamp_ms:\"1619195631856\"}  \n",
       "0                                                   NaN  \n",
       "1                                                   NaN  \n",
       "2                                                   NaN  \n",
       "3                                                   NaN  \n",
       "4                                                   NaN  \n",
       "...                                                 ...  \n",
       "4199                        profile_link_color:\"FF0021\"  \n",
       "4200                                                NaN  \n",
       "4201                                                NaN  \n",
       "4202                                                NaN  \n",
       "4203  profile_image_url_https:\"https:\\/\\/pbs.twimg.c...  \n",
       "\n",
       "[56760 rows x 911 columns]"
      ]
     },
     "execution_count": 7,
     "metadata": {},
     "output_type": "execute_result"
    }
   ],
   "source": [
    "combined_csv"
   ]
  },
  {
   "cell_type": "code",
   "execution_count": 8,
   "metadata": {},
   "outputs": [],
   "source": [
    "#list(combined_csv.columns.values.tolist())"
   ]
  },
  {
   "cell_type": "code",
   "execution_count": 9,
   "metadata": {},
   "outputs": [],
   "source": [
    "combined_csv.drop(combined_csv.iloc[:, 4:911], inplace = True, axis = 1)"
   ]
  },
  {
   "cell_type": "code",
   "execution_count": 10,
   "metadata": {},
   "outputs": [
    {
     "data": {
      "text/html": [
       "<div>\n",
       "<style scoped>\n",
       "    .dataframe tbody tr th:only-of-type {\n",
       "        vertical-align: middle;\n",
       "    }\n",
       "\n",
       "    .dataframe tbody tr th {\n",
       "        vertical-align: top;\n",
       "    }\n",
       "\n",
       "    .dataframe thead th {\n",
       "        text-align: right;\n",
       "    }\n",
       "</style>\n",
       "<table border=\"1\" class=\"dataframe\">\n",
       "  <thead>\n",
       "    <tr style=\"text-align: right;\">\n",
       "      <th></th>\n",
       "      <th>{\"created_at\":\"Wed Mar 03 15:37:42 +0000 2021\"</th>\n",
       "      <th>id:1367137111569272838</th>\n",
       "      <th>id_str:\"1367137111569272838\"</th>\n",
       "      <th>text:\"ofc liberals are on the opposite side of that same coin</th>\n",
       "    </tr>\n",
       "  </thead>\n",
       "  <tbody>\n",
       "    <tr>\n",
       "      <th>0</th>\n",
       "      <td>NaN</td>\n",
       "      <td>NaN</td>\n",
       "      <td>NaN</td>\n",
       "      <td>NaN</td>\n",
       "    </tr>\n",
       "    <tr>\n",
       "      <th>1</th>\n",
       "      <td>{\"created_at\":\"Wed Mar 03 15:37:43 +0000 2021\"</td>\n",
       "      <td>id:1367137117072224259</td>\n",
       "      <td>id_str:\"1367137117072224259\"</td>\n",
       "      <td>text:\"RT @BillKristol: From 9\\/11 truthers to ...</td>\n",
       "    </tr>\n",
       "    <tr>\n",
       "      <th>2</th>\n",
       "      <td>NaN</td>\n",
       "      <td>NaN</td>\n",
       "      <td>NaN</td>\n",
       "      <td>NaN</td>\n",
       "    </tr>\n",
       "    <tr>\n",
       "      <th>3</th>\n",
       "      <td>{\"created_at\":\"Wed Mar 03 15:37:49 +0000 2021\"</td>\n",
       "      <td>id:1367137141713739784</td>\n",
       "      <td>id_str:\"1367137141713739784\"</td>\n",
       "      <td>text:\"Bernie Sanders reveals that the family f...</td>\n",
       "    </tr>\n",
       "    <tr>\n",
       "      <th>4</th>\n",
       "      <td>NaN</td>\n",
       "      <td>NaN</td>\n",
       "      <td>NaN</td>\n",
       "      <td>NaN</td>\n",
       "    </tr>\n",
       "    <tr>\n",
       "      <th>...</th>\n",
       "      <td>...</td>\n",
       "      <td>...</td>\n",
       "      <td>...</td>\n",
       "      <td>...</td>\n",
       "    </tr>\n",
       "    <tr>\n",
       "      <th>4199</th>\n",
       "      <td>NaN</td>\n",
       "      <td>NaN</td>\n",
       "      <td>NaN</td>\n",
       "      <td>NaN</td>\n",
       "    </tr>\n",
       "    <tr>\n",
       "      <th>4200</th>\n",
       "      <td>NaN</td>\n",
       "      <td>NaN</td>\n",
       "      <td>NaN</td>\n",
       "      <td>NaN</td>\n",
       "    </tr>\n",
       "    <tr>\n",
       "      <th>4201</th>\n",
       "      <td>NaN</td>\n",
       "      <td>NaN</td>\n",
       "      <td>NaN</td>\n",
       "      <td>NaN</td>\n",
       "    </tr>\n",
       "    <tr>\n",
       "      <th>4202</th>\n",
       "      <td>NaN</td>\n",
       "      <td>NaN</td>\n",
       "      <td>NaN</td>\n",
       "      <td>NaN</td>\n",
       "    </tr>\n",
       "    <tr>\n",
       "      <th>4203</th>\n",
       "      <td>NaN</td>\n",
       "      <td>NaN</td>\n",
       "      <td>NaN</td>\n",
       "      <td>NaN</td>\n",
       "    </tr>\n",
       "  </tbody>\n",
       "</table>\n",
       "<p>56760 rows × 4 columns</p>\n",
       "</div>"
      ],
      "text/plain": [
       "      {\"created_at\":\"Wed Mar 03 15:37:42 +0000 2021\"  id:1367137111569272838  \\\n",
       "0                                                NaN                     NaN   \n",
       "1     {\"created_at\":\"Wed Mar 03 15:37:43 +0000 2021\"  id:1367137117072224259   \n",
       "2                                                NaN                     NaN   \n",
       "3     {\"created_at\":\"Wed Mar 03 15:37:49 +0000 2021\"  id:1367137141713739784   \n",
       "4                                                NaN                     NaN   \n",
       "...                                              ...                     ...   \n",
       "4199                                             NaN                     NaN   \n",
       "4200                                             NaN                     NaN   \n",
       "4201                                             NaN                     NaN   \n",
       "4202                                             NaN                     NaN   \n",
       "4203                                             NaN                     NaN   \n",
       "\n",
       "      id_str:\"1367137111569272838\"  \\\n",
       "0                              NaN   \n",
       "1     id_str:\"1367137117072224259\"   \n",
       "2                              NaN   \n",
       "3     id_str:\"1367137141713739784\"   \n",
       "4                              NaN   \n",
       "...                            ...   \n",
       "4199                           NaN   \n",
       "4200                           NaN   \n",
       "4201                           NaN   \n",
       "4202                           NaN   \n",
       "4203                           NaN   \n",
       "\n",
       "     text:\"ofc liberals are on the opposite side of that same coin  \n",
       "0                                                   NaN             \n",
       "1     text:\"RT @BillKristol: From 9\\/11 truthers to ...             \n",
       "2                                                   NaN             \n",
       "3     text:\"Bernie Sanders reveals that the family f...             \n",
       "4                                                   NaN             \n",
       "...                                                 ...             \n",
       "4199                                                NaN             \n",
       "4200                                                NaN             \n",
       "4201                                                NaN             \n",
       "4202                                                NaN             \n",
       "4203                                                NaN             \n",
       "\n",
       "[56760 rows x 4 columns]"
      ]
     },
     "execution_count": 10,
     "metadata": {},
     "output_type": "execute_result"
    }
   ],
   "source": [
    "combined_csv"
   ]
  },
  {
   "cell_type": "code",
   "execution_count": 11,
   "metadata": {},
   "outputs": [],
   "source": [
    "combined_csv.dropna(inplace= True)"
   ]
  },
  {
   "cell_type": "code",
   "execution_count": 12,
   "metadata": {},
   "outputs": [
    {
     "data": {
      "text/html": [
       "<div>\n",
       "<style scoped>\n",
       "    .dataframe tbody tr th:only-of-type {\n",
       "        vertical-align: middle;\n",
       "    }\n",
       "\n",
       "    .dataframe tbody tr th {\n",
       "        vertical-align: top;\n",
       "    }\n",
       "\n",
       "    .dataframe thead th {\n",
       "        text-align: right;\n",
       "    }\n",
       "</style>\n",
       "<table border=\"1\" class=\"dataframe\">\n",
       "  <thead>\n",
       "    <tr style=\"text-align: right;\">\n",
       "      <th></th>\n",
       "      <th>{\"created_at\":\"Wed Mar 03 15:37:42 +0000 2021\"</th>\n",
       "      <th>id:1367137111569272838</th>\n",
       "      <th>id_str:\"1367137111569272838\"</th>\n",
       "      <th>text:\"ofc liberals are on the opposite side of that same coin</th>\n",
       "    </tr>\n",
       "  </thead>\n",
       "  <tbody>\n",
       "    <tr>\n",
       "      <th>1</th>\n",
       "      <td>{\"created_at\":\"Wed Mar 03 15:37:43 +0000 2021\"</td>\n",
       "      <td>id:1367137117072224259</td>\n",
       "      <td>id_str:\"1367137117072224259\"</td>\n",
       "      <td>text:\"RT @BillKristol: From 9\\/11 truthers to ...</td>\n",
       "    </tr>\n",
       "    <tr>\n",
       "      <th>3</th>\n",
       "      <td>{\"created_at\":\"Wed Mar 03 15:37:49 +0000 2021\"</td>\n",
       "      <td>id:1367137141713739784</td>\n",
       "      <td>id_str:\"1367137141713739784\"</td>\n",
       "      <td>text:\"Bernie Sanders reveals that the family f...</td>\n",
       "    </tr>\n",
       "    <tr>\n",
       "      <th>5</th>\n",
       "      <td>{\"created_at\":\"Wed Mar 03 15:37:50 +0000 2021\"</td>\n",
       "      <td>id:1367137146545582087</td>\n",
       "      <td>id_str:\"1367137146545582087\"</td>\n",
       "      <td>text:\"RT @RichardGrenell: Albin Kurti was agai...</td>\n",
       "    </tr>\n",
       "    <tr>\n",
       "      <th>7</th>\n",
       "      <td>{\"created_at\":\"Wed Mar 03 15:37:52 +0000 2021\"</td>\n",
       "      <td>id:1367137154938331136</td>\n",
       "      <td>id_str:\"1367137154938331136\"</td>\n",
       "      <td>text:\"TRUE TRUE TRUE\"</td>\n",
       "    </tr>\n",
       "    <tr>\n",
       "      <th>9</th>\n",
       "      <td>{\"created_at\":\"Wed Mar 03 15:37:53 +0000 2021\"</td>\n",
       "      <td>id:1367137157740167173</td>\n",
       "      <td>id_str:\"1367137157740167173\"</td>\n",
       "      <td>text:\"RT @RonColeman: @paddua @drsimonegold Th...</td>\n",
       "    </tr>\n",
       "    <tr>\n",
       "      <th>...</th>\n",
       "      <td>...</td>\n",
       "      <td>...</td>\n",
       "      <td>...</td>\n",
       "      <td>...</td>\n",
       "    </tr>\n",
       "    <tr>\n",
       "      <th>563</th>\n",
       "      <td>{\"created_at\":\"Wed Mar 03 15:46:08 +0000 2021\"</td>\n",
       "      <td>id:1367139235871023105</td>\n",
       "      <td>id_str:\"1367139235871023105\"</td>\n",
       "      <td>text:\"RT @covie_93: You know what would be funny</td>\n",
       "    </tr>\n",
       "    <tr>\n",
       "      <th>565</th>\n",
       "      <td>{\"created_at\":\"Wed Mar 03 15:46:09 +0000 2021\"</td>\n",
       "      <td>id:1367139239788478468</td>\n",
       "      <td>id_str:\"1367139239788478468\"</td>\n",
       "      <td>text:\"RT @Clarknt67: #BlueMAGA celebrating the...</td>\n",
       "    </tr>\n",
       "    <tr>\n",
       "      <th>567</th>\n",
       "      <td>{\"created_at\":\"Wed Mar 03 15:46:09 +0000 2021\"</td>\n",
       "      <td>id:1367139239943618561</td>\n",
       "      <td>id_str:\"1367139239943618561\"</td>\n",
       "      <td>text:\"@DonaldJTrumpJr Barack Hussein Obama &amp;am...</td>\n",
       "    </tr>\n",
       "    <tr>\n",
       "      <th>569</th>\n",
       "      <td>{\"created_at\":\"Wed Mar 03 15:46:11 +0000 2021\"</td>\n",
       "      <td>id:1367139249091350532</td>\n",
       "      <td>id_str:\"1367139249091350532\"</td>\n",
       "      <td>text:\"RT @ILovesMyUSA: \\u203c\\ufe0fFor 8 YEARS</td>\n",
       "    </tr>\n",
       "    <tr>\n",
       "      <th>571</th>\n",
       "      <td>{\"created_at\":\"Wed Mar 03 15:46:12 +0000 2021\"</td>\n",
       "      <td>id:1367139251469582338</td>\n",
       "      <td>id_str:\"1367139251469582338\"</td>\n",
       "      <td>text:\"RT @RichardGrenell: Albin Kurti was agai...</td>\n",
       "    </tr>\n",
       "  </tbody>\n",
       "</table>\n",
       "<p>5720 rows × 4 columns</p>\n",
       "</div>"
      ],
      "text/plain": [
       "     {\"created_at\":\"Wed Mar 03 15:37:42 +0000 2021\"  id:1367137111569272838  \\\n",
       "1    {\"created_at\":\"Wed Mar 03 15:37:43 +0000 2021\"  id:1367137117072224259   \n",
       "3    {\"created_at\":\"Wed Mar 03 15:37:49 +0000 2021\"  id:1367137141713739784   \n",
       "5    {\"created_at\":\"Wed Mar 03 15:37:50 +0000 2021\"  id:1367137146545582087   \n",
       "7    {\"created_at\":\"Wed Mar 03 15:37:52 +0000 2021\"  id:1367137154938331136   \n",
       "9    {\"created_at\":\"Wed Mar 03 15:37:53 +0000 2021\"  id:1367137157740167173   \n",
       "..                                              ...                     ...   \n",
       "563  {\"created_at\":\"Wed Mar 03 15:46:08 +0000 2021\"  id:1367139235871023105   \n",
       "565  {\"created_at\":\"Wed Mar 03 15:46:09 +0000 2021\"  id:1367139239788478468   \n",
       "567  {\"created_at\":\"Wed Mar 03 15:46:09 +0000 2021\"  id:1367139239943618561   \n",
       "569  {\"created_at\":\"Wed Mar 03 15:46:11 +0000 2021\"  id:1367139249091350532   \n",
       "571  {\"created_at\":\"Wed Mar 03 15:46:12 +0000 2021\"  id:1367139251469582338   \n",
       "\n",
       "     id_str:\"1367137111569272838\"  \\\n",
       "1    id_str:\"1367137117072224259\"   \n",
       "3    id_str:\"1367137141713739784\"   \n",
       "5    id_str:\"1367137146545582087\"   \n",
       "7    id_str:\"1367137154938331136\"   \n",
       "9    id_str:\"1367137157740167173\"   \n",
       "..                            ...   \n",
       "563  id_str:\"1367139235871023105\"   \n",
       "565  id_str:\"1367139239788478468\"   \n",
       "567  id_str:\"1367139239943618561\"   \n",
       "569  id_str:\"1367139249091350532\"   \n",
       "571  id_str:\"1367139251469582338\"   \n",
       "\n",
       "    text:\"ofc liberals are on the opposite side of that same coin  \n",
       "1    text:\"RT @BillKristol: From 9\\/11 truthers to ...             \n",
       "3    text:\"Bernie Sanders reveals that the family f...             \n",
       "5    text:\"RT @RichardGrenell: Albin Kurti was agai...             \n",
       "7                                text:\"TRUE TRUE TRUE\"             \n",
       "9    text:\"RT @RonColeman: @paddua @drsimonegold Th...             \n",
       "..                                                 ...             \n",
       "563   text:\"RT @covie_93: You know what would be funny             \n",
       "565  text:\"RT @Clarknt67: #BlueMAGA celebrating the...             \n",
       "567  text:\"@DonaldJTrumpJr Barack Hussein Obama &am...             \n",
       "569     text:\"RT @ILovesMyUSA: \\u203c\\ufe0fFor 8 YEARS             \n",
       "571  text:\"RT @RichardGrenell: Albin Kurti was agai...             \n",
       "\n",
       "[5720 rows x 4 columns]"
      ]
     },
     "execution_count": 12,
     "metadata": {},
     "output_type": "execute_result"
    }
   ],
   "source": [
    "combined_csv.dropna()"
   ]
  },
  {
   "cell_type": "code",
   "execution_count": 13,
   "metadata": {},
   "outputs": [],
   "source": [
    "combined_csv.drop(combined_csv.columns[2], axis = 1, inplace = True)"
   ]
  },
  {
   "cell_type": "code",
   "execution_count": 14,
   "metadata": {},
   "outputs": [
    {
     "data": {
      "text/html": [
       "<div>\n",
       "<style scoped>\n",
       "    .dataframe tbody tr th:only-of-type {\n",
       "        vertical-align: middle;\n",
       "    }\n",
       "\n",
       "    .dataframe tbody tr th {\n",
       "        vertical-align: top;\n",
       "    }\n",
       "\n",
       "    .dataframe thead th {\n",
       "        text-align: right;\n",
       "    }\n",
       "</style>\n",
       "<table border=\"1\" class=\"dataframe\">\n",
       "  <thead>\n",
       "    <tr style=\"text-align: right;\">\n",
       "      <th></th>\n",
       "      <th>{\"created_at\":\"Wed Mar 03 15:37:42 +0000 2021\"</th>\n",
       "      <th>id:1367137111569272838</th>\n",
       "      <th>text:\"ofc liberals are on the opposite side of that same coin</th>\n",
       "    </tr>\n",
       "  </thead>\n",
       "  <tbody>\n",
       "    <tr>\n",
       "      <th>1</th>\n",
       "      <td>{\"created_at\":\"Wed Mar 03 15:37:43 +0000 2021\"</td>\n",
       "      <td>id:1367137117072224259</td>\n",
       "      <td>text:\"RT @BillKristol: From 9\\/11 truthers to ...</td>\n",
       "    </tr>\n",
       "    <tr>\n",
       "      <th>3</th>\n",
       "      <td>{\"created_at\":\"Wed Mar 03 15:37:49 +0000 2021\"</td>\n",
       "      <td>id:1367137141713739784</td>\n",
       "      <td>text:\"Bernie Sanders reveals that the family f...</td>\n",
       "    </tr>\n",
       "  </tbody>\n",
       "</table>\n",
       "</div>"
      ],
      "text/plain": [
       "   {\"created_at\":\"Wed Mar 03 15:37:42 +0000 2021\"  id:1367137111569272838  \\\n",
       "1  {\"created_at\":\"Wed Mar 03 15:37:43 +0000 2021\"  id:1367137117072224259   \n",
       "3  {\"created_at\":\"Wed Mar 03 15:37:49 +0000 2021\"  id:1367137141713739784   \n",
       "\n",
       "  text:\"ofc liberals are on the opposite side of that same coin  \n",
       "1  text:\"RT @BillKristol: From 9\\/11 truthers to ...             \n",
       "3  text:\"Bernie Sanders reveals that the family f...             "
      ]
     },
     "execution_count": 14,
     "metadata": {},
     "output_type": "execute_result"
    }
   ],
   "source": [
    "combined_csv[:2]"
   ]
  },
  {
   "cell_type": "code",
   "execution_count": 15,
   "metadata": {},
   "outputs": [
    {
     "data": {
      "text/plain": [
       "['{\"created_at\":\"Wed Mar 03 15:37:42 +0000 2021\"',\n",
       " 'id:1367137111569272838',\n",
       " 'text:\"ofc liberals are on the opposite side of that same coin']"
      ]
     },
     "execution_count": 15,
     "metadata": {},
     "output_type": "execute_result"
    }
   ],
   "source": [
    "list(combined_csv.columns)"
   ]
  },
  {
   "cell_type": "code",
   "execution_count": 16,
   "metadata": {},
   "outputs": [],
   "source": [
    "combined_csv1 = combined_csv.rename(columns = { '{\"created_at\":\"Wed Mar 03 15:37:42 +0000 2021\"':\"Date\",\"id:1367137111569272838\":\"Id\",'text:\"ofc liberals are on the opposite side of that same coin':\"Tweets\"})"
   ]
  },
  {
   "cell_type": "code",
   "execution_count": 17,
   "metadata": {},
   "outputs": [
    {
     "data": {
      "text/html": [
       "<div>\n",
       "<style scoped>\n",
       "    .dataframe tbody tr th:only-of-type {\n",
       "        vertical-align: middle;\n",
       "    }\n",
       "\n",
       "    .dataframe tbody tr th {\n",
       "        vertical-align: top;\n",
       "    }\n",
       "\n",
       "    .dataframe thead th {\n",
       "        text-align: right;\n",
       "    }\n",
       "</style>\n",
       "<table border=\"1\" class=\"dataframe\">\n",
       "  <thead>\n",
       "    <tr style=\"text-align: right;\">\n",
       "      <th></th>\n",
       "      <th>Date</th>\n",
       "      <th>Id</th>\n",
       "      <th>Tweets</th>\n",
       "    </tr>\n",
       "  </thead>\n",
       "  <tbody>\n",
       "    <tr>\n",
       "      <th>1</th>\n",
       "      <td>{\"created_at\":\"Wed Mar 03 15:37:43 +0000 2021\"</td>\n",
       "      <td>id:1367137117072224259</td>\n",
       "      <td>text:\"RT @BillKristol: From 9\\/11 truthers to ...</td>\n",
       "    </tr>\n",
       "    <tr>\n",
       "      <th>3</th>\n",
       "      <td>{\"created_at\":\"Wed Mar 03 15:37:49 +0000 2021\"</td>\n",
       "      <td>id:1367137141713739784</td>\n",
       "      <td>text:\"Bernie Sanders reveals that the family f...</td>\n",
       "    </tr>\n",
       "  </tbody>\n",
       "</table>\n",
       "</div>"
      ],
      "text/plain": [
       "                                             Date                      Id  \\\n",
       "1  {\"created_at\":\"Wed Mar 03 15:37:43 +0000 2021\"  id:1367137117072224259   \n",
       "3  {\"created_at\":\"Wed Mar 03 15:37:49 +0000 2021\"  id:1367137141713739784   \n",
       "\n",
       "                                              Tweets  \n",
       "1  text:\"RT @BillKristol: From 9\\/11 truthers to ...  \n",
       "3  text:\"Bernie Sanders reveals that the family f...  "
      ]
     },
     "execution_count": 17,
     "metadata": {},
     "output_type": "execute_result"
    }
   ],
   "source": [
    "combined_csv1[:2]"
   ]
  },
  {
   "cell_type": "code",
   "execution_count": 18,
   "metadata": {},
   "outputs": [
    {
     "data": {
      "text/plain": [
       "1      text:\"RT @BillKristol: From 9\\/11 truthers to ...\n",
       "3      text:\"Bernie Sanders reveals that the family f...\n",
       "5      text:\"RT @RichardGrenell: Albin Kurti was agai...\n",
       "7                                  text:\"TRUE TRUE TRUE\"\n",
       "9      text:\"RT @RonColeman: @paddua @drsimonegold Th...\n",
       "                             ...                        \n",
       "563     text:\"RT @covie_93: You know what would be funny\n",
       "565    text:\"RT @Clarknt67: #BlueMAGA celebrating the...\n",
       "567    text:\"@DonaldJTrumpJr Barack Hussein Obama &am...\n",
       "569       text:\"RT @ILovesMyUSA: \\u203c\\ufe0fFor 8 YEARS\n",
       "571    text:\"RT @RichardGrenell: Albin Kurti was agai...\n",
       "Name: Tweets, Length: 5720, dtype: object"
      ]
     },
     "execution_count": 18,
     "metadata": {},
     "output_type": "execute_result"
    }
   ],
   "source": [
    "combined_csv1['Tweets']"
   ]
  },
  {
   "cell_type": "code",
   "execution_count": 19,
   "metadata": {},
   "outputs": [
    {
     "data": {
      "text/html": [
       "<div>\n",
       "<style scoped>\n",
       "    .dataframe tbody tr th:only-of-type {\n",
       "        vertical-align: middle;\n",
       "    }\n",
       "\n",
       "    .dataframe tbody tr th {\n",
       "        vertical-align: top;\n",
       "    }\n",
       "\n",
       "    .dataframe thead th {\n",
       "        text-align: right;\n",
       "    }\n",
       "</style>\n",
       "<table border=\"1\" class=\"dataframe\">\n",
       "  <thead>\n",
       "    <tr style=\"text-align: right;\">\n",
       "      <th></th>\n",
       "      <th>Date</th>\n",
       "      <th>Id</th>\n",
       "      <th>Tweets</th>\n",
       "    </tr>\n",
       "  </thead>\n",
       "  <tbody>\n",
       "    <tr>\n",
       "      <th>1</th>\n",
       "      <td>{\"created_at\":\"Wed Mar 03 15:37:43 +0000 2021\"</td>\n",
       "      <td>id:1367137117072224259</td>\n",
       "      <td>text:\"RT @BillKristol: From 9\\/11 truthers to ...</td>\n",
       "    </tr>\n",
       "    <tr>\n",
       "      <th>5</th>\n",
       "      <td>{\"created_at\":\"Wed Mar 03 15:37:50 +0000 2021\"</td>\n",
       "      <td>id:1367137146545582087</td>\n",
       "      <td>text:\"RT @RichardGrenell: Albin Kurti was agai...</td>\n",
       "    </tr>\n",
       "    <tr>\n",
       "      <th>9</th>\n",
       "      <td>{\"created_at\":\"Wed Mar 03 15:37:53 +0000 2021\"</td>\n",
       "      <td>id:1367137157740167173</td>\n",
       "      <td>text:\"RT @RonColeman: @paddua @drsimonegold Th...</td>\n",
       "    </tr>\n",
       "    <tr>\n",
       "      <th>11</th>\n",
       "      <td>{\"created_at\":\"Wed Mar 03 15:37:54 +0000 2021\"</td>\n",
       "      <td>id:1367137164677566470</td>\n",
       "      <td>text:\"RT @RichardGrenell: Albin Kurti was agai...</td>\n",
       "    </tr>\n",
       "    <tr>\n",
       "      <th>21</th>\n",
       "      <td>{\"created_at\":\"Wed Mar 03 15:38:08 +0000 2021\"</td>\n",
       "      <td>id:1367137221610995716</td>\n",
       "      <td>text:\"RT @maxthegirl: It wasn't about the mean...</td>\n",
       "    </tr>\n",
       "    <tr>\n",
       "      <th>...</th>\n",
       "      <td>...</td>\n",
       "      <td>...</td>\n",
       "      <td>...</td>\n",
       "    </tr>\n",
       "    <tr>\n",
       "      <th>561</th>\n",
       "      <td>{\"created_at\":\"Wed Mar 03 15:46:08 +0000 2021\"</td>\n",
       "      <td>id:1367139235594125316</td>\n",
       "      <td>text:\"RT @ggreenwald: Democrats now launching ...</td>\n",
       "    </tr>\n",
       "    <tr>\n",
       "      <th>563</th>\n",
       "      <td>{\"created_at\":\"Wed Mar 03 15:46:08 +0000 2021\"</td>\n",
       "      <td>id:1367139235871023105</td>\n",
       "      <td>text:\"RT @covie_93: You know what would be funny</td>\n",
       "    </tr>\n",
       "    <tr>\n",
       "      <th>565</th>\n",
       "      <td>{\"created_at\":\"Wed Mar 03 15:46:09 +0000 2021\"</td>\n",
       "      <td>id:1367139239788478468</td>\n",
       "      <td>text:\"RT @Clarknt67: #BlueMAGA celebrating the...</td>\n",
       "    </tr>\n",
       "    <tr>\n",
       "      <th>569</th>\n",
       "      <td>{\"created_at\":\"Wed Mar 03 15:46:11 +0000 2021\"</td>\n",
       "      <td>id:1367139249091350532</td>\n",
       "      <td>text:\"RT @ILovesMyUSA: \\u203c\\ufe0fFor 8 YEARS</td>\n",
       "    </tr>\n",
       "    <tr>\n",
       "      <th>571</th>\n",
       "      <td>{\"created_at\":\"Wed Mar 03 15:46:12 +0000 2021\"</td>\n",
       "      <td>id:1367139251469582338</td>\n",
       "      <td>text:\"RT @RichardGrenell: Albin Kurti was agai...</td>\n",
       "    </tr>\n",
       "  </tbody>\n",
       "</table>\n",
       "<p>4080 rows × 3 columns</p>\n",
       "</div>"
      ],
      "text/plain": [
       "                                               Date                      Id  \\\n",
       "1    {\"created_at\":\"Wed Mar 03 15:37:43 +0000 2021\"  id:1367137117072224259   \n",
       "5    {\"created_at\":\"Wed Mar 03 15:37:50 +0000 2021\"  id:1367137146545582087   \n",
       "9    {\"created_at\":\"Wed Mar 03 15:37:53 +0000 2021\"  id:1367137157740167173   \n",
       "11   {\"created_at\":\"Wed Mar 03 15:37:54 +0000 2021\"  id:1367137164677566470   \n",
       "21   {\"created_at\":\"Wed Mar 03 15:38:08 +0000 2021\"  id:1367137221610995716   \n",
       "..                                              ...                     ...   \n",
       "561  {\"created_at\":\"Wed Mar 03 15:46:08 +0000 2021\"  id:1367139235594125316   \n",
       "563  {\"created_at\":\"Wed Mar 03 15:46:08 +0000 2021\"  id:1367139235871023105   \n",
       "565  {\"created_at\":\"Wed Mar 03 15:46:09 +0000 2021\"  id:1367139239788478468   \n",
       "569  {\"created_at\":\"Wed Mar 03 15:46:11 +0000 2021\"  id:1367139249091350532   \n",
       "571  {\"created_at\":\"Wed Mar 03 15:46:12 +0000 2021\"  id:1367139251469582338   \n",
       "\n",
       "                                                Tweets  \n",
       "1    text:\"RT @BillKristol: From 9\\/11 truthers to ...  \n",
       "5    text:\"RT @RichardGrenell: Albin Kurti was agai...  \n",
       "9    text:\"RT @RonColeman: @paddua @drsimonegold Th...  \n",
       "11   text:\"RT @RichardGrenell: Albin Kurti was agai...  \n",
       "21   text:\"RT @maxthegirl: It wasn't about the mean...  \n",
       "..                                                 ...  \n",
       "561  text:\"RT @ggreenwald: Democrats now launching ...  \n",
       "563   text:\"RT @covie_93: You know what would be funny  \n",
       "565  text:\"RT @Clarknt67: #BlueMAGA celebrating the...  \n",
       "569     text:\"RT @ILovesMyUSA: \\u203c\\ufe0fFor 8 YEARS  \n",
       "571  text:\"RT @RichardGrenell: Albin Kurti was agai...  \n",
       "\n",
       "[4080 rows x 3 columns]"
      ]
     },
     "execution_count": 19,
     "metadata": {},
     "output_type": "execute_result"
    }
   ],
   "source": [
    "combined_csv1[combined_csv1['Tweets'].str.contains( 'text:\"RT')]"
   ]
  },
  {
   "cell_type": "code",
   "execution_count": 20,
   "metadata": {},
   "outputs": [],
   "source": [
    "# Removing retweets this can also be done during the fectching of data from twitter "
   ]
  },
  {
   "cell_type": "code",
   "execution_count": 21,
   "metadata": {},
   "outputs": [],
   "source": [
    "# search for particular key word in the Tweets column (Text: \"RT)--> WHICH IS THE RETWEETS and create a new Colum with are they exist (True/False)\n",
    "searchfor = '.*text:\"RT*.'\n",
    "combined_csv1[\"TrueFalse\"]=combined_csv1['Tweets'].str.contains(searchfor, regex=True)"
   ]
  },
  {
   "cell_type": "code",
   "execution_count": 22,
   "metadata": {},
   "outputs": [],
   "source": [
    "#combined_csv1[combined_csv1.apply(lambda row: row.astype(str).str.contains('text:\"RT').any(), axis=1)].shape"
   ]
  },
  {
   "cell_type": "code",
   "execution_count": 23,
   "metadata": {},
   "outputs": [],
   "source": [
    "#combined_csv1[combined_csv1.apply(lambda row: row.astype(str).str.contains('text:\"RT').any(), axis=1)].drop"
   ]
  },
  {
   "cell_type": "code",
   "execution_count": 24,
   "metadata": {},
   "outputs": [
    {
     "data": {
      "text/html": [
       "<div>\n",
       "<style scoped>\n",
       "    .dataframe tbody tr th:only-of-type {\n",
       "        vertical-align: middle;\n",
       "    }\n",
       "\n",
       "    .dataframe tbody tr th {\n",
       "        vertical-align: top;\n",
       "    }\n",
       "\n",
       "    .dataframe thead th {\n",
       "        text-align: right;\n",
       "    }\n",
       "</style>\n",
       "<table border=\"1\" class=\"dataframe\">\n",
       "  <thead>\n",
       "    <tr style=\"text-align: right;\">\n",
       "      <th></th>\n",
       "      <th>Date</th>\n",
       "      <th>Id</th>\n",
       "      <th>Tweets</th>\n",
       "      <th>TrueFalse</th>\n",
       "    </tr>\n",
       "  </thead>\n",
       "  <tbody>\n",
       "    <tr>\n",
       "      <th>1</th>\n",
       "      <td>{\"created_at\":\"Wed Mar 03 15:37:43 +0000 2021\"</td>\n",
       "      <td>id:1367137117072224259</td>\n",
       "      <td>text:\"RT @BillKristol: From 9\\/11 truthers to ...</td>\n",
       "      <td>True</td>\n",
       "    </tr>\n",
       "    <tr>\n",
       "      <th>3</th>\n",
       "      <td>{\"created_at\":\"Wed Mar 03 15:37:49 +0000 2021\"</td>\n",
       "      <td>id:1367137141713739784</td>\n",
       "      <td>text:\"Bernie Sanders reveals that the family f...</td>\n",
       "      <td>False</td>\n",
       "    </tr>\n",
       "  </tbody>\n",
       "</table>\n",
       "</div>"
      ],
      "text/plain": [
       "                                             Date                      Id  \\\n",
       "1  {\"created_at\":\"Wed Mar 03 15:37:43 +0000 2021\"  id:1367137117072224259   \n",
       "3  {\"created_at\":\"Wed Mar 03 15:37:49 +0000 2021\"  id:1367137141713739784   \n",
       "\n",
       "                                              Tweets  TrueFalse  \n",
       "1  text:\"RT @BillKristol: From 9\\/11 truthers to ...       True  \n",
       "3  text:\"Bernie Sanders reveals that the family f...      False  "
      ]
     },
     "execution_count": 24,
     "metadata": {},
     "output_type": "execute_result"
    }
   ],
   "source": [
    "combined_csv1[:2] # now only tweets present in the data."
   ]
  },
  {
   "cell_type": "code",
   "execution_count": 25,
   "metadata": {},
   "outputs": [],
   "source": [
    " combined_csv2= combined_csv1[~combined_csv1['TrueFalse'].isin(['True'])]"
   ]
  },
  {
   "cell_type": "code",
   "execution_count": 26,
   "metadata": {},
   "outputs": [],
   "source": [
    "discard=[\"True\"]\n",
    "combined_csv2=combined_csv2[~combined_csv2.TrueFalse.apply(str).str.contains('True'.join(discard))]\n",
    "# https://www.statology.org/pandas-drop-rows-that-contain-string/"
   ]
  },
  {
   "cell_type": "code",
   "execution_count": 27,
   "metadata": {},
   "outputs": [
    {
     "data": {
      "text/html": [
       "<div>\n",
       "<style scoped>\n",
       "    .dataframe tbody tr th:only-of-type {\n",
       "        vertical-align: middle;\n",
       "    }\n",
       "\n",
       "    .dataframe tbody tr th {\n",
       "        vertical-align: top;\n",
       "    }\n",
       "\n",
       "    .dataframe thead th {\n",
       "        text-align: right;\n",
       "    }\n",
       "</style>\n",
       "<table border=\"1\" class=\"dataframe\">\n",
       "  <thead>\n",
       "    <tr style=\"text-align: right;\">\n",
       "      <th></th>\n",
       "      <th>Date</th>\n",
       "      <th>Id</th>\n",
       "      <th>Tweets</th>\n",
       "      <th>TrueFalse</th>\n",
       "    </tr>\n",
       "  </thead>\n",
       "  <tbody>\n",
       "    <tr>\n",
       "      <th>3</th>\n",
       "      <td>{\"created_at\":\"Wed Mar 03 15:37:49 +0000 2021\"</td>\n",
       "      <td>id:1367137141713739784</td>\n",
       "      <td>text:\"Bernie Sanders reveals that the family f...</td>\n",
       "      <td>False</td>\n",
       "    </tr>\n",
       "    <tr>\n",
       "      <th>7</th>\n",
       "      <td>{\"created_at\":\"Wed Mar 03 15:37:52 +0000 2021\"</td>\n",
       "      <td>id:1367137154938331136</td>\n",
       "      <td>text:\"TRUE TRUE TRUE\"</td>\n",
       "      <td>False</td>\n",
       "    </tr>\n",
       "  </tbody>\n",
       "</table>\n",
       "</div>"
      ],
      "text/plain": [
       "                                             Date                      Id  \\\n",
       "3  {\"created_at\":\"Wed Mar 03 15:37:49 +0000 2021\"  id:1367137141713739784   \n",
       "7  {\"created_at\":\"Wed Mar 03 15:37:52 +0000 2021\"  id:1367137154938331136   \n",
       "\n",
       "                                              Tweets  TrueFalse  \n",
       "3  text:\"Bernie Sanders reveals that the family f...      False  \n",
       "7                              text:\"TRUE TRUE TRUE\"      False  "
      ]
     },
     "execution_count": 27,
     "metadata": {},
     "output_type": "execute_result"
    }
   ],
   "source": [
    "combined_csv2[:2]"
   ]
  },
  {
   "cell_type": "code",
   "execution_count": 28,
   "metadata": {},
   "outputs": [],
   "source": [
    "#pip install vaderSentiment"
   ]
  },
  {
   "cell_type": "markdown",
   "metadata": {},
   "source": [
    "# Cleaning of Tweets"
   ]
  },
  {
   "cell_type": "code",
   "execution_count": 29,
   "metadata": {},
   "outputs": [],
   "source": [
    "#cleaning the tweets\n",
    "import re\n",
    "def remove_pattern(input_txt, pattern):\n",
    "    r = re.findall(pattern, input_txt)\n",
    "    for i in r:\n",
    "        input_txt = re.sub(i, '', input_txt)        \n",
    "    return input_txt\n",
    "\n",
    "def cleaning_tweets(tweets):\n",
    "    # remove twitter Return handles (RT @xxx:)\n",
    "    tweets = np.vectorize(remove_pattern)(tweets, \"RT @[\\w]*:\") \n",
    "    \n",
    "    # remove twitter handles (@xxx)\n",
    "    tweets = np.vectorize(remove_pattern)(tweets, \"@[\\w]*\")\n",
    "    \n",
    "    # remove URL links (httpxxx)\n",
    "    tweets = np.vectorize(remove_pattern)(tweets, \"https|http?://\\\\/\\\\/[A-Za-z0-9./]*\")\n",
    "    \n",
    "    # remove special characters, numbers, punctuations (except for #)\n",
    "    tweets = np.core.defchararray.replace(tweets, \"[^a-zA-Z]\", \" \")\n",
    "    \n",
    "    #remove extra char in the date\n",
    "    #tweets =np.vectorize(remove_pattern)(tweets, '{\"created_at',\" \")\n",
    "    \n",
    "    return tweets\n",
    "cleaning = lambda a: cleaning_tweets(a)"
   ]
  },
  {
   "cell_type": "code",
   "execution_count": 30,
   "metadata": {},
   "outputs": [
    {
     "data": {
      "text/plain": [
       "(1620, 4)"
      ]
     },
     "execution_count": 30,
     "metadata": {},
     "output_type": "execute_result"
    }
   ],
   "source": [
    "combined_csv2['Tweets']= pd.DataFrame(combined_csv2.Tweets.apply(cleaning))\n",
    "combined_csv2['Tweets'].head(2)\n",
    "combined_csv2.shape"
   ]
  },
  {
   "cell_type": "markdown",
   "metadata": {},
   "source": [
    "# VADER SENTIMENT ANALYSIS\n",
    "#https://www.analyticsvidhya.com/blog/2021/01/sentiment-analysis-vader-or-textblob/"
   ]
  },
  {
   "cell_type": "code",
   "execution_count": 31,
   "metadata": {},
   "outputs": [],
   "source": [
    "# VADER ( Valence Aware Dictionary for Sentiment Reasoning) in the NLTK package and can be applied directly to unlabelled text \n",
    "# data.  A model used for text sentiment analysis that is sensitive to both polarity (positive/negative) and intensity (strength)\n",
    "# of emotion. It is available.\n",
    "\n",
    "# VADER sentimental analysis relies on a dictionary that maps lexical features to emotion intensities known as sentiment scores. \n",
    "# The sentiment score of a text can be obtained by summing up the intensity of each word in the text.\n",
    "# dictionary of scores in each of four categories as Negative, Neutral, Positive, and compound Normalized scores of\n",
    "# Positive, Negative, Neutral)  \n"
   ]
  },
  {
   "cell_type": "code",
   "execution_count": 32,
   "metadata": {},
   "outputs": [],
   "source": [
    "# Finding Polarity of each tweets in Positve, negative, neutral, compound."
   ]
  },
  {
   "cell_type": "code",
   "execution_count": 33,
   "metadata": {},
   "outputs": [
    {
     "name": "stderr",
     "output_type": "stream",
     "text": [
      "[nltk_data] Downloading package vader_lexicon to\n",
      "[nltk_data]     C:\\Users\\user\\AppData\\Roaming\\nltk_data...\n",
      "[nltk_data]   Package vader_lexicon is already up-to-date!\n"
     ]
    },
    {
     "data": {
      "text/plain": [
       "True"
      ]
     },
     "execution_count": 33,
     "metadata": {},
     "output_type": "execute_result"
    }
   ],
   "source": [
    "import nltk\n",
    "nltk.download('vader_lexicon')"
   ]
  },
  {
   "cell_type": "code",
   "execution_count": 34,
   "metadata": {},
   "outputs": [],
   "source": [
    "from vaderSentiment.vaderSentiment import SentimentIntensityAnalyzer\n",
    "vader = SentimentIntensityAnalyzer()"
   ]
  },
  {
   "cell_type": "code",
   "execution_count": 35,
   "metadata": {},
   "outputs": [
    {
     "data": {
      "text/plain": [
       "{'neg': 0.437, 'neu': 0.316, 'pos': 0.247, 'compound': -0.4215}"
      ]
     },
     "execution_count": 35,
     "metadata": {},
     "output_type": "execute_result"
    }
   ],
   "source": [
    "vader.polarity_scores(\"I happy but bit sad.\")\n"
   ]
  },
  {
   "cell_type": "code",
   "execution_count": 36,
   "metadata": {},
   "outputs": [
    {
     "data": {
      "text/plain": [
       "{'neg': 0.0, 'neu': 0.213, 'pos': 0.787, 'compound': 0.5719}"
      ]
     },
     "execution_count": 36,
     "metadata": {},
     "output_type": "execute_result"
    }
   ],
   "source": [
    "vader.polarity_scores(\"I happy.\")"
   ]
  },
  {
   "cell_type": "code",
   "execution_count": 37,
   "metadata": {},
   "outputs": [],
   "source": [
    "combined_csv2['Vader_scores'] = combined_csv2['Tweets'].apply(lambda Tweets: vader.polarity_scores(Tweets))"
   ]
  },
  {
   "cell_type": "code",
   "execution_count": 38,
   "metadata": {},
   "outputs": [],
   "source": [
    "combined_csv2['compound']  = combined_csv2['Vader_scores'].apply(lambda score_dict: score_dict['compound'])"
   ]
  },
  {
   "cell_type": "code",
   "execution_count": 39,
   "metadata": {},
   "outputs": [],
   "source": [
    "combined_csv2['Sentiment']=''\n",
    "combined_csv2.loc[combined_csv2.compound>0,'Sentiment']='Positive'\n",
    "combined_csv2.loc[combined_csv2.compound ==0,'Sentiment']='Neutral'\n",
    "combined_csv2.loc[combined_csv2.compound<0,'Sentiment']='Negative'"
   ]
  },
  {
   "cell_type": "code",
   "execution_count": 40,
   "metadata": {},
   "outputs": [
    {
     "data": {
      "text/html": [
       "<div>\n",
       "<style scoped>\n",
       "    .dataframe tbody tr th:only-of-type {\n",
       "        vertical-align: middle;\n",
       "    }\n",
       "\n",
       "    .dataframe tbody tr th {\n",
       "        vertical-align: top;\n",
       "    }\n",
       "\n",
       "    .dataframe thead th {\n",
       "        text-align: right;\n",
       "    }\n",
       "</style>\n",
       "<table border=\"1\" class=\"dataframe\">\n",
       "  <thead>\n",
       "    <tr style=\"text-align: right;\">\n",
       "      <th></th>\n",
       "      <th>Date</th>\n",
       "      <th>Id</th>\n",
       "      <th>Tweets</th>\n",
       "      <th>TrueFalse</th>\n",
       "      <th>Vader_scores</th>\n",
       "      <th>compound</th>\n",
       "      <th>Sentiment</th>\n",
       "    </tr>\n",
       "  </thead>\n",
       "  <tbody>\n",
       "    <tr>\n",
       "      <th>3</th>\n",
       "      <td>{\"created_at\":\"Wed Mar 03 15:37:49 +0000 2021\"</td>\n",
       "      <td>id:1367137141713739784</td>\n",
       "      <td>text:\"Bernie Sanders reveals that the family f...</td>\n",
       "      <td>False</td>\n",
       "      <td>{'neg': 0.168, 'neu': 0.71, 'pos': 0.123, 'com...</td>\n",
       "      <td>-0.1779</td>\n",
       "      <td>Negative</td>\n",
       "    </tr>\n",
       "    <tr>\n",
       "      <th>7</th>\n",
       "      <td>{\"created_at\":\"Wed Mar 03 15:37:52 +0000 2021\"</td>\n",
       "      <td>id:1367137154938331136</td>\n",
       "      <td>text:\"TRUE TRUE TRUE\"</td>\n",
       "      <td>False</td>\n",
       "      <td>{'neg': 0.0, 'neu': 0.124, 'pos': 0.876, 'comp...</td>\n",
       "      <td>0.7944</td>\n",
       "      <td>Positive</td>\n",
       "    </tr>\n",
       "    <tr>\n",
       "      <th>13</th>\n",
       "      <td>{\"created_at\":\"Wed Mar 03 15:37:59 +0000 2021\"</td>\n",
       "      <td>id:1367137185971929088</td>\n",
       "      <td>text:\"The Neverending Grift\"</td>\n",
       "      <td>False</td>\n",
       "      <td>{'neg': 0.0, 'neu': 1.0, 'pos': 0.0, 'compound...</td>\n",
       "      <td>0.0000</td>\n",
       "      <td>Neutral</td>\n",
       "    </tr>\n",
       "    <tr>\n",
       "      <th>15</th>\n",
       "      <td>{\"created_at\":\"Wed Mar 03 15:38:00 +0000 2021\"</td>\n",
       "      <td>id:1367137190258556929</td>\n",
       "      <td>text:\"Bernie Sanders is including the $15 mini...</td>\n",
       "      <td>False</td>\n",
       "      <td>{'neg': 0.0, 'neu': 1.0, 'pos': 0.0, 'compound...</td>\n",
       "      <td>0.0000</td>\n",
       "      <td>Neutral</td>\n",
       "    </tr>\n",
       "    <tr>\n",
       "      <th>17</th>\n",
       "      <td>{\"created_at\":\"Wed Mar 03 15:38:02 +0000 2021\"</td>\n",
       "      <td>id:1367137194633277444</td>\n",
       "      <td>text:\"  The book passes a strong message on en...</td>\n",
       "      <td>False</td>\n",
       "      <td>{'neg': 0.0, 'neu': 0.708, 'pos': 0.292, 'comp...</td>\n",
       "      <td>0.5106</td>\n",
       "      <td>Positive</td>\n",
       "    </tr>\n",
       "    <tr>\n",
       "      <th>...</th>\n",
       "      <td>...</td>\n",
       "      <td>...</td>\n",
       "      <td>...</td>\n",
       "      <td>...</td>\n",
       "      <td>...</td>\n",
       "      <td>...</td>\n",
       "      <td>...</td>\n",
       "    </tr>\n",
       "    <tr>\n",
       "      <th>507</th>\n",
       "      <td>{\"created_at\":\"Wed Mar 03 15:45:24 +0000 2021\"</td>\n",
       "      <td>id:1367139051078352900</td>\n",
       "      <td>text:\"    Your husband Barack Obama ruined thi...</td>\n",
       "      <td>False</td>\n",
       "      <td>{'neg': 0.362, 'neu': 0.638, 'pos': 0.0, 'comp...</td>\n",
       "      <td>-0.6093</td>\n",
       "      <td>Negative</td>\n",
       "    </tr>\n",
       "    <tr>\n",
       "      <th>511</th>\n",
       "      <td>{\"created_at\":\"Wed Mar 03 15:45:27 +0000 2021\"</td>\n",
       "      <td>id:1367139063548039168</td>\n",
       "      <td>text:\" Hillary Clinton?\"</td>\n",
       "      <td>False</td>\n",
       "      <td>{'neg': 0.0, 'neu': 1.0, 'pos': 0.0, 'compound...</td>\n",
       "      <td>0.0000</td>\n",
       "      <td>Neutral</td>\n",
       "    </tr>\n",
       "    <tr>\n",
       "      <th>513</th>\n",
       "      <td>{\"created_at\":\"Wed Mar 03 15:45:31 +0000 2021\"</td>\n",
       "      <td>id:1367139078651658241</td>\n",
       "      <td>text:\"With an account name like \\\"princess mom...</td>\n",
       "      <td>False</td>\n",
       "      <td>{'neg': 0.054, 'neu': 0.849, 'pos': 0.097, 'co...</td>\n",
       "      <td>0.2732</td>\n",
       "      <td>Positive</td>\n",
       "    </tr>\n",
       "    <tr>\n",
       "      <th>527</th>\n",
       "      <td>{\"created_at\":\"Wed Mar 03 15:45:40 +0000 2021\"</td>\n",
       "      <td>id:1367139118631723015</td>\n",
       "      <td>text:\"   Antagonist...antagonizer...= Bernie S...</td>\n",
       "      <td>False</td>\n",
       "      <td>{'neg': 0.0, 'neu': 1.0, 'pos': 0.0, 'compound...</td>\n",
       "      <td>0.0000</td>\n",
       "      <td>Neutral</td>\n",
       "    </tr>\n",
       "    <tr>\n",
       "      <th>567</th>\n",
       "      <td>{\"created_at\":\"Wed Mar 03 15:46:09 +0000 2021\"</td>\n",
       "      <td>id:1367139239943618561</td>\n",
       "      <td>text:\" Barack Hussein Obama &amp;amp; Mrs. Barack ...</td>\n",
       "      <td>False</td>\n",
       "      <td>{'neg': 0.0, 'neu': 1.0, 'pos': 0.0, 'compound...</td>\n",
       "      <td>0.0000</td>\n",
       "      <td>Neutral</td>\n",
       "    </tr>\n",
       "  </tbody>\n",
       "</table>\n",
       "<p>1620 rows × 7 columns</p>\n",
       "</div>"
      ],
      "text/plain": [
       "                                               Date                      Id  \\\n",
       "3    {\"created_at\":\"Wed Mar 03 15:37:49 +0000 2021\"  id:1367137141713739784   \n",
       "7    {\"created_at\":\"Wed Mar 03 15:37:52 +0000 2021\"  id:1367137154938331136   \n",
       "13   {\"created_at\":\"Wed Mar 03 15:37:59 +0000 2021\"  id:1367137185971929088   \n",
       "15   {\"created_at\":\"Wed Mar 03 15:38:00 +0000 2021\"  id:1367137190258556929   \n",
       "17   {\"created_at\":\"Wed Mar 03 15:38:02 +0000 2021\"  id:1367137194633277444   \n",
       "..                                              ...                     ...   \n",
       "507  {\"created_at\":\"Wed Mar 03 15:45:24 +0000 2021\"  id:1367139051078352900   \n",
       "511  {\"created_at\":\"Wed Mar 03 15:45:27 +0000 2021\"  id:1367139063548039168   \n",
       "513  {\"created_at\":\"Wed Mar 03 15:45:31 +0000 2021\"  id:1367139078651658241   \n",
       "527  {\"created_at\":\"Wed Mar 03 15:45:40 +0000 2021\"  id:1367139118631723015   \n",
       "567  {\"created_at\":\"Wed Mar 03 15:46:09 +0000 2021\"  id:1367139239943618561   \n",
       "\n",
       "                                                Tweets  TrueFalse  \\\n",
       "3    text:\"Bernie Sanders reveals that the family f...      False   \n",
       "7                                text:\"TRUE TRUE TRUE\"      False   \n",
       "13                        text:\"The Neverending Grift\"      False   \n",
       "15   text:\"Bernie Sanders is including the $15 mini...      False   \n",
       "17   text:\"  The book passes a strong message on en...      False   \n",
       "..                                                 ...        ...   \n",
       "507  text:\"    Your husband Barack Obama ruined thi...      False   \n",
       "511                           text:\" Hillary Clinton?\"      False   \n",
       "513  text:\"With an account name like \\\"princess mom...      False   \n",
       "527  text:\"   Antagonist...antagonizer...= Bernie S...      False   \n",
       "567  text:\" Barack Hussein Obama &amp; Mrs. Barack ...      False   \n",
       "\n",
       "                                          Vader_scores  compound Sentiment  \n",
       "3    {'neg': 0.168, 'neu': 0.71, 'pos': 0.123, 'com...   -0.1779  Negative  \n",
       "7    {'neg': 0.0, 'neu': 0.124, 'pos': 0.876, 'comp...    0.7944  Positive  \n",
       "13   {'neg': 0.0, 'neu': 1.0, 'pos': 0.0, 'compound...    0.0000   Neutral  \n",
       "15   {'neg': 0.0, 'neu': 1.0, 'pos': 0.0, 'compound...    0.0000   Neutral  \n",
       "17   {'neg': 0.0, 'neu': 0.708, 'pos': 0.292, 'comp...    0.5106  Positive  \n",
       "..                                                 ...       ...       ...  \n",
       "507  {'neg': 0.362, 'neu': 0.638, 'pos': 0.0, 'comp...   -0.6093  Negative  \n",
       "511  {'neg': 0.0, 'neu': 1.0, 'pos': 0.0, 'compound...    0.0000   Neutral  \n",
       "513  {'neg': 0.054, 'neu': 0.849, 'pos': 0.097, 'co...    0.2732  Positive  \n",
       "527  {'neg': 0.0, 'neu': 1.0, 'pos': 0.0, 'compound...    0.0000   Neutral  \n",
       "567  {'neg': 0.0, 'neu': 1.0, 'pos': 0.0, 'compound...    0.0000   Neutral  \n",
       "\n",
       "[1620 rows x 7 columns]"
      ]
     },
     "execution_count": 40,
     "metadata": {},
     "output_type": "execute_result"
    }
   ],
   "source": [
    "combined_csv2"
   ]
  },
  {
   "cell_type": "code",
   "execution_count": 41,
   "metadata": {},
   "outputs": [],
   "source": [
    "#sentiments_score = pd.DataFrame.from_dict(scores)\n",
    "#combined_csv2= combined_csv2.join(sentiments_score)"
   ]
  },
  {
   "cell_type": "code",
   "execution_count": 42,
   "metadata": {},
   "outputs": [
    {
     "data": {
      "text/plain": [
       "(1620,)"
      ]
     },
     "execution_count": 42,
     "metadata": {},
     "output_type": "execute_result"
    }
   ],
   "source": [
    "combined_csv2['Tweets'].shape"
   ]
  },
  {
   "cell_type": "code",
   "execution_count": 43,
   "metadata": {},
   "outputs": [],
   "source": [
    "combined_csv2['Tweets'] = combined_csv2['Tweets'].str.replace('text:', '') # we missed a extra word in the tweets to filter out (\"text:\")"
   ]
  },
  {
   "cell_type": "code",
   "execution_count": 44,
   "metadata": {},
   "outputs": [],
   "source": [
    "import re\n",
    "HT_positive = []\n",
    "def hashtag_extract(x):\n",
    "    hashtags = []\n",
    "    # Loop over the words in the tweet\n",
    "    for i in x:\n",
    "        ht = re.findall(r\"#(\\w+)\", i)\n",
    "        hashtags.append(ht)\n",
    "    return hashtags\n",
    "# extracting hashtags from positive tweetsHT_positive = hashtag_extract(df_tws['text'][df_tws['sent'] == 1])\n",
    "# extracting hashtags from  tweets\n",
    "HT_positive = hashtag_extract(combined_csv2['Tweets'][combined_csv2['compound'] > 0 ])\n",
    "HT_negative = hashtag_extract(combined_csv2['Tweets'][combined_csv2['compound'] < 0])\n",
    "# unnesting list\n",
    "HT_positive = sum(HT_positive,[])"
   ]
  },
  {
   "cell_type": "code",
   "execution_count": 45,
   "metadata": {},
   "outputs": [
    {
     "data": {
      "text/plain": [
       "[[],\n",
       " [],\n",
       " [],\n",
       " [],\n",
       " [],\n",
       " [],\n",
       " [],\n",
       " [],\n",
       " [],\n",
       " [],\n",
       " ['BernieSanders', 'NeeraTanden', 'sinema'],\n",
       " []]"
      ]
     },
     "execution_count": 45,
     "metadata": {},
     "output_type": "execute_result"
    }
   ],
   "source": [
    "HT_negative[:12]"
   ]
  },
  {
   "cell_type": "code",
   "execution_count": 46,
   "metadata": {},
   "outputs": [
    {
     "data": {
      "text/plain": [
       "['Hope', 'USA', 'GOP', 'Senate', 'WV']"
      ]
     },
     "execution_count": 46,
     "metadata": {},
     "output_type": "execute_result"
    }
   ],
   "source": [
    "HT_positive[:5]"
   ]
  },
  {
   "cell_type": "code",
   "execution_count": 47,
   "metadata": {},
   "outputs": [
    {
     "data": {
      "image/png": "[encoded data removed]",
      "text/plain": [
       "<Figure size 864x720 with 1 Axes>"
      ]
     },
     "metadata": {
      "needs_background": "light"
     },
     "output_type": "display_data"
    }
   ],
   "source": [
    "\n",
    "from wordcloud import WordCloud, STOPWORDS, ImageColorGenerator\n",
    "\n",
    "def word_cloud(wd_list):\n",
    "    stopwords = set(STOPWORDS)\n",
    "    all_words = ' '.join([text for text in wd_list])\n",
    "    wordcloud = WordCloud(\n",
    "        background_color='black',\n",
    "        stopwords=stopwords,\n",
    "        width=1600,\n",
    "        height=800,\n",
    "        random_state=1,\n",
    "        colormap='jet',\n",
    "        max_words=80,\n",
    "        max_font_size=200).generate(all_words)\n",
    "    plt.figure(figsize=(12, 10))\n",
    "    plt.axis('off')\n",
    "    plt.imshow(wordcloud, interpolation=\"bilinear\");\n",
    "word_cloud(combined_csv2['Tweets'])"
   ]
  },
  {
   "cell_type": "code",
   "execution_count": 48,
   "metadata": {},
   "outputs": [],
   "source": [
    "# We can see Unnecesiary Repeated Words, we can remove them for better Accuracy"
   ]
  },
  {
   "cell_type": "code",
   "execution_count": 49,
   "metadata": {},
   "outputs": [
    {
     "data": {
      "image/png": "[encoded data removed]",
      "text/plain": [
       "<Figure size 432x288 with 1 Axes>"
      ]
     },
     "metadata": {
      "needs_background": "light"
     },
     "output_type": "display_data"
    }
   ],
   "source": [
    "words = ' '.join([tweet for tweet in combined_csv2['Tweets']])\n",
    "wordCloud = WordCloud(width=1600, height=800).generate(words)\n",
    "\n",
    "plt.imshow(wordCloud)\n",
    "plt.show()"
   ]
  },
  {
   "cell_type": "code",
   "execution_count": 50,
   "metadata": {},
   "outputs": [
    {
     "data": {
      "text/plain": [
       "Neutral     880\n",
       "Positive    420\n",
       "Negative    320\n",
       "Name: Sentiment, dtype: int64"
      ]
     },
     "execution_count": 50,
     "metadata": {},
     "output_type": "execute_result"
    }
   ],
   "source": [
    "combined_csv2['Sentiment'].value_counts()"
   ]
  },
  {
   "cell_type": "code",
   "execution_count": 51,
   "metadata": {},
   "outputs": [
    {
     "data": {
      "text/plain": [
       "<AxesSubplot:title={'center':'Sentiment Analysis'}>"
      ]
     },
     "execution_count": 51,
     "metadata": {},
     "output_type": "execute_result"
    },
    {
     "data": {
      "image/png": "[encoded data removed]",
      "text/plain": [
       "<Figure size 432x288 with 1 Axes>"
      ]
     },
     "metadata": {
      "needs_background": "light"
     },
     "output_type": "display_data"
    }
   ],
   "source": [
    "combined_csv2['Sentiment'].value_counts().plot(kind='bar',title=\"Sentiment Analysis\")"
   ]
  },
  {
   "cell_type": "markdown",
   "metadata": {},
   "source": [
    "# NLP"
   ]
  },
  {
   "cell_type": "code",
   "execution_count": 52,
   "metadata": {},
   "outputs": [
    {
     "name": "stderr",
     "output_type": "stream",
     "text": [
      "[nltk_data] Downloading package punkt to\n",
      "[nltk_data]     C:\\Users\\user\\AppData\\Roaming\\nltk_data...\n",
      "[nltk_data]   Package punkt is already up-to-date!\n",
      "[nltk_data] Downloading package stopwords to\n",
      "[nltk_data]     C:\\Users\\user\\AppData\\Roaming\\nltk_data...\n",
      "[nltk_data]   Package stopwords is already up-to-date!\n",
      "[nltk_data] Downloading package wordnet to\n",
      "[nltk_data]     C:\\Users\\user\\AppData\\Roaming\\nltk_data...\n",
      "[nltk_data]   Package wordnet is already up-to-date!\n"
     ]
    }
   ],
   "source": [
    "# importing the NLP(Natural Language Processing) library\n",
    "#from textblob import TextBlob\n",
    "import nltk\n",
    "nltk.download('punkt')\n",
    "nltk.download('stopwords')\n",
    "nltk.download('wordnet')\n",
    "from nltk.corpus import stopwords\n",
    "from nltk.stem import WordNetLemmatizer, PorterStemmer\n",
    "from nltk.tokenize import word_tokenize"
   ]
  },
  {
   "cell_type": "code",
   "execution_count": 53,
   "metadata": {},
   "outputs": [],
   "source": [
    "\n",
    "new = combined_csv2.filter(['Tweets','compound','Sentiment'], axis=1)"
   ]
  },
  {
   "cell_type": "markdown",
   "metadata": {},
   "source": [
    "# Final dataset with annotated training data for sentiment polarity"
   ]
  },
  {
   "cell_type": "code",
   "execution_count": null,
   "metadata": {},
   "outputs": [],
   "source": [
    "# Saved in your Folder under the name of FINAL_TWEETS_WITH_POLARITY.csv"
   ]
  },
  {
   "cell_type": "code",
   "execution_count": 54,
   "metadata": {},
   "outputs": [],
   "source": [
    "new.to_csv( \"FINAL_TWEETS_WITH_POLARITY.csv\", index=False, encoding='utf-8-sig')"
   ]
  },
  {
   "cell_type": "code",
   "execution_count": 55,
   "metadata": {},
   "outputs": [
    {
     "data": {
      "text/html": [
       "<div>\n",
       "<style scoped>\n",
       "    .dataframe tbody tr th:only-of-type {\n",
       "        vertical-align: middle;\n",
       "    }\n",
       "\n",
       "    .dataframe tbody tr th {\n",
       "        vertical-align: top;\n",
       "    }\n",
       "\n",
       "    .dataframe thead th {\n",
       "        text-align: right;\n",
       "    }\n",
       "</style>\n",
       "<table border=\"1\" class=\"dataframe\">\n",
       "  <thead>\n",
       "    <tr style=\"text-align: right;\">\n",
       "      <th></th>\n",
       "      <th>Tweets</th>\n",
       "      <th>compound</th>\n",
       "      <th>Sentiment</th>\n",
       "    </tr>\n",
       "  </thead>\n",
       "  <tbody>\n",
       "    <tr>\n",
       "      <th>3</th>\n",
       "      <td>\"Bernie Sanders reveals that the family feel s...</td>\n",
       "      <td>-0.1779</td>\n",
       "      <td>Negative</td>\n",
       "    </tr>\n",
       "    <tr>\n",
       "      <th>7</th>\n",
       "      <td>\"TRUE TRUE TRUE\"</td>\n",
       "      <td>0.7944</td>\n",
       "      <td>Positive</td>\n",
       "    </tr>\n",
       "  </tbody>\n",
       "</table>\n",
       "</div>"
      ],
      "text/plain": [
       "                                              Tweets  compound Sentiment\n",
       "3  \"Bernie Sanders reveals that the family feel s...   -0.1779  Negative\n",
       "7                                   \"TRUE TRUE TRUE\"    0.7944  Positive"
      ]
     },
     "execution_count": 55,
     "metadata": {},
     "output_type": "execute_result"
    }
   ],
   "source": [
    "new[:2]"
   ]
  },
  {
   "cell_type": "code",
   "execution_count": 56,
   "metadata": {},
   "outputs": [
    {
     "data": {
      "text/plain": [
       "3     \"Bernie Sanders reveals that the family feel s...\n",
       "7                                      \"TRUE TRUE TRUE\"\n",
       "13                              \"The Neverending Grift\"\n",
       "15    \"Bernie Sanders is including the $15 minimum w...\n",
       "17     \"  The book passes a strong message on endurance\n",
       "19     \"Holy shit!\\n\\nHillary Clinton eats children!!!\"\n",
       "35    \"Lin Wood Says a Whistleblower Has Come Forwar...\n",
       "43    \"Snjsjsksksks the fervor with which the pantsu...\n",
       "49               \"\\ud83d\\ude2d\\ud83d\\ude2d\\ud83d\\ude2d\"\n",
       "53    \"    Literally right before she withdrew the n...\n",
       "Name: Tweets, dtype: object"
      ]
     },
     "execution_count": 56,
     "metadata": {},
     "output_type": "execute_result"
    }
   ],
   "source": [
    "new['Tweets'][:10]"
   ]
  },
  {
   "cell_type": "code",
   "execution_count": 57,
   "metadata": {},
   "outputs": [],
   "source": [
    "def tokenize(text):\n",
    "    return word_tokenize(text)\n",
    "\n",
    "def remove_stop_words(text):\n",
    "    stop_words=stopwords.words('english')\n",
    "    return([token.lower() for token in text if token not in stop_words])\n",
    "\n",
    "def remove_punct(text):\n",
    "    puncts = \"~`!@#€$%^&*()_-+={[}]|\\/:;'<,>.?/\"\n",
    "    return ([char for char in text if char not in puncts])\n",
    "\n",
    "def stem_words(text):\n",
    "    stemmer = WordNetLemmatizer()\n",
    "    return ([stemmer.lemmatize(token) for token in text])\n",
    "\n",
    "def stem_words_more(text):\n",
    "    stemmer = PorterStemmer()\n",
    "    return ([stemmer.stem(token) for token in text])\n",
    "\n",
    "def cleaning_the_data(input):\n",
    "    return_list = []\n",
    "    for i in input:\n",
    "        return_list.append(stem_words_more(stem_words(remove_punct(remove_stop_words(tokenize(i))))))\n",
    "    return return_list\n",
    "\n",
    "def Mummy(doc):\n",
    "    return doc\n",
    "\n",
    "#cleaning_the_data =\"Hi how are you https://www.£4%^&*($djsdlkfui) thanking you and happyier\"\n",
    "#cleaning_the_data"
   ]
  },
  {
   "cell_type": "code",
   "execution_count": 58,
   "metadata": {},
   "outputs": [],
   "source": [
    "x,y= new.Tweets, new.Sentiment"
   ]
  },
  {
   "cell_type": "code",
   "execution_count": 59,
   "metadata": {},
   "outputs": [
    {
     "name": "stdout",
     "output_type": "stream",
     "text": [
      "X1-Train Shape:  (1296,) \n",
      "Y1-Train Shape: (1296,)\n",
      "X1-Test Shape:  (324,) \n",
      "Y1-Test Shape: (324,)\n"
     ]
    }
   ],
   "source": [
    "from sklearn.model_selection import train_test_split\n",
    "x_train, x_test, y_train, y_test = train_test_split(x,y,test_size = 0.20, random_state = 2)\n",
    "print(\"X1-Train Shape: \", x_train.shape,'\\n' \"Y1-Train Shape:\", y_train.shape)\n",
    "print(\"X1-Test Shape: \", x_test.shape,'\\n' \"Y1-Test Shape:\", y_test.shape)"
   ]
  },
  {
   "cell_type": "code",
   "execution_count": 60,
   "metadata": {},
   "outputs": [],
   "source": [
    "#cleaning_the_data =\"Hi how are you https://www.£4%^&*($djsdlkfui)\"\n",
    "#cleaning_the_data"
   ]
  },
  {
   "cell_type": "code",
   "execution_count": 61,
   "metadata": {},
   "outputs": [],
   "source": [
    "x_train = cleaning_the_data(x_train)\n",
    "x_test = cleaning_the_data(x_test)"
   ]
  },
  {
   "cell_type": "code",
   "execution_count": 62,
   "metadata": {},
   "outputs": [],
   "source": [
    "#x_train[:10]"
   ]
  },
  {
   "cell_type": "code",
   "execution_count": 63,
   "metadata": {},
   "outputs": [],
   "source": [
    "from sklearn.feature_extraction.text import TfidfVectorizer\n",
    "tfidf = TfidfVectorizer(analyzer='word', tokenizer=Mummy, preprocessor=Mummy, token_pattern=None)\n",
    "x_train = tfidf.fit_transform(x_train)\n",
    "x_test = tfidf.transform(x_test)\n",
    "#x_train[:2]"
   ]
  },
  {
   "cell_type": "markdown",
   "metadata": {},
   "source": [
    "# Model Building"
   ]
  },
  {
   "cell_type": "markdown",
   "metadata": {},
   "source": [
    "# NAIVE BAYES"
   ]
  },
  {
   "cell_type": "code",
   "execution_count": 64,
   "metadata": {},
   "outputs": [],
   "source": [
    "# It doesn't require as much training data. It handles both continuous and discrete data. \n",
    "# It is highly scalable with the number of predictors and data points. \n",
    "# It is fast and can be used to make real-time predictions"
   ]
  },
  {
   "cell_type": "code",
   "execution_count": 65,
   "metadata": {},
   "outputs": [],
   "source": [
    "# Naive Bayes\n",
    "from sklearn.naive_bayes import MultinomialNB\n",
    "from sklearn.metrics import accuracy_score, classification_report, precision_score, recall_score, confusion_matrix, roc_auc_score"
   ]
  },
  {
   "cell_type": "code",
   "execution_count": 66,
   "metadata": {},
   "outputs": [
    {
     "name": "stdout",
     "output_type": "stream",
     "text": [
      "----------------------------------------------------------------------\n",
      "\t\t MultinomialNB\n",
      "----------------------------------------------------------------------\n",
      "              precision    recall  f1-score   support\n",
      "\n",
      "    Negative       1.00      1.00      1.00        60\n",
      "     Neutral       1.00      1.00      1.00       181\n",
      "    Positive       1.00      1.00      1.00        83\n",
      "\n",
      "    accuracy                           1.00       324\n",
      "   macro avg       1.00      1.00      1.00       324\n",
      "weighted avg       1.00      1.00      1.00       324\n",
      "\n"
     ]
    }
   ],
   "source": [
    "print('-'*70)\n",
    "print('\\t\\t MultinomialNB')\n",
    "print('-'*70)\n",
    "\n",
    "model = MultinomialNB()\n",
    "\n",
    "model.fit (x_train, y_train)\n",
    "\n",
    "y_pred = model.predict(x_test)\n",
    "\n",
    "print(classification_report(y_test, y_pred))"
   ]
  },
  {
   "cell_type": "code",
   "execution_count": 67,
   "metadata": {},
   "outputs": [
    {
     "data": {
      "image/png": "[encoded data removed]",
      "text/plain": [
       "<Figure size 432x288 with 1 Axes>"
      ]
     },
     "metadata": {
      "needs_background": "light"
     },
     "output_type": "display_data"
    }
   ],
   "source": [
    "cm = pd.DataFrame(confusion_matrix(y_test, y_pred))\n",
    "cm\n",
    "sns.heatmap(cm,cbar=False,annot=True,cmap='Blues',fmt=\"d\")\n",
    "plt.xlabel(\"y_pred\")\n",
    "plt.ylabel(\"y_test\")\n",
    "plt.title(\"Confusion Matrix: MultinomialNB \")\n",
    "plt.show()"
   ]
  },
  {
   "cell_type": "code",
   "execution_count": 68,
   "metadata": {},
   "outputs": [
    {
     "data": {
      "text/html": [
       "<div>\n",
       "<style scoped>\n",
       "    .dataframe tbody tr th:only-of-type {\n",
       "        vertical-align: middle;\n",
       "    }\n",
       "\n",
       "    .dataframe tbody tr th {\n",
       "        vertical-align: top;\n",
       "    }\n",
       "\n",
       "    .dataframe thead th {\n",
       "        text-align: right;\n",
       "    }\n",
       "</style>\n",
       "<table border=\"1\" class=\"dataframe\">\n",
       "  <thead>\n",
       "    <tr style=\"text-align: right;\">\n",
       "      <th></th>\n",
       "      <th>0</th>\n",
       "      <th>1</th>\n",
       "      <th>2</th>\n",
       "    </tr>\n",
       "  </thead>\n",
       "  <tbody>\n",
       "    <tr>\n",
       "      <th>0</th>\n",
       "      <td>60</td>\n",
       "      <td>0</td>\n",
       "      <td>0</td>\n",
       "    </tr>\n",
       "    <tr>\n",
       "      <th>1</th>\n",
       "      <td>0</td>\n",
       "      <td>181</td>\n",
       "      <td>0</td>\n",
       "    </tr>\n",
       "    <tr>\n",
       "      <th>2</th>\n",
       "      <td>0</td>\n",
       "      <td>0</td>\n",
       "      <td>83</td>\n",
       "    </tr>\n",
       "  </tbody>\n",
       "</table>\n",
       "</div>"
      ],
      "text/plain": [
       "    0    1   2\n",
       "0  60    0   0\n",
       "1   0  181   0\n",
       "2   0    0  83"
      ]
     },
     "execution_count": 68,
     "metadata": {},
     "output_type": "execute_result"
    }
   ],
   "source": [
    "cm"
   ]
  },
  {
   "cell_type": "code",
   "execution_count": 69,
   "metadata": {},
   "outputs": [],
   "source": [
    "# Comparing with the Vader obtained Polarity(Positive/Negative/Neutral)"
   ]
  },
  {
   "cell_type": "code",
   "execution_count": 70,
   "metadata": {},
   "outputs": [],
   "source": [
    "# Comparision of the Actual Vader Sentiment Vs the Naive Bayes Predicted Sentiment"
   ]
  },
  {
   "cell_type": "code",
   "execution_count": 71,
   "metadata": {},
   "outputs": [
    {
     "data": {
      "text/html": [
       "<div>\n",
       "<style scoped>\n",
       "    .dataframe tbody tr th:only-of-type {\n",
       "        vertical-align: middle;\n",
       "    }\n",
       "\n",
       "    .dataframe tbody tr th {\n",
       "        vertical-align: top;\n",
       "    }\n",
       "\n",
       "    .dataframe thead th {\n",
       "        text-align: right;\n",
       "    }\n",
       "</style>\n",
       "<table border=\"1\" class=\"dataframe\">\n",
       "  <thead>\n",
       "    <tr style=\"text-align: right;\">\n",
       "      <th></th>\n",
       "      <th>tweet</th>\n",
       "      <th>Predicted_Sentiment</th>\n",
       "      <th>Actual_Sentiment</th>\n",
       "    </tr>\n",
       "  </thead>\n",
       "  <tbody>\n",
       "    <tr>\n",
       "      <th>45423</th>\n",
       "      <td>(0, 406)\\t0.2628755745869829\\n  (0, 349)\\t0....</td>\n",
       "      <td>Neutral</td>\n",
       "      <td>Neutral</td>\n",
       "    </tr>\n",
       "    <tr>\n",
       "      <th>247</th>\n",
       "      <td>(0, 406)\\t0.2628755745869829\\n  (0, 349)\\t0....</td>\n",
       "      <td>Neutral</td>\n",
       "      <td>Neutral</td>\n",
       "    </tr>\n",
       "    <tr>\n",
       "      <th>17199</th>\n",
       "      <td>(0, 406)\\t0.2628755745869829\\n  (0, 349)\\t0....</td>\n",
       "      <td>Positive</td>\n",
       "      <td>Positive</td>\n",
       "    </tr>\n",
       "    <tr>\n",
       "      <th>39929</th>\n",
       "      <td>(0, 406)\\t0.2628755745869829\\n  (0, 349)\\t0....</td>\n",
       "      <td>Neutral</td>\n",
       "      <td>Neutral</td>\n",
       "    </tr>\n",
       "    <tr>\n",
       "      <th>45495</th>\n",
       "      <td>(0, 406)\\t0.2628755745869829\\n  (0, 349)\\t0....</td>\n",
       "      <td>Neutral</td>\n",
       "      <td>Neutral</td>\n",
       "    </tr>\n",
       "    <tr>\n",
       "      <th>...</th>\n",
       "      <td>...</td>\n",
       "      <td>...</td>\n",
       "      <td>...</td>\n",
       "    </tr>\n",
       "    <tr>\n",
       "      <th>28893</th>\n",
       "      <td>(0, 406)\\t0.2628755745869829\\n  (0, 349)\\t0....</td>\n",
       "      <td>Positive</td>\n",
       "      <td>Positive</td>\n",
       "    </tr>\n",
       "    <tr>\n",
       "      <th>749</th>\n",
       "      <td>(0, 406)\\t0.2628755745869829\\n  (0, 349)\\t0....</td>\n",
       "      <td>Neutral</td>\n",
       "      <td>Neutral</td>\n",
       "    </tr>\n",
       "    <tr>\n",
       "      <th>23175</th>\n",
       "      <td>(0, 406)\\t0.2628755745869829\\n  (0, 349)\\t0....</td>\n",
       "      <td>Neutral</td>\n",
       "      <td>Neutral</td>\n",
       "    </tr>\n",
       "    <tr>\n",
       "      <th>17041</th>\n",
       "      <td>(0, 406)\\t0.2628755745869829\\n  (0, 349)\\t0....</td>\n",
       "      <td>Neutral</td>\n",
       "      <td>Neutral</td>\n",
       "    </tr>\n",
       "    <tr>\n",
       "      <th>5847</th>\n",
       "      <td>(0, 406)\\t0.2628755745869829\\n  (0, 349)\\t0....</td>\n",
       "      <td>Positive</td>\n",
       "      <td>Positive</td>\n",
       "    </tr>\n",
       "  </tbody>\n",
       "</table>\n",
       "<p>324 rows × 3 columns</p>\n",
       "</div>"
      ],
      "text/plain": [
       "                                                   tweet Predicted_Sentiment  \\\n",
       "45423    (0, 406)\\t0.2628755745869829\\n  (0, 349)\\t0....             Neutral   \n",
       "247      (0, 406)\\t0.2628755745869829\\n  (0, 349)\\t0....             Neutral   \n",
       "17199    (0, 406)\\t0.2628755745869829\\n  (0, 349)\\t0....            Positive   \n",
       "39929    (0, 406)\\t0.2628755745869829\\n  (0, 349)\\t0....             Neutral   \n",
       "45495    (0, 406)\\t0.2628755745869829\\n  (0, 349)\\t0....             Neutral   \n",
       "...                                                  ...                 ...   \n",
       "28893    (0, 406)\\t0.2628755745869829\\n  (0, 349)\\t0....            Positive   \n",
       "749      (0, 406)\\t0.2628755745869829\\n  (0, 349)\\t0....             Neutral   \n",
       "23175    (0, 406)\\t0.2628755745869829\\n  (0, 349)\\t0....             Neutral   \n",
       "17041    (0, 406)\\t0.2628755745869829\\n  (0, 349)\\t0....             Neutral   \n",
       "5847     (0, 406)\\t0.2628755745869829\\n  (0, 349)\\t0....            Positive   \n",
       "\n",
       "      Actual_Sentiment  \n",
       "45423          Neutral  \n",
       "247            Neutral  \n",
       "17199         Positive  \n",
       "39929          Neutral  \n",
       "45495          Neutral  \n",
       "...                ...  \n",
       "28893         Positive  \n",
       "749            Neutral  \n",
       "23175          Neutral  \n",
       "17041          Neutral  \n",
       "5847          Positive  \n",
       "\n",
       "[324 rows x 3 columns]"
      ]
     },
     "execution_count": 71,
     "metadata": {},
     "output_type": "execute_result"
    }
   ],
   "source": [
    "submission_result = pd.DataFrame({'tweet': x_test, 'Predicted_Sentiment':y_pred,'Actual_Sentiment': y_test})\n",
    "submission_result"
   ]
  },
  {
   "cell_type": "code",
   "execution_count": 72,
   "metadata": {},
   "outputs": [],
   "source": [
    "# from this we can tell that the Predicted Model of the naive bayes is 100% Matched with the Actual Sentiment as the Vader tool"
   ]
  },
  {
   "cell_type": "code",
   "execution_count": 73,
   "metadata": {},
   "outputs": [
    {
     "name": "stdout",
     "output_type": "stream",
     "text": [
      "Accuracy Score 1.0\n",
      "Model Score:  1.0\n"
     ]
    }
   ],
   "source": [
    "print(\"Accuracy Score\", accuracy_score(y_test, y_pred))\n",
    "print(\"Model Score: \", model.score(x_test, y_test))"
   ]
  },
  {
   "cell_type": "code",
   "execution_count": 74,
   "metadata": {},
   "outputs": [
    {
     "name": "stderr",
     "output_type": "stream",
     "text": [
      "C:\\Users\\user\\anaconda3\\envs\\MLEnv\\lib\\site-packages\\seaborn\\_decorators.py:43: FutureWarning: Pass the following variable as a keyword arg: x. From version 0.12, the only valid positional argument will be `data`, and passing other arguments without an explicit keyword will result in an error or misinterpretation.\n",
      "  FutureWarning\n"
     ]
    },
    {
     "data": {
      "text/plain": [
       "<AxesSubplot:ylabel='count'>"
      ]
     },
     "execution_count": 74,
     "metadata": {},
     "output_type": "execute_result"
    },
    {
     "data": {
      "image/png": "[encoded data removed]",
      "text/plain": [
       "<Figure size 432x288 with 1 Axes>"
      ]
     },
     "metadata": {
      "needs_background": "light"
     },
     "output_type": "display_data"
    }
   ],
   "source": [
    "\n",
    "sns.countplot(y_pred)"
   ]
  },
  {
   "cell_type": "markdown",
   "metadata": {},
   "source": [
    "# MultiLayer Perceptron Classifier "
   ]
  },
  {
   "cell_type": "code",
   "execution_count": 75,
   "metadata": {},
   "outputs": [],
   "source": [
    "#Importing MLPClassifier\n",
    "from sklearn.neural_network import MLPClassifier\n",
    "from sklearn.metrics import accuracy_score#,model_score\n",
    "from sklearn.metrics import mean_absolute_error,mean_squared_error ,r2_score"
   ]
  },
  {
   "cell_type": "code",
   "execution_count": 76,
   "metadata": {},
   "outputs": [],
   "source": [
    "# Label Encoding \n",
    "from sklearn import preprocessing\n",
    "from sklearn.preprocessing import LabelEncoder\n",
    "le = LabelEncoder()\n",
    "new_sentiment= le.fit_transform(new['Sentiment'])\n",
    "#0-> Neutral\n",
    "#1-> Negative\n",
    "#2-> Positive"
   ]
  },
  {
   "cell_type": "code",
   "execution_count": 77,
   "metadata": {},
   "outputs": [],
   "source": [
    "# Setting of Label Encoded variable\n",
    "y1= new_sentiment\n",
    "y1_train, y1_test = train_test_split(y1,test_size=0.20, shuffle= True)"
   ]
  },
  {
   "cell_type": "code",
   "execution_count": 78,
   "metadata": {},
   "outputs": [],
   "source": [
    "#Initializing the MLPClassifier\n",
    "classifier = MLPClassifier(hidden_layer_sizes=(150,100,50), max_iter=300,activation = 'relu',solver='adam',random_state=1)\n",
    "classifier.fit(x_train, y1_train)\n",
    "MLP_y_pred = classifier.predict(x_test)"
   ]
  },
  {
   "cell_type": "code",
   "execution_count": 79,
   "metadata": {},
   "outputs": [
    {
     "name": "stdout",
     "output_type": "stream",
     "text": [
      "----------------------------------------------------------------------\n",
      "\t\t MLPClassifier\n",
      "----------------------------------------------------------------------\n",
      "Accuracy of MLPClassifier : 0.5493827160493827\n",
      "R-Square value  -0.176421923474664\n",
      "Classification Report:                precision    recall  f1-score   support\n",
      "\n",
      "           0       0.14      0.03      0.05        60\n",
      "           1       0.58      0.91      0.71       189\n",
      "           2       0.31      0.05      0.09        75\n",
      "\n",
      "    accuracy                           0.55       324\n",
      "   macro avg       0.34      0.33      0.28       324\n",
      "weighted avg       0.44      0.55      0.44       324\n",
      "\n"
     ]
    }
   ],
   "source": [
    "\n",
    "print('-'*70)\n",
    "print('\\t\\t MLPClassifier')\n",
    "print('-'*70)\n",
    "\n",
    "#Comparing the predictions against the actual observations \n",
    "cm1 = confusion_matrix(y1_test, MLP_y_pred)\n",
    "cm1\n",
    "#Printing the accuracy\n",
    "print (\"Accuracy of MLPClassifier :\",accuracy_score(y1_test, MLP_y_pred))\n",
    "#print(\"Model Score: \", model_score(x_test, y_test))\n",
    "print(\"R-Square value \",r2_score(y1_test, MLP_y_pred))\n",
    "print(\"Classification Report: \", classification_report(y1_test, MLP_y_pred) )"
   ]
  },
  {
   "cell_type": "code",
   "execution_count": 80,
   "metadata": {},
   "outputs": [],
   "source": [
    "# Comparision of the Actual Vader Sentiment Vs the MLP Predicted Sentiment"
   ]
  },
  {
   "cell_type": "code",
   "execution_count": 81,
   "metadata": {},
   "outputs": [
    {
     "data": {
      "text/html": [
       "<div>\n",
       "<style scoped>\n",
       "    .dataframe tbody tr th:only-of-type {\n",
       "        vertical-align: middle;\n",
       "    }\n",
       "\n",
       "    .dataframe tbody tr th {\n",
       "        vertical-align: top;\n",
       "    }\n",
       "\n",
       "    .dataframe thead th {\n",
       "        text-align: right;\n",
       "    }\n",
       "</style>\n",
       "<table border=\"1\" class=\"dataframe\">\n",
       "  <thead>\n",
       "    <tr style=\"text-align: right;\">\n",
       "      <th></th>\n",
       "      <th>tweet</th>\n",
       "      <th>Predicted_Sentiment</th>\n",
       "      <th>Actual_Sentiment</th>\n",
       "    </tr>\n",
       "  </thead>\n",
       "  <tbody>\n",
       "    <tr>\n",
       "      <th>0</th>\n",
       "      <td>(0, 406)\\t0.2628755745869829\\n  (0, 349)\\t0....</td>\n",
       "      <td>1</td>\n",
       "      <td>0</td>\n",
       "    </tr>\n",
       "    <tr>\n",
       "      <th>1</th>\n",
       "      <td>(0, 406)\\t0.2628755745869829\\n  (0, 349)\\t0....</td>\n",
       "      <td>1</td>\n",
       "      <td>0</td>\n",
       "    </tr>\n",
       "    <tr>\n",
       "      <th>2</th>\n",
       "      <td>(0, 406)\\t0.2628755745869829\\n  (0, 349)\\t0....</td>\n",
       "      <td>1</td>\n",
       "      <td>2</td>\n",
       "    </tr>\n",
       "    <tr>\n",
       "      <th>3</th>\n",
       "      <td>(0, 406)\\t0.2628755745869829\\n  (0, 349)\\t0....</td>\n",
       "      <td>1</td>\n",
       "      <td>2</td>\n",
       "    </tr>\n",
       "    <tr>\n",
       "      <th>4</th>\n",
       "      <td>(0, 406)\\t0.2628755745869829\\n  (0, 349)\\t0....</td>\n",
       "      <td>1</td>\n",
       "      <td>0</td>\n",
       "    </tr>\n",
       "    <tr>\n",
       "      <th>...</th>\n",
       "      <td>...</td>\n",
       "      <td>...</td>\n",
       "      <td>...</td>\n",
       "    </tr>\n",
       "    <tr>\n",
       "      <th>319</th>\n",
       "      <td>(0, 406)\\t0.2628755745869829\\n  (0, 349)\\t0....</td>\n",
       "      <td>1</td>\n",
       "      <td>2</td>\n",
       "    </tr>\n",
       "    <tr>\n",
       "      <th>320</th>\n",
       "      <td>(0, 406)\\t0.2628755745869829\\n  (0, 349)\\t0....</td>\n",
       "      <td>1</td>\n",
       "      <td>0</td>\n",
       "    </tr>\n",
       "    <tr>\n",
       "      <th>321</th>\n",
       "      <td>(0, 406)\\t0.2628755745869829\\n  (0, 349)\\t0....</td>\n",
       "      <td>1</td>\n",
       "      <td>2</td>\n",
       "    </tr>\n",
       "    <tr>\n",
       "      <th>322</th>\n",
       "      <td>(0, 406)\\t0.2628755745869829\\n  (0, 349)\\t0....</td>\n",
       "      <td>1</td>\n",
       "      <td>1</td>\n",
       "    </tr>\n",
       "    <tr>\n",
       "      <th>323</th>\n",
       "      <td>(0, 406)\\t0.2628755745869829\\n  (0, 349)\\t0....</td>\n",
       "      <td>1</td>\n",
       "      <td>2</td>\n",
       "    </tr>\n",
       "  </tbody>\n",
       "</table>\n",
       "<p>324 rows × 3 columns</p>\n",
       "</div>"
      ],
      "text/plain": [
       "                                                 tweet  Predicted_Sentiment  \\\n",
       "0      (0, 406)\\t0.2628755745869829\\n  (0, 349)\\t0....                    1   \n",
       "1      (0, 406)\\t0.2628755745869829\\n  (0, 349)\\t0....                    1   \n",
       "2      (0, 406)\\t0.2628755745869829\\n  (0, 349)\\t0....                    1   \n",
       "3      (0, 406)\\t0.2628755745869829\\n  (0, 349)\\t0....                    1   \n",
       "4      (0, 406)\\t0.2628755745869829\\n  (0, 349)\\t0....                    1   \n",
       "..                                                 ...                  ...   \n",
       "319    (0, 406)\\t0.2628755745869829\\n  (0, 349)\\t0....                    1   \n",
       "320    (0, 406)\\t0.2628755745869829\\n  (0, 349)\\t0....                    1   \n",
       "321    (0, 406)\\t0.2628755745869829\\n  (0, 349)\\t0....                    1   \n",
       "322    (0, 406)\\t0.2628755745869829\\n  (0, 349)\\t0....                    1   \n",
       "323    (0, 406)\\t0.2628755745869829\\n  (0, 349)\\t0....                    1   \n",
       "\n",
       "     Actual_Sentiment  \n",
       "0                   0  \n",
       "1                   0  \n",
       "2                   2  \n",
       "3                   2  \n",
       "4                   0  \n",
       "..                ...  \n",
       "319                 2  \n",
       "320                 0  \n",
       "321                 2  \n",
       "322                 1  \n",
       "323                 2  \n",
       "\n",
       "[324 rows x 3 columns]"
      ]
     },
     "execution_count": 81,
     "metadata": {},
     "output_type": "execute_result"
    }
   ],
   "source": [
    "submission_result1 = pd.DataFrame({'tweet': x_test, 'Predicted_Sentiment':MLP_y_pred,'Actual_Sentiment': y1_test})\n",
    "submission_result1"
   ]
  },
  {
   "cell_type": "code",
   "execution_count": 82,
   "metadata": {},
   "outputs": [],
   "source": [
    "# from the Above we can say that the MLP performance is very Poor it has Accuracy has OF 45 %\n",
    "#0-> Neutral\n",
    "#1-> Negative\n",
    "#2-> Positive\n",
    "# A complete Difference and low Accuracy."
   ]
  },
  {
   "cell_type": "code",
   "execution_count": 83,
   "metadata": {},
   "outputs": [
    {
     "name": "stdout",
     "output_type": "stream",
     "text": [
      "Accuracy Score 0.5493827160493827\n"
     ]
    }
   ],
   "source": [
    "print(\"Accuracy Score\", accuracy_score(y1_test, MLP_y_pred))\n"
   ]
  },
  {
   "cell_type": "code",
   "execution_count": 84,
   "metadata": {},
   "outputs": [
    {
     "data": {
      "image/png": "[encoded data removed]",
      "text/plain": [
       "<Figure size 432x288 with 1 Axes>"
      ]
     },
     "metadata": {
      "needs_background": "light"
     },
     "output_type": "display_data"
    }
   ],
   "source": [
    "sns.heatmap(cm1,cbar=False,annot=True,cmap='Blues',fmt=\"d\")\n",
    "plt.xlabel(\"MLP_y_pred\")\n",
    "plt.ylabel(\"y1_test\")\n",
    "plt.title(\"Confusion Matrix: Support Vector Machine Learning-linear Kernel\")\n",
    "plt.show()"
   ]
  },
  {
   "cell_type": "code",
   "execution_count": 85,
   "metadata": {},
   "outputs": [
    {
     "name": "stderr",
     "output_type": "stream",
     "text": [
      "C:\\Users\\user\\anaconda3\\envs\\MLEnv\\lib\\site-packages\\seaborn\\_decorators.py:43: FutureWarning: Pass the following variable as a keyword arg: x. From version 0.12, the only valid positional argument will be `data`, and passing other arguments without an explicit keyword will result in an error or misinterpretation.\n",
      "  FutureWarning\n"
     ]
    },
    {
     "data": {
      "text/plain": [
       "<AxesSubplot:ylabel='count'>"
      ]
     },
     "execution_count": 85,
     "metadata": {},
     "output_type": "execute_result"
    },
    {
     "data": {
      "image/png": "[encoded data removed]",
      "text/plain": [
       "<Figure size 432x288 with 1 Axes>"
      ]
     },
     "metadata": {
      "needs_background": "light"
     },
     "output_type": "display_data"
    }
   ],
   "source": [
    "sns.countplot(MLP_y_pred)"
   ]
  },
  {
   "cell_type": "code",
   "execution_count": 86,
   "metadata": {},
   "outputs": [],
   "source": [
    "#0-> Neutral\n",
    "#1-> Negative\n",
    "#2-> Positive"
   ]
  },
  {
   "cell_type": "markdown",
   "metadata": {},
   "source": [
    "# PERCEPTRON"
   ]
  },
  {
   "cell_type": "code",
   "execution_count": 87,
   "metadata": {},
   "outputs": [],
   "source": [
    "from sklearn.linear_model import Perceptron"
   ]
  },
  {
   "cell_type": "code",
   "execution_count": 88,
   "metadata": {},
   "outputs": [
    {
     "name": "stdout",
     "output_type": "stream",
     "text": [
      "----------------------------------------------------------------------\n",
      "\t\t Perceptron\n",
      "----------------------------------------------------------------------\n",
      "              precision    recall  f1-score   support\n",
      "\n",
      "           0       0.19      0.52      0.28        60\n",
      "           1       0.62      0.22      0.33       189\n",
      "           2       0.16      0.21      0.19        75\n",
      "\n",
      "    accuracy                           0.27       324\n",
      "   macro avg       0.33      0.32      0.27       324\n",
      "weighted avg       0.43      0.27      0.29       324\n",
      "\n"
     ]
    }
   ],
   "source": [
    "print('-'*70)\n",
    "print('\\t\\t Perceptron')\n",
    "print('-'*70)\n",
    "nn = Perceptron()\n",
    "nn.fit(x_train, y1_train)\n",
    "nn_y_pred = nn.predict(x_test)\n",
    "print(classification_report(y1_test, nn_y_pred))"
   ]
  },
  {
   "cell_type": "code",
   "execution_count": 89,
   "metadata": {},
   "outputs": [
    {
     "name": "stdout",
     "output_type": "stream",
     "text": [
      "Accuracy Score 0.27469135802469136\n"
     ]
    }
   ],
   "source": [
    "print(\"Accuracy Score\", accuracy_score(y1_test, nn_y_pred))"
   ]
  },
  {
   "cell_type": "code",
   "execution_count": 90,
   "metadata": {},
   "outputs": [],
   "source": [
    "# Comparision of the Actual Vader Sentiment Vs the Perceptron Predicted Sentiment"
   ]
  },
  {
   "cell_type": "code",
   "execution_count": 91,
   "metadata": {},
   "outputs": [
    {
     "data": {
      "text/html": [
       "<div>\n",
       "<style scoped>\n",
       "    .dataframe tbody tr th:only-of-type {\n",
       "        vertical-align: middle;\n",
       "    }\n",
       "\n",
       "    .dataframe tbody tr th {\n",
       "        vertical-align: top;\n",
       "    }\n",
       "\n",
       "    .dataframe thead th {\n",
       "        text-align: right;\n",
       "    }\n",
       "</style>\n",
       "<table border=\"1\" class=\"dataframe\">\n",
       "  <thead>\n",
       "    <tr style=\"text-align: right;\">\n",
       "      <th></th>\n",
       "      <th>tweet</th>\n",
       "      <th>Predicted_Sentiment</th>\n",
       "      <th>Actual_Sentiment</th>\n",
       "    </tr>\n",
       "  </thead>\n",
       "  <tbody>\n",
       "    <tr>\n",
       "      <th>0</th>\n",
       "      <td>(0, 406)\\t0.2628755745869829\\n  (0, 349)\\t0....</td>\n",
       "      <td>0</td>\n",
       "      <td>0</td>\n",
       "    </tr>\n",
       "    <tr>\n",
       "      <th>1</th>\n",
       "      <td>(0, 406)\\t0.2628755745869829\\n  (0, 349)\\t0....</td>\n",
       "      <td>2</td>\n",
       "      <td>0</td>\n",
       "    </tr>\n",
       "    <tr>\n",
       "      <th>2</th>\n",
       "      <td>(0, 406)\\t0.2628755745869829\\n  (0, 349)\\t0....</td>\n",
       "      <td>0</td>\n",
       "      <td>2</td>\n",
       "    </tr>\n",
       "    <tr>\n",
       "      <th>3</th>\n",
       "      <td>(0, 406)\\t0.2628755745869829\\n  (0, 349)\\t0....</td>\n",
       "      <td>1</td>\n",
       "      <td>2</td>\n",
       "    </tr>\n",
       "    <tr>\n",
       "      <th>4</th>\n",
       "      <td>(0, 406)\\t0.2628755745869829\\n  (0, 349)\\t0....</td>\n",
       "      <td>2</td>\n",
       "      <td>0</td>\n",
       "    </tr>\n",
       "    <tr>\n",
       "      <th>...</th>\n",
       "      <td>...</td>\n",
       "      <td>...</td>\n",
       "      <td>...</td>\n",
       "    </tr>\n",
       "    <tr>\n",
       "      <th>319</th>\n",
       "      <td>(0, 406)\\t0.2628755745869829\\n  (0, 349)\\t0....</td>\n",
       "      <td>0</td>\n",
       "      <td>2</td>\n",
       "    </tr>\n",
       "    <tr>\n",
       "      <th>320</th>\n",
       "      <td>(0, 406)\\t0.2628755745869829\\n  (0, 349)\\t0....</td>\n",
       "      <td>1</td>\n",
       "      <td>0</td>\n",
       "    </tr>\n",
       "    <tr>\n",
       "      <th>321</th>\n",
       "      <td>(0, 406)\\t0.2628755745869829\\n  (0, 349)\\t0....</td>\n",
       "      <td>0</td>\n",
       "      <td>2</td>\n",
       "    </tr>\n",
       "    <tr>\n",
       "      <th>322</th>\n",
       "      <td>(0, 406)\\t0.2628755745869829\\n  (0, 349)\\t0....</td>\n",
       "      <td>2</td>\n",
       "      <td>1</td>\n",
       "    </tr>\n",
       "    <tr>\n",
       "      <th>323</th>\n",
       "      <td>(0, 406)\\t0.2628755745869829\\n  (0, 349)\\t0....</td>\n",
       "      <td>0</td>\n",
       "      <td>2</td>\n",
       "    </tr>\n",
       "  </tbody>\n",
       "</table>\n",
       "<p>324 rows × 3 columns</p>\n",
       "</div>"
      ],
      "text/plain": [
       "                                                 tweet  Predicted_Sentiment  \\\n",
       "0      (0, 406)\\t0.2628755745869829\\n  (0, 349)\\t0....                    0   \n",
       "1      (0, 406)\\t0.2628755745869829\\n  (0, 349)\\t0....                    2   \n",
       "2      (0, 406)\\t0.2628755745869829\\n  (0, 349)\\t0....                    0   \n",
       "3      (0, 406)\\t0.2628755745869829\\n  (0, 349)\\t0....                    1   \n",
       "4      (0, 406)\\t0.2628755745869829\\n  (0, 349)\\t0....                    2   \n",
       "..                                                 ...                  ...   \n",
       "319    (0, 406)\\t0.2628755745869829\\n  (0, 349)\\t0....                    0   \n",
       "320    (0, 406)\\t0.2628755745869829\\n  (0, 349)\\t0....                    1   \n",
       "321    (0, 406)\\t0.2628755745869829\\n  (0, 349)\\t0....                    0   \n",
       "322    (0, 406)\\t0.2628755745869829\\n  (0, 349)\\t0....                    2   \n",
       "323    (0, 406)\\t0.2628755745869829\\n  (0, 349)\\t0....                    0   \n",
       "\n",
       "     Actual_Sentiment  \n",
       "0                   0  \n",
       "1                   0  \n",
       "2                   2  \n",
       "3                   2  \n",
       "4                   0  \n",
       "..                ...  \n",
       "319                 2  \n",
       "320                 0  \n",
       "321                 2  \n",
       "322                 1  \n",
       "323                 2  \n",
       "\n",
       "[324 rows x 3 columns]"
      ]
     },
     "execution_count": 91,
     "metadata": {},
     "output_type": "execute_result"
    }
   ],
   "source": [
    "submission_result2 = pd.DataFrame({'tweet': x_test, 'Predicted_Sentiment':nn_y_pred,'Actual_Sentiment': y1_test})\n",
    "submission_result2"
   ]
  },
  {
   "cell_type": "code",
   "execution_count": 92,
   "metadata": {},
   "outputs": [
    {
     "name": "stderr",
     "output_type": "stream",
     "text": [
      "C:\\Users\\user\\anaconda3\\envs\\MLEnv\\lib\\site-packages\\seaborn\\_decorators.py:43: FutureWarning: Pass the following variable as a keyword arg: x. From version 0.12, the only valid positional argument will be `data`, and passing other arguments without an explicit keyword will result in an error or misinterpretation.\n",
      "  FutureWarning\n"
     ]
    },
    {
     "data": {
      "text/plain": [
       "<AxesSubplot:ylabel='count'>"
      ]
     },
     "execution_count": 92,
     "metadata": {},
     "output_type": "execute_result"
    },
    {
     "data": {
      "image/png": "[encoded data removed]",
      "text/plain": [
       "<Figure size 432x288 with 1 Axes>"
      ]
     },
     "metadata": {
      "needs_background": "light"
     },
     "output_type": "display_data"
    }
   ],
   "source": [
    "sns.countplot(nn_y_pred)"
   ]
  },
  {
   "cell_type": "code",
   "execution_count": 93,
   "metadata": {},
   "outputs": [],
   "source": [
    "#0-> Neutral\n",
    "#1-> Negative\n",
    "#2-> Positive"
   ]
  },
  {
   "cell_type": "code",
   "execution_count": 94,
   "metadata": {},
   "outputs": [],
   "source": [
    "# From this we can tell that the Accuracy is only 39% and we can look at  the actual vs the Predicted sentiment"
   ]
  },
  {
   "cell_type": "code",
   "execution_count": 95,
   "metadata": {},
   "outputs": [],
   "source": [
    "final = pd.DataFrame({'MODELS': [\"Naive Bayes\",\"MLP-Classifier\",\"Perceptron\"],\n",
    "'ACCURACY': [accuracy_score(y_test, y_pred),accuracy_score(y1_test, MLP_y_pred),accuracy_score(y1_test, nn_y_pred)] })"
   ]
  },
  {
   "cell_type": "code",
   "execution_count": 96,
   "metadata": {},
   "outputs": [
    {
     "data": {
      "text/html": [
       "<div>\n",
       "<style scoped>\n",
       "    .dataframe tbody tr th:only-of-type {\n",
       "        vertical-align: middle;\n",
       "    }\n",
       "\n",
       "    .dataframe tbody tr th {\n",
       "        vertical-align: top;\n",
       "    }\n",
       "\n",
       "    .dataframe thead th {\n",
       "        text-align: right;\n",
       "    }\n",
       "</style>\n",
       "<table border=\"1\" class=\"dataframe\">\n",
       "  <thead>\n",
       "    <tr style=\"text-align: right;\">\n",
       "      <th></th>\n",
       "      <th>MODELS</th>\n",
       "    </tr>\n",
       "    <tr>\n",
       "      <th>ACCURACY</th>\n",
       "      <th></th>\n",
       "    </tr>\n",
       "  </thead>\n",
       "  <tbody>\n",
       "    <tr>\n",
       "      <th>1.000000</th>\n",
       "      <td>Naive Bayes</td>\n",
       "    </tr>\n",
       "    <tr>\n",
       "      <th>0.549383</th>\n",
       "      <td>MLP-Classifier</td>\n",
       "    </tr>\n",
       "    <tr>\n",
       "      <th>0.274691</th>\n",
       "      <td>Perceptron</td>\n",
       "    </tr>\n",
       "  </tbody>\n",
       "</table>\n",
       "</div>"
      ],
      "text/plain": [
       "                  MODELS\n",
       "ACCURACY                \n",
       "1.000000     Naive Bayes\n",
       "0.549383  MLP-Classifier\n",
       "0.274691      Perceptron"
      ]
     },
     "execution_count": 96,
     "metadata": {},
     "output_type": "execute_result"
    }
   ],
   "source": [
    "# Each Model Strength and Weakness \n",
    "\n",
    "end= final.sort_values(by='ACCURACY', ascending=False)\n",
    "end_all = end.set_index('ACCURACY')\n",
    "end_all"
   ]
  },
  {
   "cell_type": "code",
   "execution_count": 97,
   "metadata": {},
   "outputs": [
    {
     "data": {
      "image/png": "[encoded data removed]",
      "text/plain": [
       "<Figure size 432x288 with 1 Axes>"
      ]
     },
     "metadata": {},
     "output_type": "display_data"
    }
   ],
   "source": [
    "sns.set_theme(style=\"whitegrid\")\n",
    "ax = sns.barplot(data = final, x=\"MODELS\", y=\"ACCURACY\")"
   ]
  },
  {
   "cell_type": "code",
   "execution_count": 98,
   "metadata": {},
   "outputs": [],
   "source": [
    "# From this Study we can understand abou the Vader Sentiment Tool and its Comparision with THE DESIGNED model "
   ]
  },
  {
   "cell_type": "code",
   "execution_count": 99,
   "metadata": {},
   "outputs": [],
   "source": [
    "# Best Model with the exact prediction on compared with the Vader is Naive Bayes with 100% Acuraccy \n",
    "# other Models produce very Less Acuraccy"
   ]
  }
 ],
 "metadata": {
  "kernelspec": {
   "display_name": "Python 3",
   "language": "python",
   "name": "python3"
  },
  "language_info": {
   "codemirror_mode": {
    "name": "ipython",
    "version": 3
   },
   "file_extension": ".py",
   "mimetype": "text/x-python",
   "name": "python",
   "nbconvert_exporter": "python",
   "pygments_lexer": "ipython3",
   "version": "3.7.9"
  }
 },
 "nbformat": 4,
 "nbformat_minor": 4
}
